{
 "cells": [
  {
   "cell_type": "code",
   "execution_count": 2,
   "metadata": {},
   "outputs": [],
   "source": [
    "import os\n",
    "import sys\n",
    "\n",
    "# Добавляем корневую директорию проекта в sys.path\n",
    "sys.path.append(os.path.abspath(os.path.join(os.getcwd(), \"../../\")))\n",
    "\n",
    "# Импортируем metrics из utils\n",
    "from utils import metrics as mtc"
   ]
  },
  {
   "cell_type": "code",
   "execution_count": 3,
   "metadata": {},
   "outputs": [],
   "source": [
    "import matplotlib.pyplot as plt\n",
    "import numpy as np\n",
    "import pandas as pd\n",
    "from sklearn.feature_extraction.text import TfidfVectorizer\n",
    "from sklearn.metrics.pairwise import cosine_similarity"
   ]
  },
  {
   "cell_type": "markdown",
   "metadata": {},
   "source": [
    "# Готовим дата-сеты с регионом"
   ]
  },
  {
   "cell_type": "code",
   "execution_count": 4,
   "metadata": {},
   "outputs": [],
   "source": [
    "reference = pd.read_csv(\"../../data/reference.csv\")\n",
    "train = pd.read_csv(\"../../data/splited/train.csv\")\n",
    "valid = pd.read_csv(\"../../data/splited/valid.csv\")\n",
    "test = pd.read_csv(\"../../data/splited/test.csv\")"
   ]
  },
  {
   "cell_type": "code",
   "execution_count": 5,
   "metadata": {},
   "outputs": [
    {
     "name": "stdout",
     "output_type": "stream",
     "text": [
      "<class 'pandas.core.frame.DataFrame'>\n",
      "RangeIndex: 305 entries, 0 to 304\n",
      "Data columns (total 3 columns):\n",
      " #   Column  Non-Null Count  Dtype \n",
      "---  ------  --------------  ----- \n",
      " 0   id      305 non-null    int64 \n",
      " 1   name    305 non-null    object\n",
      " 2   region  305 non-null    object\n",
      "dtypes: int64(1), object(2)\n",
      "memory usage: 7.3+ KB\n"
     ]
    }
   ],
   "source": [
    "reference.info()"
   ]
  },
  {
   "cell_type": "code",
   "execution_count": 6,
   "metadata": {},
   "outputs": [
    {
     "name": "stdout",
     "output_type": "stream",
     "text": [
      "<class 'pandas.core.frame.DataFrame'>\n",
      "RangeIndex: 551 entries, 0 to 550\n",
      "Data columns (total 2 columns):\n",
      " #   Column     Non-Null Count  Dtype \n",
      "---  ------     --------------  ----- \n",
      " 0   name       551 non-null    object\n",
      " 1   school_id  551 non-null    int64 \n",
      "dtypes: int64(1), object(1)\n",
      "memory usage: 8.7+ KB\n"
     ]
    }
   ],
   "source": [
    "train.info()"
   ]
  },
  {
   "cell_type": "code",
   "execution_count": 7,
   "metadata": {},
   "outputs": [
    {
     "name": "stdout",
     "output_type": "stream",
     "text": [
      "<class 'pandas.core.frame.DataFrame'>\n",
      "RangeIndex: 184 entries, 0 to 183\n",
      "Data columns (total 2 columns):\n",
      " #   Column     Non-Null Count  Dtype \n",
      "---  ------     --------------  ----- \n",
      " 0   name       184 non-null    object\n",
      " 1   school_id  184 non-null    int64 \n",
      "dtypes: int64(1), object(1)\n",
      "memory usage: 3.0+ KB\n"
     ]
    }
   ],
   "source": [
    "valid.info()"
   ]
  },
  {
   "cell_type": "code",
   "execution_count": 8,
   "metadata": {},
   "outputs": [
    {
     "data": {
      "text/html": [
       "<div>\n",
       "<style scoped>\n",
       "    .dataframe tbody tr th:only-of-type {\n",
       "        vertical-align: middle;\n",
       "    }\n",
       "\n",
       "    .dataframe tbody tr th {\n",
       "        vertical-align: top;\n",
       "    }\n",
       "\n",
       "    .dataframe thead th {\n",
       "        text-align: right;\n",
       "    }\n",
       "</style>\n",
       "<table border=\"1\" class=\"dataframe\">\n",
       "  <thead>\n",
       "    <tr style=\"text-align: right;\">\n",
       "      <th></th>\n",
       "      <th>id</th>\n",
       "      <th>name</th>\n",
       "      <th>region</th>\n",
       "    </tr>\n",
       "  </thead>\n",
       "  <tbody>\n",
       "    <tr>\n",
       "      <th>0</th>\n",
       "      <td>69</td>\n",
       "      <td>Кировска</td>\n",
       "      <td>Мурманская область</td>\n",
       "    </tr>\n",
       "    <tr>\n",
       "      <th>1</th>\n",
       "      <td>70</td>\n",
       "      <td>Клин спортивный</td>\n",
       "      <td>Московская область</td>\n",
       "    </tr>\n",
       "    <tr>\n",
       "      <th>2</th>\n",
       "      <td>71</td>\n",
       "      <td>КО СШ по ЗВС</td>\n",
       "      <td>Калининградская область</td>\n",
       "    </tr>\n",
       "    <tr>\n",
       "      <th>3</th>\n",
       "      <td>8</td>\n",
       "      <td>Айсберг</td>\n",
       "      <td>Свердловская область</td>\n",
       "    </tr>\n",
       "    <tr>\n",
       "      <th>4</th>\n",
       "      <td>73</td>\n",
       "      <td>Команда Дмитриева</td>\n",
       "      <td>Челябинская область</td>\n",
       "    </tr>\n",
       "  </tbody>\n",
       "</table>\n",
       "</div>"
      ],
      "text/plain": [
       "   id               name                   region\n",
       "0  69           Кировска       Мурманская область\n",
       "1  70    Клин спортивный       Московская область\n",
       "2  71       КО СШ по ЗВС  Калининградская область\n",
       "3   8            Айсберг     Свердловская область\n",
       "4  73  Команда Дмитриева      Челябинская область"
      ]
     },
     "execution_count": 8,
     "metadata": {},
     "output_type": "execute_result"
    }
   ],
   "source": [
    "reference.head()"
   ]
  },
  {
   "cell_type": "code",
   "execution_count": 9,
   "metadata": {},
   "outputs": [],
   "source": [
    "reference.region = reference.region.str.lower().str.strip()"
   ]
  },
  {
   "cell_type": "code",
   "execution_count": 10,
   "metadata": {},
   "outputs": [],
   "source": [
    "reference.region = reference.region.str.replace(\"г \", \"\")\n",
    "reference.region = reference.region.str.replace(\"г. \", \"\")\n",
    "reference.region = reference.region.str.replace(\"г.\", \"\")\n",
    "reference.region = reference.region.str.replace(\n",
    "    \"хмао-югра\", \"ханты мансийский автономный округ\"\n",
    ")\n",
    "reference.region = reference.region.str.replace(\"спб\", \"санкт петербург\")\n",
    "reference.region = reference.region.str.replace(\n",
    "    \"ямало-ненецкий ао\", \"ямало ненецкий автономный округ\"\n",
    ")\n",
    "reference.region = reference.region.str.replace(\n",
    "    \"республика чувашия\", \"чувашская республика\"\n",
    ")\n",
    "reference.region = reference.region.str.replace(\"северодвинск\", \"архангельская область\")\n",
    "reference.region = reference.region.str.replace(\n",
    "    \"набережные челны\", \"республика татарстан\"\n",
    ")\n",
    "reference.region = reference.region.str.replace(\"санкт-петербург\", \"санкт петербург\")"
   ]
  },
  {
   "cell_type": "code",
   "execution_count": 11,
   "metadata": {},
   "outputs": [
    {
     "data": {
      "text/plain": [
       "array(['алтайский край', 'архангельская область', 'астраханская область',\n",
       "       'белгородская область', 'брянская область', 'владимирская область',\n",
       "       'волгоградская область', 'вологодская область',\n",
       "       'воронежская область', 'забайкальский край', 'ивановская область',\n",
       "       'иркутская область', 'калининградская область',\n",
       "       'калужская область', 'кемеровская область', 'кировская область',\n",
       "       'костромская область', 'краснодарский край', 'красноярский край',\n",
       "       'курганская область', 'курская область', 'ленинградская область',\n",
       "       'липецкая область', 'москва', 'московская область',\n",
       "       'мурманская область', 'нижегородская область',\n",
       "       'новгородская область', 'новосибирская область', 'омская область',\n",
       "       'оренбургская область', 'орловская область', 'пензенская область',\n",
       "       'пермский край', 'приморский край', 'псковская область',\n",
       "       'республика башкортостан', 'республика карелия', 'республика коми',\n",
       "       'республика крым', 'республика марий эл', 'республика мордовия',\n",
       "       'республика саха', 'республика татарстан', 'ростовская область',\n",
       "       'рязанская область', 'самарская область', 'санкт петербург',\n",
       "       'саратовская область', 'сахалинская область',\n",
       "       'свердловская область', 'севастополь', 'смоленская область',\n",
       "       'ставропольский край', 'тамбовская область', 'тверская область',\n",
       "       'томская область', 'тульская область', 'тюменская область',\n",
       "       'удмуртская республика', 'хабаровский край',\n",
       "       'ханты мансийский автономный округ', 'челябинская область',\n",
       "       'чувашская республика', 'ямало ненецкий автономный округ',\n",
       "       'ярославская область'], dtype=object)"
      ]
     },
     "execution_count": 11,
     "metadata": {},
     "output_type": "execute_result"
    }
   ],
   "source": [
    "reference.region.sort_values().unique()"
   ]
  },
  {
   "cell_type": "code",
   "execution_count": 12,
   "metadata": {},
   "outputs": [],
   "source": [
    "valid = pd.read_csv(\"../../data/preprocessed/cosine_region/valid_region.csv\", sep=\";\")"
   ]
  },
  {
   "cell_type": "code",
   "execution_count": 13,
   "metadata": {},
   "outputs": [
    {
     "data": {
      "text/html": [
       "<div>\n",
       "<style scoped>\n",
       "    .dataframe tbody tr th:only-of-type {\n",
       "        vertical-align: middle;\n",
       "    }\n",
       "\n",
       "    .dataframe tbody tr th {\n",
       "        vertical-align: top;\n",
       "    }\n",
       "\n",
       "    .dataframe thead th {\n",
       "        text-align: right;\n",
       "    }\n",
       "</style>\n",
       "<table border=\"1\" class=\"dataframe\">\n",
       "  <thead>\n",
       "    <tr style=\"text-align: right;\">\n",
       "      <th></th>\n",
       "      <th>name</th>\n",
       "      <th>school_id</th>\n",
       "      <th>region</th>\n",
       "    </tr>\n",
       "  </thead>\n",
       "  <tbody>\n",
       "    <tr>\n",
       "      <th>0</th>\n",
       "      <td>сшор</td>\n",
       "      <td>198</td>\n",
       "      <td>санкт петербург</td>\n",
       "    </tr>\n",
       "    <tr>\n",
       "      <th>1</th>\n",
       "      <td>мауо до сш 11</td>\n",
       "      <td>184</td>\n",
       "      <td>липецкая область</td>\n",
       "    </tr>\n",
       "    <tr>\n",
       "      <th>2</th>\n",
       "      <td>ано лига фигурного катания</td>\n",
       "      <td>293</td>\n",
       "      <td>москва</td>\n",
       "    </tr>\n",
       "    <tr>\n",
       "      <th>3</th>\n",
       "      <td>кфк динамо</td>\n",
       "      <td>277</td>\n",
       "      <td>санкт петербург</td>\n",
       "    </tr>\n",
       "    <tr>\n",
       "      <th>4</th>\n",
       "      <td>мбау всшор</td>\n",
       "      <td>35</td>\n",
       "      <td>ленинградская область</td>\n",
       "    </tr>\n",
       "  </tbody>\n",
       "</table>\n",
       "</div>"
      ],
      "text/plain": [
       "                         name  school_id                 region\n",
       "0                        сшор        198        санкт петербург\n",
       "1               мауо до сш 11        184       липецкая область\n",
       "2  ано лига фигурного катания        293                 москва\n",
       "3                  кфк динамо        277        санкт петербург\n",
       "4                  мбау всшор         35  ленинградская область"
      ]
     },
     "execution_count": 13,
     "metadata": {},
     "output_type": "execute_result"
    }
   ],
   "source": [
    "valid.head()"
   ]
  },
  {
   "cell_type": "markdown",
   "metadata": {},
   "source": [
    "### Преобразования в np.array"
   ]
  },
  {
   "cell_type": "markdown",
   "metadata": {},
   "source": []
  },
  {
   "cell_type": "code",
   "execution_count": 14,
   "metadata": {},
   "outputs": [],
   "source": [
    "x = valid[\"name\"].to_numpy(dtype=\"str\").flatten()\n",
    "y = valid[\"school_id\"].to_numpy(dtype=\"int\").flatten()\n",
    "region = valid[\"region\"].to_numpy(dtype=\"str\").flatten()\n",
    "reference_id = reference[\"id\"].to_numpy(dtype=\"int\").flatten()\n",
    "reference_name = reference[\"name\"].to_numpy(dtype=\"str\").flatten()\n",
    "reference_region = reference[\"region\"].to_numpy(dtype=\"str\").flatten()"
   ]
  },
  {
   "cell_type": "markdown",
   "metadata": {},
   "source": [
    "# Построение модели"
   ]
  },
  {
   "cell_type": "code",
   "execution_count": 15,
   "metadata": {},
   "outputs": [],
   "source": [
    "from sklearn.metrics.pairwise import euclidean_distances, manhattan_distances\n",
    "\n",
    "\n",
    "def calculate_similarity(x, y, method=\"cosine\"):\n",
    "    if method == \"cosine\":\n",
    "        return cosine_similarity(x, y)\n",
    "    elif method == \"euclidean\":\n",
    "        return -euclidean_distances(x, y)  # Инвертируем, чтобы максимизировать схожесть\n",
    "    elif method == \"manhattan\":\n",
    "        return -manhattan_distances(x, y)  # Инвертируем, чтобы максимизировать схожесть\n",
    "    else:\n",
    "        raise ValueError(f\"Unknown similarity method: {method}\")"
   ]
  },
  {
   "cell_type": "code",
   "execution_count": 16,
   "metadata": {},
   "outputs": [],
   "source": [
    "def find_matches(\n",
    "    x_vec,\n",
    "    x_region,\n",
    "    reference_id,\n",
    "    reference_vec,\n",
    "    reference_region,\n",
    "    top_k=5,\n",
    "    threshold=0.9,\n",
    "    filter_by_region=True,\n",
    "    empty_region=\"all\",\n",
    "    similarity_method=\"cosine\",\n",
    "):\n",
    "    y_pred = []\n",
    "    manual_review = []\n",
    "\n",
    "    for i, x in enumerate(x_vec):\n",
    "        # Фильтруем reference_vec и reference_id по текущему региону, если включена фильтрация по регионам\n",
    "        if filter_by_region:\n",
    "            # Фильтруем reference_vec и reference_id по текущему региону\n",
    "            current_region = x_region[i]\n",
    "            region_mask = reference_region == current_region\n",
    "            filtered_reference_vec = reference_vec[region_mask]\n",
    "            filtered_reference_id = reference_id[region_mask]\n",
    "\n",
    "            # Способ обработки, если в текущем регионе нет школ для сравнения\n",
    "            if empty_region == \"all\":\n",
    "                # Если в текущем регионе нет школ для сравнения, используем все школы\n",
    "                if filtered_reference_vec.shape[0] == 0:\n",
    "                    filtered_reference_vec = reference_vec\n",
    "                    filtered_reference_id = reference_id\n",
    "            else:\n",
    "                if filtered_reference_vec.shape[0] == 0:\n",
    "                    # Если в текущем регионе нет школ для сравнения, то помечаем на ручную обработку\n",
    "                    manual_review.append(x)\n",
    "                    top_matches = [(None, 0.0)] * top_k\n",
    "                    y_pred.append(top_matches)\n",
    "                    continue\n",
    "        else:\n",
    "            filtered_reference_vec = reference_vec\n",
    "            filtered_reference_id = reference_id\n",
    "\n",
    "        # Вычисляем выбранное расстояние\n",
    "        similarities = calculate_similarity(\n",
    "            x, filtered_reference_vec, method=similarity_method\n",
    "        ).flatten()\n",
    "        top_indices = similarities.argsort()[-top_k:][::-1]\n",
    "        max_similarity = max(similarities)\n",
    "\n",
    "        # Учитываем пороговое значение для различных методов\n",
    "        if similarity_method == \"cosine\":\n",
    "            if max_similarity < threshold:\n",
    "                manual_review.append(x)\n",
    "                top_matches = [(None, 0.0)] * top_k\n",
    "            else:\n",
    "                top_matches = [\n",
    "                    (filtered_reference_id[i], similarities[i]) for i in top_indices\n",
    "                ]\n",
    "                if len(top_matches) < top_k:\n",
    "                    top_matches += [(None, 0.0)] * (top_k - len(top_matches))\n",
    "        else:  # Для других методов расстояний (евклидово и манхэттенское)\n",
    "            if max_similarity > -threshold:  # Обратите внимание на инверсию\n",
    "                manual_review.append(x)\n",
    "                top_matches = [(None, 0.0)] * top_k\n",
    "            else:\n",
    "                top_matches = [\n",
    "                    (filtered_reference_id[i], -similarities[i]) for i in top_indices\n",
    "                ]\n",
    "                if len(top_matches) < top_k:\n",
    "                    top_matches += [(None, 0.0)] * (top_k - len(top_matches))\n",
    "\n",
    "        y_pred.append(top_matches)\n",
    "\n",
    "    return y_pred, manual_review"
   ]
  },
  {
   "cell_type": "markdown",
   "metadata": {},
   "source": [
    "# Использование модели"
   ]
  },
  {
   "cell_type": "code",
   "execution_count": 17,
   "metadata": {},
   "outputs": [],
   "source": [
    "# Векторизация текстов\n",
    "vectorizer = TfidfVectorizer().fit(np.append(x, reference_name))\n",
    "x_vec = vectorizer.transform(x)\n",
    "reference_vec = vectorizer.transform(reference_name)"
   ]
  },
  {
   "cell_type": "code",
   "execution_count": 33,
   "metadata": {},
   "outputs": [
    {
     "data": {
      "image/png": "[encoded data removed]",
      "text/plain": [
       "<Figure size 800x500 with 1 Axes>"
      ]
     },
     "metadata": {},
     "output_type": "display_data"
    }
   ],
   "source": [
    "# Массив значений threshold\n",
    "threshold_values = np.linspace(-0.1, 1.0, 25)\n",
    "\n",
    "# Запуск функции и сбор метрик\n",
    "metrics_list = []\n",
    "for threshold in threshold_values:\n",
    "    y_pred, manual_review = find_matches(\n",
    "        x_vec,\n",
    "        region,\n",
    "        reference_id,\n",
    "        reference_vec,\n",
    "        reference_region,\n",
    "        top_k=5,\n",
    "        threshold=threshold,\n",
    "        filter_by_region=True,\n",
    "        empty_region=\"all\",\n",
    "        # similarity_method=\"euclidean\",\n",
    "        similarity_method=\"cosine\",\n",
    "        # similarity_method=\"manhattan\",\n",
    "    )\n",
    "    metrics = mtc.calculate_metrics(y, y_pred, manual_review)\n",
    "    metrics_list.append(metrics)\n",
    "\n",
    "# Преобразование метрик в удобный формат для построения графика\n",
    "auto_error_rate_values = [metrics[\"auto_error_rate\"] for metrics in metrics_list]\n",
    "manual_processing_rate_values = [\n",
    "    metrics[\"manual_processing_rate\"] for metrics in metrics_list\n",
    "]\n",
    "# general_spend_values = [metrics['general_spend'] for metrics in metrics_list]\n",
    "general_error_values = [metrics[\"general_error\"] for metrics in metrics_list]\n",
    "\n",
    "# Определение общих границ для оси y\n",
    "y_min = min(min(auto_error_rate_values), min(manual_processing_rate_values))\n",
    "y_max = max(max(auto_error_rate_values), max(manual_processing_rate_values))\n",
    "\n",
    "# Построение графика\n",
    "plt.figure(figsize=(8, 5))\n",
    "\n",
    "# plt.subplot(1, 2, 1)\n",
    "plt.plot(threshold_values, auto_error_rate_values, label=\"Automation Error Rate\")\n",
    "plt.plot(\n",
    "    threshold_values,\n",
    "    manual_processing_rate_values,\n",
    "    label=\"Manual Processing Rate\",\n",
    ")\n",
    "plt.plot(threshold_values, general_error_values, label=\"General Error\")\n",
    "plt.xlabel(\"Threshold\")\n",
    "plt.ylabel(\"Rate\")\n",
    "plt.title(\"Automation Error Rate and Manual Processing Rate\")\n",
    "plt.legend()\n",
    "\n",
    "plt.show()"
   ]
  },
  {
   "cell_type": "code",
   "execution_count": 35,
   "metadata": {},
   "outputs": [
    {
     "data": {
      "text/plain": [
       "{'threshold_values': [-0.1,\n",
       "  -0.05416666666666667,\n",
       "  -0.008333333333333331,\n",
       "  0.037500000000000006,\n",
       "  0.08333333333333334,\n",
       "  0.12916666666666668,\n",
       "  0.17500000000000002,\n",
       "  0.22083333333333335,\n",
       "  0.2666666666666667,\n",
       "  0.3125,\n",
       "  0.3583333333333334,\n",
       "  0.4041666666666667,\n",
       "  0.45000000000000007,\n",
       "  0.49583333333333346,\n",
       "  0.5416666666666667,\n",
       "  0.5875,\n",
       "  0.6333333333333334,\n",
       "  0.6791666666666668,\n",
       "  0.7250000000000001,\n",
       "  0.7708333333333334,\n",
       "  0.8166666666666668,\n",
       "  0.8625000000000002,\n",
       "  0.9083333333333333,\n",
       "  0.9541666666666667,\n",
       "  1.0],\n",
       " 'auto_error_rate_values': [0.147,\n",
       "  0.147,\n",
       "  0.147,\n",
       "  0.133,\n",
       "  0.133,\n",
       "  0.133,\n",
       "  0.128,\n",
       "  0.124,\n",
       "  0.119,\n",
       "  0.11,\n",
       "  0.107,\n",
       "  0.092,\n",
       "  0.089,\n",
       "  0.087,\n",
       "  0.087,\n",
       "  0.067,\n",
       "  0.061,\n",
       "  0.04,\n",
       "  0.034,\n",
       "  0.043,\n",
       "  0.056,\n",
       "  0.057,\n",
       "  0.08,\n",
       "  0.095,\n",
       "  0.095],\n",
       " 'manual_processing_rate_values': [0.0,\n",
       "  0.0,\n",
       "  0.0,\n",
       "  0.022,\n",
       "  0.022,\n",
       "  0.022,\n",
       "  0.027,\n",
       "  0.038,\n",
       "  0.043,\n",
       "  0.065,\n",
       "  0.087,\n",
       "  0.114,\n",
       "  0.141,\n",
       "  0.19,\n",
       "  0.25,\n",
       "  0.353,\n",
       "  0.467,\n",
       "  0.592,\n",
       "  0.685,\n",
       "  0.75,\n",
       "  0.804,\n",
       "  0.81,\n",
       "  0.864,\n",
       "  0.886,\n",
       "  0.886],\n",
       " 'general_error_values': [0.147,\n",
       "  0.147,\n",
       "  0.147,\n",
       "  0.13,\n",
       "  0.13,\n",
       "  0.13,\n",
       "  0.125,\n",
       "  0.12,\n",
       "  0.114,\n",
       "  0.103,\n",
       "  0.098,\n",
       "  0.082,\n",
       "  0.076,\n",
       "  0.071,\n",
       "  0.065,\n",
       "  0.043,\n",
       "  0.033,\n",
       "  0.016,\n",
       "  0.011,\n",
       "  0.011,\n",
       "  0.011,\n",
       "  0.011,\n",
       "  0.011,\n",
       "  0.011,\n",
       "  0.011]}"
      ]
     },
     "execution_count": 35,
     "metadata": {},
     "output_type": "execute_result"
    }
   ],
   "source": [
    "plots_json = {\n",
    "    \"threshold_values\": threshold_values.tolist(),\n",
    "    \"auto_error_rate_values\": auto_error_rate_values,\n",
    "    \"manual_processing_rate_values\": manual_processing_rate_values,\n",
    "    \"general_error_values\": general_error_values,\n",
    "}\n",
    "plots_json\n"
   ]
  },
  {
   "cell_type": "code",
   "execution_count": 32,
   "metadata": {},
   "outputs": [
    {
     "data": {
      "text/plain": [
       "{'Accuracy@1': 0.853,\n",
       " 'Accuracy@3': 0.924,\n",
       " 'Accuracy@5': 0.935,\n",
       " 'auto_error_rate': 0.147,\n",
       " 'manual_processing_rate': 0.0,\n",
       " 'general_error': 0.147}"
      ]
     },
     "execution_count": 32,
     "metadata": {},
     "output_type": "execute_result"
    }
   ],
   "source": [
    "y_pred, manual_review = find_matches(\n",
    "    x_vec,\n",
    "    region,\n",
    "    reference_id,\n",
    "    reference_vec,\n",
    "    reference_region,\n",
    "    top_k=5,\n",
    "    threshold=-1,\n",
    "    filter_by_region=True,\n",
    "    empty_region=\"all\",  # is ignored if filter_by_region=False\n",
    "    # similarity_method=\"euclidean\",\n",
    "    similarity_method=\"cosine\",\n",
    "    # similarity_method=\"manhattan\",\n",
    ")\n",
    "\n",
    "metrics = mtc.calculate_metrics(y, y_pred, manual_review)\n",
    "metrics"
   ]
  },
  {
   "cell_type": "code",
   "execution_count": null,
   "metadata": {},
   "outputs": [],
   "source": []
  },
  {
   "cell_type": "code",
   "execution_count": null,
   "metadata": {},
   "outputs": [],
   "source": []
  }
 ],
 "metadata": {
  "kernelspec": {
   "display_name": ".venv",
   "language": "python",
   "name": "python3"
  },
  "language_info": {
   "codemirror_mode": {
    "name": "ipython",
    "version": 3
   },
   "file_extension": ".py",
   "mimetype": "text/x-python",
   "name": "python",
   "nbconvert_exporter": "python",
   "pygments_lexer": "ipython3",
   "version": "3.12.3"
  }
 },
 "nbformat": 4,
 "nbformat_minor": 2
}
