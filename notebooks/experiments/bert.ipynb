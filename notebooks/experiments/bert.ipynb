{
 "cells": [
  {
   "cell_type": "code",
   "execution_count": 1,
   "metadata": {},
   "outputs": [],
   "source": [
    "import matplotlib.pyplot as plt\n",
    "import numpy as np\n",
    "import pandas as pd\n",
    "import torch\n",
    "from sklearn.metrics.pairwise import cosine_similarity\n",
    "from transformers import BertModel, BertTokenizer"
   ]
  },
  {
   "cell_type": "markdown",
   "metadata": {},
   "source": [
    "Для реализации задачи обучение модели не требуется. Используем сразу валидационный датасет"
   ]
  },
  {
   "cell_type": "code",
   "execution_count": 2,
   "metadata": {},
   "outputs": [],
   "source": [
    "valid = pd.read_csv(\"../../data/preprocessed/bert/valid.csv\")\n",
    "reference = pd.read_csv(\"../../data/preprocessed/bert/reference.csv\")"
   ]
  },
  {
   "cell_type": "code",
   "execution_count": 3,
   "metadata": {},
   "outputs": [
    {
     "name": "stdout",
     "output_type": "stream",
     "text": [
      "<class 'pandas.core.frame.DataFrame'>\n",
      "RangeIndex: 184 entries, 0 to 183\n",
      "Data columns (total 2 columns):\n",
      " #   Column     Non-Null Count  Dtype \n",
      "---  ------     --------------  ----- \n",
      " 0   name       184 non-null    object\n",
      " 1   school_id  184 non-null    int64 \n",
      "dtypes: int64(1), object(1)\n",
      "memory usage: 3.0+ KB\n"
     ]
    }
   ],
   "source": [
    "valid.info()"
   ]
  },
  {
   "cell_type": "code",
   "execution_count": 4,
   "metadata": {},
   "outputs": [
    {
     "name": "stdout",
     "output_type": "stream",
     "text": [
      "<class 'pandas.core.frame.DataFrame'>\n",
      "RangeIndex: 305 entries, 0 to 304\n",
      "Data columns (total 2 columns):\n",
      " #   Column     Non-Null Count  Dtype \n",
      "---  ------     --------------  ----- \n",
      " 0   id         305 non-null    int64 \n",
      " 1   reference  305 non-null    object\n",
      "dtypes: int64(1), object(1)\n",
      "memory usage: 4.9+ KB\n"
     ]
    }
   ],
   "source": [
    "reference.info()"
   ]
  },
  {
   "cell_type": "markdown",
   "metadata": {},
   "source": [
    "### Преобразования в np.array"
   ]
  },
  {
   "cell_type": "code",
   "execution_count": 5,
   "metadata": {},
   "outputs": [],
   "source": [
    "x = valid[\"name\"].to_numpy(dtype=\"<U25\").flatten()\n",
    "y = valid[\"school_id\"].to_numpy(dtype=\"int\").flatten()\n",
    "reference_id = reference[\"id\"].to_numpy(dtype=\"int\").flatten()\n",
    "reference_name = reference[\"reference\"].to_numpy(dtype=\"<U25\").flatten()"
   ]
  },
  {
   "cell_type": "markdown",
   "metadata": {},
   "source": [
    "### Функции расчета метрик и simple-предсказаний"
   ]
  },
  {
   "cell_type": "code",
   "execution_count": 6,
   "metadata": {},
   "outputs": [],
   "source": [
    "def accuracy_top_k(y_true, y_pred, k):\n",
    "    correct = 0\n",
    "    valid_count = 0  # Счетчик для валидных предсказаний\n",
    "    for true_id, pred_list in zip(y_true, y_pred):\n",
    "        top_k_ids = [pred[0] for pred in pred_list[:k] if pred[0] is not None]\n",
    "        if top_k_ids:\n",
    "            valid_count += 1\n",
    "            if true_id in top_k_ids:\n",
    "                correct += 1\n",
    "    return correct / valid_count if valid_count > 0 else 0\n",
    "\n",
    "\n",
    "def check_top_1(true_values, predictions):\n",
    "    result = []\n",
    "    for pred_list, true in zip(predictions, true_values):\n",
    "        if pred_list[0][0] == true:\n",
    "            result.append(False)\n",
    "        else:\n",
    "            result.append(True)\n",
    "    return result\n",
    "\n",
    "\n",
    "def calculate_metrics(true_values, predictions, manual_review, cost=1):\n",
    "    # Accuracy\n",
    "    accuracy_top_1 = accuracy_top_k(true_values, predictions, 1)\n",
    "    accuracy_top_3 = accuracy_top_k(true_values, predictions, 3)\n",
    "    accuracy_top_5 = accuracy_top_k(true_values, predictions, 5)\n",
    "\n",
    "    # Бизнес-метрика: процент ошибок автоматической обработки\n",
    "    auto_error_rate = 1 - accuracy_top_1\n",
    "\n",
    "    # Бизнес-метрика: доля данных, отправленных на ручную обработку данных\n",
    "    manual_processing_rate = len(manual_review) / len(predictions)\n",
    "\n",
    "    # manual_spend = len(manual_review) * cost\n",
    "\n",
    "    # correction_spend = (len(true_values) - len(manual_review)) * cost * 1.5\n",
    "\n",
    "    # general_error = (\n",
    "    #     (len(true_values) - len(manual_review)) * auto_error_rate / len(true_values)\n",
    "    # )\n",
    "\n",
    "    general_error = (1 - manual_processing_rate) * auto_error_rate\n",
    "\n",
    "    return {\n",
    "        \"Accuracy@1\": round(accuracy_top_1, 3),\n",
    "        \"Accuracy@3\": round(accuracy_top_3, 3),\n",
    "        \"Accuracy@5\": round(accuracy_top_5, 3),\n",
    "        \"auto_error_rate\": round(auto_error_rate, 3),\n",
    "        \"manual_processing_rate\": round(manual_processing_rate, 3),\n",
    "        \"general_error\": round(general_error, 3),\n",
    "        # \"manual_spend\": manual_spend,\n",
    "        # \"correction_spend\": correction_spend,\n",
    "        # \"general_spend\": manual_spend+correction_spend,\n",
    "    }"
   ]
  },
  {
   "cell_type": "markdown",
   "metadata": {},
   "source": [
    "# Построение модели"
   ]
  },
  {
   "cell_type": "code",
   "execution_count": 7,
   "metadata": {},
   "outputs": [],
   "source": [
    "# Загрузка модели и токенизатора BERT\n",
    "model_name = \"bert-base-uncased\"\n",
    "tokenizer = BertTokenizer.from_pretrained(model_name)\n",
    "model = BertModel.from_pretrained(model_name)\n",
    "\n",
    "\n",
    "def embed_texts(texts, tokenizer, model):\n",
    "    inputs = tokenizer(texts, return_tensors=\"pt\", padding=True, truncation=True)\n",
    "    with torch.no_grad():\n",
    "        outputs = model(**inputs)\n",
    "    return outputs.last_hidden_state[:, 0, :].numpy()\n",
    "\n",
    "\n",
    "# Векторизация текстов с использованием BERT\n",
    "x_vec = embed_texts(x.tolist(), tokenizer, model)\n",
    "reference_vec = embed_texts(reference_name.tolist(), tokenizer, model)"
   ]
  },
  {
   "cell_type": "code",
   "execution_count": 10,
   "metadata": {},
   "outputs": [
    {
     "data": {
      "text/plain": [
       "array([-5.24698734e-01,  1.66769981e-01, -1.26201794e-01, -2.89864182e-01,\n",
       "       -2.65573442e-01, -1.14213169e-01,  2.88810641e-01,  4.77123708e-01,\n",
       "       -5.79777509e-02, -4.73400354e-01,  3.30196843e-02, -2.51732647e-01,\n",
       "       -1.00277819e-01,  2.63549462e-02, -1.32656366e-01,  1.84026062e-01,\n",
       "       -4.82964396e-01,  4.56730574e-01,  6.36687160e-01,  8.90457854e-02,\n",
       "       -1.62531108e-01, -2.27464676e-01, -2.92770296e-01,  2.04657465e-01,\n",
       "       -4.53012228e-01, -3.79315734e-01, -3.56314451e-01,  2.96167463e-01,\n",
       "        1.98074192e-01,  2.06042886e-01,  1.50073320e-01,  6.83601499e-02,\n",
       "       -1.05119832e-01,  2.09234655e-02,  2.80736625e-01,  1.67352125e-01,\n",
       "        6.84623718e-02, -4.20435607e-01,  3.43600690e-01,  1.35553777e-02,\n",
       "        1.85114518e-01,  3.07307571e-01,  1.19214624e-01, -2.69072503e-01,\n",
       "        3.62789571e-01, -4.51540589e-01, -2.28649378e+00,  5.15432172e-02,\n",
       "       -3.29059064e-01, -3.99467647e-01,  3.40162456e-01, -2.98846811e-01,\n",
       "        3.22870880e-01, -7.41608590e-02, -4.88759428e-01,  6.45330548e-01,\n",
       "       -1.65678620e-01,  7.40345001e-01,  3.71030271e-01,  7.64913797e-01,\n",
       "       -3.41244727e-01,  4.38783705e-01,  1.67064175e-01,  6.46661520e-02,\n",
       "        2.51762331e-01,  4.48848277e-01, -5.82716703e-01,  3.08428913e-01,\n",
       "       -8.71047303e-02,  1.93419129e-01, -4.80807245e-01,  2.71714069e-02,\n",
       "        5.78289509e-01,  2.15714410e-01, -1.46141183e-03,  1.08269855e-01,\n",
       "       -6.81175962e-02,  3.93972695e-01, -3.89742047e-01,  1.33156970e-01,\n",
       "        3.13635737e-01,  1.58151448e-01, -8.99946094e-02,  1.22214168e-01,\n",
       "        2.25770622e-01,  5.43356419e-01, -3.71964067e-01, -6.07784510e-01,\n",
       "        3.60900909e-01,  4.97326225e-01, -5.97907379e-02, -6.18642345e-02,\n",
       "        2.39137672e-02,  3.76775146e-01,  2.66248971e-01,  4.84726429e-02,\n",
       "       -5.38527846e-01,  1.14523619e-01,  2.20129341e-01, -8.29526633e-02,\n",
       "       -1.96023375e-01,  3.15914065e-01,  2.67834365e-01, -2.02582672e-01,\n",
       "        1.92191154e-01, -5.64187229e-01, -2.29641482e-01,  1.59902155e-01,\n",
       "        3.23476255e-01, -3.04642129e+00, -6.70239478e-02,  4.27790195e-01,\n",
       "       -2.86481023e-01, -4.54087332e-02,  1.73513055e-01,  3.89195263e-01,\n",
       "        5.21394312e-01, -4.70990330e-01,  3.33246410e-01,  1.58452928e-01,\n",
       "       -1.78818107e-01,  1.08060986e-03, -3.04066986e-02, -2.48127177e-01,\n",
       "       -2.43752331e-01,  5.45086801e-01,  3.73647630e-01, -2.20183253e-01,\n",
       "       -6.82894140e-04,  4.54828024e-01, -2.84167111e-01,  9.69620705e-01,\n",
       "       -3.58191818e-01,  3.08836587e-02, -3.58830467e-02,  3.06309521e-01,\n",
       "        6.10672116e-01,  4.56097238e-02, -1.75561145e-01,  2.14776285e-02,\n",
       "       -3.81318301e-01,  8.90432000e-02, -3.01304102e+00,  3.92515838e-01,\n",
       "        6.82215452e-01, -3.75795849e-02, -2.59627432e-01,  4.04411331e-02,\n",
       "        3.38889420e-01, -2.78903961e-01,  1.04676209e-01, -2.03280658e-01,\n",
       "        4.63471077e-02,  4.21738207e-01, -6.72467291e-01,  1.50551319e-01,\n",
       "        1.29316986e-01, -1.09698296e-01,  3.26442778e-01,  5.82428277e-01,\n",
       "       -2.40895208e-02, -8.11269879e-03,  6.97554275e-02,  7.30001777e-02,\n",
       "        3.78997326e-02, -3.05056304e-01,  3.75690013e-01,  1.95253700e-01,\n",
       "        1.64361566e-01,  5.23026399e-02, -8.22393298e-02, -3.77846546e-02,\n",
       "        1.30103007e-01,  4.69126731e-01,  3.98910105e-01, -5.73748291e-01,\n",
       "       -7.71931559e-03,  3.40896457e-01, -1.17043853e-01,  4.06460464e-03,\n",
       "        1.03600904e-01,  4.46538180e-01,  1.54086515e-01, -2.88764164e-02,\n",
       "       -5.24563342e-02,  1.66654795e-01,  2.39739239e-01,  8.22665542e-02,\n",
       "       -7.50217512e-02,  3.48128416e-02,  2.22716764e-01,  2.05402970e-01,\n",
       "       -3.27894419e-01,  2.04010710e-01,  3.85398388e-01,  3.48592281e-01,\n",
       "       -1.60419032e-01, -6.51381969e-01, -5.37963770e-02, -1.55609906e-01,\n",
       "        1.60952643e-01, -1.86963603e-02, -2.20543131e-01,  2.77882844e-01,\n",
       "        4.63318616e-01,  3.48875213e+00, -2.59921759e-01, -1.08907342e-01,\n",
       "        6.08857237e-02,  2.23266721e-01,  3.07730883e-02, -1.42371841e-02,\n",
       "        1.46772027e-01, -1.35613933e-01,  1.46128908e-02, -5.53635657e-01,\n",
       "        5.74431002e-01, -1.22604162e-01, -1.80379361e-01,  1.47587389e-01,\n",
       "        4.46694255e-01,  7.61304796e-03,  2.81440765e-01,  1.31476164e-01,\n",
       "       -2.20030487e-01, -1.71418265e-01,  2.28216648e-01,  5.11500835e-01,\n",
       "       -3.19630802e-01, -1.33891857e+00,  1.33053780e-01, -8.59625936e-02,\n",
       "       -2.63602048e-01,  3.21577966e-01, -5.17117202e-01, -5.75945377e-01,\n",
       "       -3.91673982e-01, -5.28881013e-01,  2.33434141e-01,  4.18979675e-01,\n",
       "       -2.57908165e-01, -7.41281286e-02,  5.64830899e-02,  1.98608682e-01,\n",
       "       -2.27395624e-01,  6.16948791e-02,  8.91082808e-02, -3.52326892e-02,\n",
       "        3.68069232e-01, -3.36700588e-01,  2.66538143e-01, -4.62951183e-01,\n",
       "       -2.46293187e-01, -3.07216913e-01, -1.93028361e-01,  1.37108713e-02,\n",
       "       -2.75727250e-02,  1.33149832e-01, -8.01808357e-01, -1.10968918e-01,\n",
       "        8.76067802e-02,  1.39212161e-01,  1.43024907e-01, -4.91855443e-02,\n",
       "       -2.06523150e-01,  5.13515100e-02,  4.80389446e-02, -1.52817905e-01,\n",
       "        1.05163857e-01, -1.46840096e-01, -4.36133564e-01,  1.64063126e-01,\n",
       "       -2.41375178e-01, -3.74548554e+00,  2.14049205e-01,  5.46477795e-01,\n",
       "        1.73064008e-01,  7.07198322e-01, -4.06476527e-01, -4.83396500e-02,\n",
       "        2.20834225e-01,  8.84844437e-02, -1.05262488e-01,  1.10753864e-01,\n",
       "       -1.02956042e-01, -9.66584012e-02,  1.09330505e-01, -4.24630940e-04,\n",
       "        5.45827150e-01, -1.82019845e-01,  2.16062084e-01,  1.26123130e-01,\n",
       "       -9.85872746e-03,  5.21853447e-01,  6.97639771e-03, -2.11105555e-01,\n",
       "        4.68901694e-01,  4.31215577e-02,  4.01158452e-01, -1.75139606e-01,\n",
       "        1.69806361e-01, -1.20105781e-01, -1.36672482e-01, -1.39318146e-02,\n",
       "       -3.66141289e-01,  2.05162093e-02,  1.46439731e-01, -2.73088008e-01,\n",
       "       -3.01004004e+00,  9.29754525e-02, -2.22021312e-01, -1.81114934e-02,\n",
       "       -9.19739716e-03, -4.85967994e-01,  5.47374249e-01, -2.16909453e-01,\n",
       "        2.16808543e-02, -1.24933124e-02, -1.07104182e-01,  2.08904967e-01,\n",
       "        8.61840397e-02, -1.92462578e-02,  7.84846991e-02, -8.32639337e-02,\n",
       "        6.08567238e-01,  3.90627652e-01, -8.93047825e-02, -4.28019345e-01,\n",
       "        9.32974368e-03,  1.81294158e-01, -1.62859671e-02, -2.70838857e-01,\n",
       "        1.62922561e-01,  4.16781902e-01, -1.06271263e-02, -1.66029811e-01,\n",
       "       -1.86997116e-01, -3.81446242e-01, -1.28905222e-01, -2.96609640e-01,\n",
       "       -4.40681353e-04, -5.82305342e-02,  7.19194636e-02, -1.52158976e-01,\n",
       "        3.41780245e-01,  6.34213090e-01,  5.39295137e-01,  9.65726078e-02,\n",
       "        1.47269353e-01,  6.90482378e-01,  3.63317356e-02,  2.72087425e-01,\n",
       "        4.44348723e-01,  1.33041918e-01,  1.41244475e-02,  3.39433029e-02,\n",
       "       -4.70479354e-02, -6.05981164e-02,  2.10280269e-02, -2.20800325e-01,\n",
       "        1.19408524e+00, -1.54681176e-01,  2.73443580e-01, -6.60731494e-01,\n",
       "        3.45402390e-01,  7.65327066e-02,  3.22234025e-03,  3.75069022e-01,\n",
       "        3.52854878e-01,  4.93076108e-02, -4.40170318e-02, -8.99069384e-02,\n",
       "        2.28301123e-01, -2.44573355e-01,  1.52768597e-01, -4.58624363e-01,\n",
       "       -1.73956424e-01,  1.80436611e-01, -3.47088337e-01,  4.36683357e-01,\n",
       "        2.57217139e-01, -4.74630892e-01, -6.72672242e-02,  7.99055398e-02,\n",
       "       -6.05678201e-01, -5.05218059e-02,  2.62430936e-01, -3.62318695e-01,\n",
       "       -3.67959321e-01, -2.70411760e-01, -2.51204789e-01,  4.41011608e-01,\n",
       "       -2.18512982e-01,  2.88674682e-01, -3.28876406e-01,  4.00749147e-01,\n",
       "       -4.87540066e-01,  7.63371736e-02, -2.68758357e-01,  2.02682048e-01,\n",
       "        1.83028370e-01,  2.35139638e-01, -8.04786086e-01,  5.22349477e-01,\n",
       "        4.63902593e-01, -1.00123882e+00, -1.32742152e-03, -8.64940956e-02,\n",
       "        1.07692547e-01, -2.41742089e-01, -4.66726005e-01,  1.60074830e-02,\n",
       "        3.36803854e-01, -4.08918798e-01, -2.22884446e-01,  2.28060558e-01,\n",
       "        1.95958450e-01,  1.19171925e-01,  2.37843737e-01, -8.05289820e-02,\n",
       "       -1.18523993e-01,  8.78571421e-02,  5.19437075e-01,  1.51004970e-01,\n",
       "       -9.84514952e-02,  5.67242742e-01, -6.00509465e-01,  5.75454175e-01,\n",
       "        3.65980715e-03, -4.23681587e-01, -3.61835778e-01,  1.64421834e-03,\n",
       "       -5.92272654e-02,  1.75170064e-01,  4.67517555e-01, -1.99718267e-01,\n",
       "       -2.36238256e-01, -2.64747977e-01,  2.74319015e-02, -5.02476692e-01,\n",
       "       -2.94100940e-01, -9.60251033e-01, -3.24308395e-01,  2.91339308e-01,\n",
       "       -4.36628222e-01,  2.49302715e-01,  4.90005761e-01, -2.18833834e-02,\n",
       "        1.81671847e-02, -4.22412246e-01, -1.12944290e-01,  7.36895680e-01,\n",
       "       -1.98527738e-01,  1.65702686e-01,  1.23737514e-01,  3.30757648e-01,\n",
       "       -6.12414777e-02,  7.48225987e-01, -7.56410807e-02, -4.27376270e-01,\n",
       "       -2.06917539e-01, -1.65232033e-01,  3.28832567e-01, -4.26425897e-02,\n",
       "        2.03251336e-02, -6.37084246e-01,  4.11664307e-01, -4.13557738e-02,\n",
       "        1.23762533e-01,  2.96865642e-01, -1.21725070e+00,  2.42089927e-01,\n",
       "        3.07854027e-01, -2.90309221e-01,  3.42051029e-01,  7.16525316e-02,\n",
       "       -1.15868196e-01,  1.57668874e-01, -1.03864461e-01,  1.19262092e-01,\n",
       "       -5.35540402e-01, -2.40903735e-01, -5.89174032e-02, -4.31101888e-01,\n",
       "        2.40785927e-01,  2.93123394e-01,  3.01715806e-02, -4.93654221e-01,\n",
       "        1.09239690e-01,  5.21555424e-01, -1.12566091e-01,  6.08143449e-01,\n",
       "       -3.00586224e-04, -4.21678841e-01, -2.07308784e-01, -2.48397201e-01,\n",
       "        3.11307669e-01,  3.67604613e-01, -3.66113007e-01,  1.33950263e-01,\n",
       "        4.98711556e-01, -7.97241867e-01, -3.70662957e-01, -2.32069701e-01,\n",
       "       -1.17111057e-01,  3.58884096e-01,  2.95183390e-01,  2.13903561e-01,\n",
       "        2.91597992e-01,  4.40931410e-01,  3.91730666e-02,  3.51750165e-01,\n",
       "        1.95928037e-01, -7.01702982e-02,  4.14476752e-01,  1.61067396e-03,\n",
       "       -2.30887741e-01, -1.37151346e-01,  2.66058356e-01, -6.05522454e-01,\n",
       "       -3.17844093e-01,  2.49744296e-01, -1.10871576e-01, -3.00680995e-01,\n",
       "        3.69934976e-01,  3.94823045e-01, -2.37196997e-01, -3.20299000e-01,\n",
       "        1.23478435e-01, -1.75562590e-01,  3.92715186e-02, -9.58039388e-02,\n",
       "        2.41287500e-01,  1.38723001e-01, -6.22964084e-01, -3.87558013e-01,\n",
       "       -2.08353326e-02, -4.40431029e-01, -8.95413160e-02,  2.34391630e-01,\n",
       "        4.72252518e-01, -3.38305235e-02, -1.44426435e-01,  2.78318137e-01,\n",
       "       -6.15211129e-01, -2.47471571e-01,  1.04947865e-01,  3.05369049e-01,\n",
       "        2.38049105e-02, -1.65191546e-01,  3.64830315e-01, -6.79083884e-01,\n",
       "       -2.94163108e-01,  1.29183680e-01,  2.01328501e-01,  4.68151212e-01,\n",
       "       -1.34819523e-01,  4.74307746e-01, -1.79997653e-01,  2.90721115e-02,\n",
       "       -7.27893114e-02, -2.34734297e-01,  1.92590673e-02,  2.60223031e-01,\n",
       "        1.16986804e-01, -5.12065552e-02,  3.66667479e-01,  3.71821672e-01,\n",
       "       -2.88591951e-01,  2.50038475e-01,  4.98130955e-02,  3.11451286e-01,\n",
       "        3.22174907e-01, -5.24102524e-02, -1.51489958e-01,  1.62800923e-01,\n",
       "        1.76921487e-02,  7.60388225e-02, -7.29294300e-01, -1.47107452e-01,\n",
       "       -7.93811083e-02,  2.18576547e-02, -7.54489899e-01, -8.44677910e-03,\n",
       "        4.28641498e-01,  5.94851077e-02, -3.41107905e-01,  2.14790076e-01,\n",
       "        2.22479725e+00,  2.98523307e-01,  2.00494528e-01, -4.35899943e-03,\n",
       "       -2.58277655e-01,  1.59185573e-01, -8.73641148e-02, -2.50457525e-01,\n",
       "        6.51001371e-03,  1.68431029e-01, -1.92767113e-01, -2.65190393e-01,\n",
       "       -3.06660205e-01,  1.38598531e-01,  2.91366994e-01, -1.28581017e-01,\n",
       "       -5.28836489e-01, -2.75773495e-01, -4.32055354e-01,  1.68651924e-01,\n",
       "       -5.17865896e-01,  3.82815510e-01,  2.76694894e-01, -1.26420751e-01,\n",
       "        2.45490491e-01,  6.09716237e-01, -5.34979813e-02, -3.52485269e-01,\n",
       "       -1.54695332e-01, -1.99225754e-01, -3.05896886e-02, -9.38451439e-02,\n",
       "       -1.89629406e-01,  3.51435065e-01,  1.21493325e-01, -1.21657625e-01,\n",
       "       -5.56461848e-02, -3.45680505e-01, -4.07656729e-01,  2.69739062e-01,\n",
       "       -2.54024804e-01, -2.20581993e-01,  2.59415090e-01,  9.35872346e-02,\n",
       "        1.25251025e-01,  1.30942300e-01, -3.41634229e-02, -7.05140829e-01,\n",
       "        1.34410083e-01,  1.96259707e-01,  1.20992094e-01, -4.16603804e-01,\n",
       "       -8.56557935e-02, -1.74373582e-01, -1.38061389e-01,  1.96660146e-01,\n",
       "        1.79639176e-01, -2.69690245e-01, -1.53624803e-01,  7.49543130e-01,\n",
       "        1.99806511e-01,  1.50928482e-01,  1.41157687e-01, -3.08914781e-01,\n",
       "        3.50260824e-01, -4.30126876e-01, -1.05515428e-01,  5.36823831e-02,\n",
       "        9.95373279e-02, -4.61655438e-01, -1.04448728e-01,  7.21350312e-03,\n",
       "       -9.18592364e-02,  3.53795618e-01, -1.15244649e-01, -5.93501031e-01,\n",
       "        1.97982937e-01, -4.43109959e-01, -2.56974787e-01, -3.04703999e+00,\n",
       "        4.68540281e-01,  3.04550737e-01, -1.63571388e-01, -2.57497072e-01,\n",
       "        3.69652838e-01, -1.39064029e-01,  1.77653804e-02, -9.17270184e-02,\n",
       "       -1.90855786e-01,  4.61229742e-01,  6.41616821e-01,  3.03707242e-01,\n",
       "        2.85051793e-01,  2.97301799e-01,  3.43246758e-01,  1.77749932e-01,\n",
       "       -1.28153607e-01,  1.50345385e-01, -1.88210174e-01, -1.76123947e-01,\n",
       "        2.04114199e-01,  1.06311835e-01,  1.25932708e-01, -5.59066653e-01,\n",
       "        1.98290840e-01,  3.63209099e-02, -3.18777680e-01, -1.66190565e-02,\n",
       "        4.80172038e-01,  7.88693130e-02,  3.13361049e-01,  2.08377466e-02,\n",
       "        3.10981035e-01,  7.49584287e-03, -2.67102599e-01, -4.40229774e-02,\n",
       "        1.79552659e-01,  2.53551513e-01,  3.12367767e-01,  1.60870031e-01,\n",
       "        6.17289901e-01, -1.42925054e-01,  2.43863031e-01,  1.25035629e-01,\n",
       "        4.40999754e-02,  1.80215538e-01, -3.04307282e-01,  5.73620558e-01,\n",
       "       -1.56215072e-01, -3.78279150e-01, -1.75975084e-01, -1.37094200e-01,\n",
       "        1.72838300e-01,  2.56195832e-02, -1.24809481e-01,  1.80885121e-01,\n",
       "        7.15253502e-02, -2.32615173e-01, -2.04094142e-01, -5.65057933e-01,\n",
       "       -1.34335101e-01, -3.03709656e-01,  5.53081572e-01,  3.98769498e-01,\n",
       "        6.15985543e-02, -5.58996856e-01, -5.11301309e-03,  1.15686864e-01,\n",
       "       -2.45296314e-01, -3.11591715e-01,  1.51689842e-01,  2.50015736e-01,\n",
       "        3.14483404e-01, -1.21049017e-01,  2.90649742e-01,  4.26168889e-01,\n",
       "        5.44351220e-01,  8.43343437e-02,  8.35820287e-02,  2.56703421e-03,\n",
       "        6.63021207e-02,  2.82193691e-01,  4.17356014e-01,  5.22216380e-01,\n",
       "       -7.64458704e+00, -2.75824130e-01, -1.19123667e-01, -1.27130076e-01,\n",
       "       -1.71705455e-01,  6.60307333e-02,  3.86397690e-02, -2.23523080e-01,\n",
       "        3.58985990e-01, -1.31727591e-01,  2.87004650e-01, -3.59212518e-01,\n",
       "       -8.10907930e-02, -3.27690333e-01,  5.23023009e-01,  4.82296377e-01],\n",
       "      dtype=float32)"
      ]
     },
     "execution_count": 10,
     "metadata": {},
     "output_type": "execute_result"
    }
   ],
   "source": [
    "x_vec[0]"
   ]
  },
  {
   "cell_type": "code",
   "execution_count": 18,
   "metadata": {},
   "outputs": [],
   "source": [
    "def find_matches_bert(x_vec, reference_id, reference_vec, top_k=5, threshold=0.9):\n",
    "    y_pred = []\n",
    "    manual_review = []\n",
    "    for x in x_vec:\n",
    "        similarities = cosine_similarity(x.reshape(1, -1), reference_vec).flatten()\n",
    "        top_indices = similarities.argsort()[-top_k:][::-1]\n",
    "        max_similarity = max(similarities)  # Нормализуем значение сходства\n",
    "        if max_similarity < threshold:\n",
    "            manual_review.append(x)\n",
    "            top_matches = [(None, 0.0)] * top_k\n",
    "        else:\n",
    "            top_matches = [(reference_id[i], similarities[i]) for i in top_indices]\n",
    "            if len(top_matches) < top_k:\n",
    "                top_matches += [(None, 0.0)] * (top_k - len(top_matches))\n",
    "        y_pred.append(top_matches)\n",
    "    return y_pred, manual_review"
   ]
  },
  {
   "cell_type": "code",
   "execution_count": 25,
   "metadata": {},
   "outputs": [],
   "source": [
    "# Массив значений threshold\n",
    "threshold_values = np.linspace(0.8, 1.0, 100)\n",
    "\n",
    "# Запуск функции и сбор метрик\n",
    "metrics_list = []\n",
    "for threshold in threshold_values:\n",
    "    y_pred, manual_review = find_matches_bert(\n",
    "        x_vec, reference_id, reference_vec, top_k=5, threshold=threshold\n",
    "    )\n",
    "    metrics = calculate_metrics(y, y_pred, manual_review)\n",
    "    metrics_list.append(metrics)"
   ]
  },
  {
   "cell_type": "code",
   "execution_count": 26,
   "metadata": {},
   "outputs": [
    {
     "data": {
      "image/png": "[encoded data removed]",
      "text/plain": [
       "<Figure size 800x500 with 1 Axes>"
      ]
     },
     "metadata": {},
     "output_type": "display_data"
    }
   ],
   "source": [
    "# Преобразование метрик в удобный формат для построения графика\n",
    "auto_error_rate_values = [metrics[\"auto_error_rate\"] for metrics in metrics_list]\n",
    "manual_processing_rate_values = [\n",
    "    metrics[\"manual_processing_rate\"] for metrics in metrics_list\n",
    "]\n",
    "# general_spend_values = [metrics['general_spend'] for metrics in metrics_list]\n",
    "general_error_values = [metrics[\"general_error\"] for metrics in metrics_list]\n",
    "\n",
    "# Определение общих границ для оси y\n",
    "y_min = min(min(auto_error_rate_values), min(manual_processing_rate_values))\n",
    "y_max = max(max(auto_error_rate_values), max(manual_processing_rate_values))\n",
    "\n",
    "# Построение графика\n",
    "plt.figure(figsize=(8, 5))\n",
    "\n",
    "# plt.subplot(1, 2, 1)\n",
    "plt.plot(\n",
    "    threshold_values, auto_error_rate_values, marker=\"o\", label=\"Automation Error Rate\"\n",
    ")\n",
    "plt.plot(\n",
    "    threshold_values,\n",
    "    manual_processing_rate_values,\n",
    "    marker=\"o\",\n",
    "    label=\"Manual Processing Rate\",\n",
    ")\n",
    "plt.plot(threshold_values, general_error_values, marker=\"o\", label=\"General Error\")\n",
    "plt.xlabel(\"Threshold\")\n",
    "plt.ylabel(\"Rate\")\n",
    "plt.title(\"Automation Error Rate and Manual Processing Rate\")\n",
    "plt.legend()\n",
    "\n",
    "# plt.subplot(1, 2, 2)\n",
    "# plt.plot(threshold_values, general_spend_values, marker='o', label='General Spend')\n",
    "# plt.xlabel('Threshold')\n",
    "# plt.ylabel('Money')\n",
    "# plt.title('General Spend as Threshold')\n",
    "# plt.legend()\n",
    "\n",
    "\n",
    "# plt.tight_layout()\n",
    "plt.show()"
   ]
  },
  {
   "cell_type": "code",
   "execution_count": 27,
   "metadata": {},
   "outputs": [
    {
     "data": {
      "text/plain": [
       "{'Accuracy@1': 0.194,\n",
       " 'Accuracy@3': 0.257,\n",
       " 'Accuracy@5': 0.32,\n",
       " 'auto_error_rate': 0.806,\n",
       " 'manual_processing_rate': 0.049,\n",
       " 'general_error': 0.766}"
      ]
     },
     "execution_count": 27,
     "metadata": {},
     "output_type": "execute_result"
    }
   ],
   "source": [
    "y_pred, manual_review = find_matches_bert(\n",
    "    x_vec, reference_id, reference_vec, top_k=5, threshold=0.976\n",
    ")\n",
    "\n",
    "metrics = calculate_metrics(y, y_pred, manual_review)\n",
    "metrics"
   ]
  },
  {
   "cell_type": "markdown",
   "metadata": {},
   "source": [
    "Цель - не более 5% ручного разбора и не менее 95% точности автоматического разбора. Итоговая ошибка составит 4,7%."
   ]
  },
  {
   "cell_type": "code",
   "execution_count": 180,
   "metadata": {},
   "outputs": [
    {
     "data": {
      "image/png": "[encoded data removed]",
      "text/plain": [
       "<Figure size 1000x600 with 2 Axes>"
      ]
     },
     "metadata": {},
     "output_type": "display_data"
    }
   ],
   "source": [
    "import matplotlib.pyplot as plt\n",
    "import numpy as np\n",
    "\n",
    "# Общее количество данных\n",
    "total_data = 200\n",
    "\n",
    "# Диапазоны значений для X и Y\n",
    "X_values = np.linspace(0.5, 1, 100)  # 0% до 100%\n",
    "Y_values = np.linspace(0, 0.05, 10)  # 0% до 10%\n",
    "\n",
    "# Матрица для хранения процентов ошибок\n",
    "error_percentages = np.zeros((len(X_values), len(Y_values)))\n",
    "\n",
    "# Расчеты\n",
    "for i, X in enumerate(X_values):\n",
    "    for j, Y in enumerate(Y_values):\n",
    "        automatic_data = total_data * X\n",
    "        errors_in_automatic = automatic_data * Y\n",
    "        total_errors_percentage = (errors_in_automatic / total_data) * 100\n",
    "        error_percentages[i, j] = total_errors_percentage\n",
    "\n",
    "# Создание графика\n",
    "X_grid, Y_grid = np.meshgrid(\n",
    "    X_values * 100, Y_values * 100\n",
    ")  # Преобразование в проценты для осей\n",
    "plt.figure(figsize=(10, 6))\n",
    "contour = plt.contourf(X_grid, Y_grid, error_percentages.T, cmap=\"viridis\")\n",
    "plt.colorbar(contour, label=\"Процент ошибок\")\n",
    "plt.xlabel(\"Процент данных на автоматическую обработку (X)\")\n",
    "plt.ylabel(\"Процент ошибок в автоматической обработке (Y)\")\n",
    "plt.title(\"Общий процент ошибок в зависимости от X и Y\")\n",
    "plt.show()"
   ]
  },
  {
   "cell_type": "code",
   "execution_count": null,
   "metadata": {},
   "outputs": [],
   "source": []
  },
  {
   "cell_type": "code",
   "execution_count": null,
   "metadata": {},
   "outputs": [],
   "source": []
  }
 ],
 "metadata": {
  "kernelspec": {
   "display_name": ".venv",
   "language": "python",
   "name": "python3"
  },
  "language_info": {
   "codemirror_mode": {
    "name": "ipython",
    "version": 3
   },
   "file_extension": ".py",
   "mimetype": "text/x-python",
   "name": "python",
   "nbconvert_exporter": "python",
   "pygments_lexer": "ipython3",
   "version": "3.12.3"
  }
 },
 "nbformat": 4,
 "nbformat_minor": 2
}
