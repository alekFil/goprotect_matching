{
 "cells": [
  {
   "cell_type": "code",
   "execution_count": 240,
   "metadata": {},
   "outputs": [],
   "source": [
    "import os\n",
    "import sys\n",
    "\n",
    "# Добавляем корневую директорию проекта в sys.path\n",
    "sys.path.append(os.path.abspath(os.path.join(os.getcwd(), \"../../\")))\n",
    "\n",
    "# Импортируем metrics из utils\n",
    "from utils import metrics as mtc"
   ]
  },
  {
   "cell_type": "code",
   "execution_count": 241,
   "metadata": {},
   "outputs": [],
   "source": [
    "import itertools\n",
    "import re\n",
    "\n",
    "import joblib\n",
    "import matplotlib.pyplot as plt\n",
    "import numpy as np\n",
    "import pandas as pd\n",
    "import torch\n",
    "import torch.nn.functional as F\n",
    "from sentence_transformers import SentenceTransformer, util"
   ]
  },
  {
   "cell_type": "markdown",
   "metadata": {},
   "source": [
    "# Advanced preprocessing reference - без него никуда"
   ]
  },
  {
   "cell_type": "markdown",
   "metadata": {},
   "source": [
    "1. Выделяем аббревиатуры до приведения к нижнему регистру для их расшифровки.\n",
    "2. Переводим аббревиатуры в текст.\n",
    "3. Отдельно следует учесть, что аббревиатуры могут быть в нижнем регистре и смешанно. Поэтому все аббревиатуры следует привести в нижний регистр и искать их. Но, сначала, следует их найти по верхему регистру - вдруг они новые. Можно дообучить модель.\n",
    "4. Приводим к нижнему регистру.\n",
    "5. Проводим лемматизацию, в том числе всех регионов.\n",
    "6. \n",
    "7. Выделяем регионы (учитывая, что некоторые регионы были зашифрованы в аббревиатурах).\n",
    "8. "
   ]
  },
  {
   "cell_type": "code",
   "execution_count": 242,
   "metadata": {},
   "outputs": [],
   "source": [
    "reference = pd.read_csv(\"../../data/reference.csv\")\n",
    "train = pd.read_csv(\"../../data/splited/train.csv\")\n",
    "valid = pd.read_csv(\"../../data/splited/valid.csv\")\n",
    "test = pd.read_csv(\"../../data/splited/test.csv\")"
   ]
  },
  {
   "cell_type": "code",
   "execution_count": 243,
   "metadata": {},
   "outputs": [
    {
     "name": "stdout",
     "output_type": "stream",
     "text": [
      "<class 'pandas.core.frame.DataFrame'>\n",
      "RangeIndex: 305 entries, 0 to 304\n",
      "Data columns (total 3 columns):\n",
      " #   Column  Non-Null Count  Dtype \n",
      "---  ------  --------------  ----- \n",
      " 0   id      305 non-null    int64 \n",
      " 1   name    305 non-null    object\n",
      " 2   region  305 non-null    object\n",
      "dtypes: int64(1), object(2)\n",
      "memory usage: 7.3+ KB\n"
     ]
    }
   ],
   "source": [
    "reference.info()"
   ]
  },
  {
   "cell_type": "code",
   "execution_count": 244,
   "metadata": {},
   "outputs": [
    {
     "name": "stdout",
     "output_type": "stream",
     "text": [
      "<class 'pandas.core.frame.DataFrame'>\n",
      "RangeIndex: 551 entries, 0 to 550\n",
      "Data columns (total 2 columns):\n",
      " #   Column     Non-Null Count  Dtype \n",
      "---  ------     --------------  ----- \n",
      " 0   name       551 non-null    object\n",
      " 1   school_id  551 non-null    int64 \n",
      "dtypes: int64(1), object(1)\n",
      "memory usage: 8.7+ KB\n"
     ]
    }
   ],
   "source": [
    "train.info()"
   ]
  },
  {
   "cell_type": "code",
   "execution_count": 245,
   "metadata": {},
   "outputs": [
    {
     "name": "stdout",
     "output_type": "stream",
     "text": [
      "<class 'pandas.core.frame.DataFrame'>\n",
      "RangeIndex: 184 entries, 0 to 183\n",
      "Data columns (total 2 columns):\n",
      " #   Column     Non-Null Count  Dtype \n",
      "---  ------     --------------  ----- \n",
      " 0   name       184 non-null    object\n",
      " 1   school_id  184 non-null    int64 \n",
      "dtypes: int64(1), object(1)\n",
      "memory usage: 3.0+ KB\n"
     ]
    }
   ],
   "source": [
    "valid.info()"
   ]
  },
  {
   "cell_type": "code",
   "execution_count": 246,
   "metadata": {},
   "outputs": [
    {
     "data": {
      "text/html": [
       "<div>\n",
       "<style scoped>\n",
       "    .dataframe tbody tr th:only-of-type {\n",
       "        vertical-align: middle;\n",
       "    }\n",
       "\n",
       "    .dataframe tbody tr th {\n",
       "        vertical-align: top;\n",
       "    }\n",
       "\n",
       "    .dataframe thead th {\n",
       "        text-align: right;\n",
       "    }\n",
       "</style>\n",
       "<table border=\"1\" class=\"dataframe\">\n",
       "  <thead>\n",
       "    <tr style=\"text-align: right;\">\n",
       "      <th></th>\n",
       "      <th>id</th>\n",
       "      <th>name</th>\n",
       "      <th>region</th>\n",
       "    </tr>\n",
       "  </thead>\n",
       "  <tbody>\n",
       "    <tr>\n",
       "      <th>0</th>\n",
       "      <td>69</td>\n",
       "      <td>Кировска</td>\n",
       "      <td>Мурманская область</td>\n",
       "    </tr>\n",
       "    <tr>\n",
       "      <th>1</th>\n",
       "      <td>70</td>\n",
       "      <td>Клин спортивный</td>\n",
       "      <td>Московская область</td>\n",
       "    </tr>\n",
       "    <tr>\n",
       "      <th>2</th>\n",
       "      <td>71</td>\n",
       "      <td>КО СШ по ЗВС</td>\n",
       "      <td>Калининградская область</td>\n",
       "    </tr>\n",
       "    <tr>\n",
       "      <th>3</th>\n",
       "      <td>8</td>\n",
       "      <td>Айсберг</td>\n",
       "      <td>Свердловская область</td>\n",
       "    </tr>\n",
       "    <tr>\n",
       "      <th>4</th>\n",
       "      <td>73</td>\n",
       "      <td>Команда Дмитриева</td>\n",
       "      <td>Челябинская область</td>\n",
       "    </tr>\n",
       "  </tbody>\n",
       "</table>\n",
       "</div>"
      ],
      "text/plain": [
       "   id               name                   region\n",
       "0  69           Кировска       Мурманская область\n",
       "1  70    Клин спортивный       Московская область\n",
       "2  71       КО СШ по ЗВС  Калининградская область\n",
       "3   8            Айсберг     Свердловская область\n",
       "4  73  Команда Дмитриева      Челябинская область"
      ]
     },
     "execution_count": 246,
     "metadata": {},
     "output_type": "execute_result"
    }
   ],
   "source": [
    "reference.head()"
   ]
  },
  {
   "cell_type": "markdown",
   "metadata": {},
   "source": [
    "## Выделяем и заменяем аббревиатуры"
   ]
  },
  {
   "cell_type": "code",
   "execution_count": 247,
   "metadata": {},
   "outputs": [],
   "source": [
    "# добавить СПБ\n",
    "# abbr_dict =\n",
    "# joblib.dump(abbr_dict, \"../../mats/abbreviations_dict.joblib\")\n",
    "\n"
   ]
  },
  {
   "cell_type": "code",
   "execution_count": 248,
   "metadata": {},
   "outputs": [],
   "source": [
    "abbr_dict = joblib.load(\"../../mats/abbreviations_dict.joblib\")"
   ]
  },
  {
   "cell_type": "code",
   "execution_count": 249,
   "metadata": {},
   "outputs": [],
   "source": [
    "def find_and_replace_abbreviations(\n",
    "    name,\n",
    "    abbreviation_dict,\n",
    "    output_list,\n",
    "    unknown_answer=False,\n",
    "    remove_unknown_abbr=False,\n",
    "    remove_all_abbr=False,\n",
    "):\n",
    "    two_letter_prepositions = [\n",
    "        \" в \",\n",
    "        \" во \",\n",
    "        \" до \",\n",
    "        \" из \",\n",
    "        \" на \",\n",
    "        \" по \",\n",
    "        \" о \",\n",
    "        \" об \",\n",
    "        \" обо \",\n",
    "        \" у \",\n",
    "    ]\n",
    "\n",
    "    symbols = [\" no\", \" NO\", \" No\", \"номер\"]\n",
    "\n",
    "    # Удаляем служебные символы (перенос строки, табуляция и т.д.)\n",
    "    name = re.sub(r\"[\\n\\t\\r]\", \" \", name)\n",
    "\n",
    "    # Создаем регулярное выражение для предлогов\n",
    "    prepositions_pattern = (\n",
    "        r\"\\b(?:\" + \"|\".join(two_letter_prepositions) + \"|\".join(symbols) + r\")\\b\"\n",
    "    )\n",
    "\n",
    "    # Заменяем все предлоги на пробем (предварительное решение вместо трудоемкого удаления стоп-слов)\n",
    "    name = re.sub(prepositions_pattern, \" \", name)\n",
    "\n",
    "    # Удаление пунктуации\n",
    "    name = re.sub(r\"[^\\w\\s]\", \" \", name)\n",
    "\n",
    "    # Удаление отдельных букв\n",
    "    name = re.sub(r\"\\b[А-ЯЁа-яё]\\b\", \" \", name)\n",
    "\n",
    "    unknown_abbr = []\n",
    "    # Находим аббревиатуры большими буквами и приводим их к нижнему регистру\n",
    "    # Надо уточнить поиск неизвестных.\n",
    "    # А если в конце аббревиатуры прописная буква?\n",
    "    uppercase_abbreviations = re.findall(r\"\\b[А-ЯЁ]+[а-яё]*+[А-ЯЁ]+\\b\", name)\n",
    "    for abbr in uppercase_abbreviations:\n",
    "        abbr = abbr.lower()\n",
    "        if abbr not in abbreviation_dict:\n",
    "            unknown_abbr.append(abbr.upper())\n",
    "            if remove_unknown_abbr:\n",
    "                name = re.sub(r\"\\b\" + re.escape(abbr.upper()) + r\"\\b\", \" \", name)\n",
    "\n",
    "    # Удаление лишних пробелов\n",
    "    name = re.sub(r\"\\s+\", \" \", name)\n",
    "\n",
    "    # Удаление пробелов в начале и в конце\n",
    "    name = name.strip()\n",
    "\n",
    "    possible_replacements = []\n",
    "    parts = name.lower().split()\n",
    "\n",
    "    for part in parts:\n",
    "        if part in abbreviation_dict:\n",
    "            if not remove_all_abbr:\n",
    "                replacements = abbreviation_dict[part]\n",
    "                if isinstance(replacements, str):\n",
    "                    replacements = [replacements]\n",
    "                elif not output_list:\n",
    "                    replacements = [\"\"]\n",
    "                possible_replacements.append(replacements)\n",
    "            else:\n",
    "                pass\n",
    "        else:\n",
    "            possible_replacements.append([part])\n",
    "\n",
    "    # Генерируем все возможные комбинации\n",
    "    all_combinations = list(itertools.product(*possible_replacements))\n",
    "\n",
    "    # Формируем итоговые наименования\n",
    "    final_phrases = [\" \".join(combination).strip() for combination in all_combinations]\n",
    "\n",
    "    if not output_list:\n",
    "        final_phrases = final_phrases[0]\n",
    "\n",
    "    if unknown_answer:\n",
    "        return list(set(unknown_abbr))\n",
    "\n",
    "    return final_phrases"
   ]
  },
  {
   "cell_type": "code",
   "execution_count": 250,
   "metadata": {},
   "outputs": [],
   "source": [
    "# Применяем функцию ко всем строкам столбца name\n",
    "reference[\"final_phrases\"] = reference[\"name\"].apply(\n",
    "    find_and_replace_abbreviations,\n",
    "    args=(\n",
    "        abbr_dict,\n",
    "        False,\n",
    "    ),\n",
    ")\n",
    "reference[\"final_phrases_wo_unknown_abbr\"] = reference[\"name\"].apply(\n",
    "    find_and_replace_abbreviations, args=(abbr_dict, False, False, True)\n",
    ")\n",
    "reference[\"final_phrases_wo_all_abbr\"] = reference[\"name\"].apply(\n",
    "    find_and_replace_abbreviations, args=(abbr_dict, False, False, True, True)\n",
    ")\n",
    "reference[\"unknown_abbr\"] = reference[\"name\"].apply(\n",
    "    find_and_replace_abbreviations, args=(abbr_dict, False, True)\n",
    ")"
   ]
  },
  {
   "cell_type": "code",
   "execution_count": 251,
   "metadata": {},
   "outputs": [
    {
     "data": {
      "text/html": [
       "<div>\n",
       "<style scoped>\n",
       "    .dataframe tbody tr th:only-of-type {\n",
       "        vertical-align: middle;\n",
       "    }\n",
       "\n",
       "    .dataframe tbody tr th {\n",
       "        vertical-align: top;\n",
       "    }\n",
       "\n",
       "    .dataframe thead th {\n",
       "        text-align: right;\n",
       "    }\n",
       "</style>\n",
       "<table border=\"1\" class=\"dataframe\">\n",
       "  <thead>\n",
       "    <tr style=\"text-align: right;\">\n",
       "      <th></th>\n",
       "      <th>id</th>\n",
       "      <th>name</th>\n",
       "      <th>region</th>\n",
       "      <th>final_phrases</th>\n",
       "      <th>final_phrases_wo_unknown_abbr</th>\n",
       "      <th>final_phrases_wo_all_abbr</th>\n",
       "      <th>unknown_abbr</th>\n",
       "    </tr>\n",
       "  </thead>\n",
       "  <tbody>\n",
       "    <tr>\n",
       "      <th>0</th>\n",
       "      <td>69</td>\n",
       "      <td>Кировска</td>\n",
       "      <td>Мурманская область</td>\n",
       "      <td>кировска</td>\n",
       "      <td>кировска</td>\n",
       "      <td>кировска</td>\n",
       "      <td>[]</td>\n",
       "    </tr>\n",
       "    <tr>\n",
       "      <th>1</th>\n",
       "      <td>70</td>\n",
       "      <td>Клин спортивный</td>\n",
       "      <td>Московская область</td>\n",
       "      <td>клин спортивный</td>\n",
       "      <td>клин спортивный</td>\n",
       "      <td>клин спортивный</td>\n",
       "      <td>[]</td>\n",
       "    </tr>\n",
       "    <tr>\n",
       "      <th>2</th>\n",
       "      <td>71</td>\n",
       "      <td>КО СШ по ЗВС</td>\n",
       "      <td>Калининградская область</td>\n",
       "      <td>спортивная школа зимние виды спорта</td>\n",
       "      <td>спортивная школа зимние виды спорта</td>\n",
       "      <td></td>\n",
       "      <td>[]</td>\n",
       "    </tr>\n",
       "    <tr>\n",
       "      <th>3</th>\n",
       "      <td>8</td>\n",
       "      <td>Айсберг</td>\n",
       "      <td>Свердловская область</td>\n",
       "      <td>айсберг</td>\n",
       "      <td>айсберг</td>\n",
       "      <td>айсберг</td>\n",
       "      <td>[]</td>\n",
       "    </tr>\n",
       "    <tr>\n",
       "      <th>4</th>\n",
       "      <td>73</td>\n",
       "      <td>Команда Дмитриева</td>\n",
       "      <td>Челябинская область</td>\n",
       "      <td>команда дмитриева</td>\n",
       "      <td>команда дмитриева</td>\n",
       "      <td>команда дмитриева</td>\n",
       "      <td>[]</td>\n",
       "    </tr>\n",
       "  </tbody>\n",
       "</table>\n",
       "</div>"
      ],
      "text/plain": [
       "   id               name                   region  \\\n",
       "0  69           Кировска       Мурманская область   \n",
       "1  70    Клин спортивный       Московская область   \n",
       "2  71       КО СШ по ЗВС  Калининградская область   \n",
       "3   8            Айсберг     Свердловская область   \n",
       "4  73  Команда Дмитриева      Челябинская область   \n",
       "\n",
       "                         final_phrases        final_phrases_wo_unknown_abbr  \\\n",
       "0                             кировска                             кировска   \n",
       "1                      клин спортивный                      клин спортивный   \n",
       "2  спортивная школа зимние виды спорта  спортивная школа зимние виды спорта   \n",
       "3                              айсберг                              айсберг   \n",
       "4                    команда дмитриева                    команда дмитриева   \n",
       "\n",
       "  final_phrases_wo_all_abbr unknown_abbr  \n",
       "0                  кировска           []  \n",
       "1           клин спортивный           []  \n",
       "2                                     []  \n",
       "3                   айсберг           []  \n",
       "4         команда дмитриева           []  "
      ]
     },
     "execution_count": 251,
     "metadata": {},
     "output_type": "execute_result"
    }
   ],
   "source": [
    "reference.head()"
   ]
  },
  {
   "cell_type": "code",
   "execution_count": 252,
   "metadata": {},
   "outputs": [],
   "source": [
    "# Применяем функцию ко всем строкам столбца name\n",
    "train[\"final_phrases\"] = train[\"name\"].apply(\n",
    "    find_and_replace_abbreviations,\n",
    "    args=(\n",
    "        abbr_dict,\n",
    "        False,\n",
    "    ),\n",
    ")\n",
    "train[\"final_phrases_wo_unknown_abbr\"] = train[\"name\"].apply(\n",
    "    find_and_replace_abbreviations, args=(abbr_dict, False, False, True)\n",
    ")\n",
    "train[\"final_phrases_wo_all_abbr\"] = train[\"name\"].apply(\n",
    "    find_and_replace_abbreviations, args=(abbr_dict, False, False, True, True)\n",
    ")\n",
    "train[\"unknown_abbr\"] = train[\"name\"].apply(\n",
    "    find_and_replace_abbreviations, args=(abbr_dict, False, True)\n",
    ")"
   ]
  },
  {
   "cell_type": "code",
   "execution_count": 253,
   "metadata": {},
   "outputs": [],
   "source": [
    "# Применяем функцию ко всем строкам столбца name\n",
    "valid[\"final_phrases\"] = valid[\"name\"].apply(\n",
    "    find_and_replace_abbreviations,\n",
    "    args=(\n",
    "        abbr_dict,\n",
    "        False,\n",
    "    ),\n",
    ")\n",
    "valid[\"final_phrases_wo_unknown_abbr\"] = valid[\"name\"].apply(\n",
    "    find_and_replace_abbreviations, args=(abbr_dict, False, False, True)\n",
    ")\n",
    "valid[\"final_phrases_wo_all_abbr\"] = valid[\"name\"].apply(\n",
    "    find_and_replace_abbreviations, args=(abbr_dict, False, False, True, True)\n",
    ")\n",
    "valid[\"unknown_abbr\"] = valid[\"name\"].apply(\n",
    "    find_and_replace_abbreviations, args=(abbr_dict, False, True)\n",
    ")"
   ]
  },
  {
   "cell_type": "code",
   "execution_count": 254,
   "metadata": {},
   "outputs": [
    {
     "data": {
      "text/html": [
       "<div>\n",
       "<style scoped>\n",
       "    .dataframe tbody tr th:only-of-type {\n",
       "        vertical-align: middle;\n",
       "    }\n",
       "\n",
       "    .dataframe tbody tr th {\n",
       "        vertical-align: top;\n",
       "    }\n",
       "\n",
       "    .dataframe thead th {\n",
       "        text-align: right;\n",
       "    }\n",
       "</style>\n",
       "<table border=\"1\" class=\"dataframe\">\n",
       "  <thead>\n",
       "    <tr style=\"text-align: right;\">\n",
       "      <th></th>\n",
       "      <th>name</th>\n",
       "      <th>school_id</th>\n",
       "      <th>final_phrases</th>\n",
       "      <th>final_phrases_wo_unknown_abbr</th>\n",
       "      <th>final_phrases_wo_all_abbr</th>\n",
       "      <th>unknown_abbr</th>\n",
       "    </tr>\n",
       "  </thead>\n",
       "  <tbody>\n",
       "    <tr>\n",
       "      <th>0</th>\n",
       "      <td>Москва, ГБУ МАФКК школа \"Мечта\"</td>\n",
       "      <td>102</td>\n",
       "      <td>москва государственное бюджетное учреждение мо...</td>\n",
       "      <td>москва государственное бюджетное учреждение мо...</td>\n",
       "      <td>москва школа мечта</td>\n",
       "      <td>[]</td>\n",
       "    </tr>\n",
       "    <tr>\n",
       "      <th>1</th>\n",
       "      <td>Калужская область, СШ \"Космос\"</td>\n",
       "      <td>78</td>\n",
       "      <td>калужская область спортивная школа космос</td>\n",
       "      <td>калужская область спортивная школа космос</td>\n",
       "      <td>калужская область космос</td>\n",
       "      <td>[]</td>\n",
       "    </tr>\n",
       "    <tr>\n",
       "      <th>2</th>\n",
       "      <td>МО 7-й округ, ООО \"Династия\"</td>\n",
       "      <td>49</td>\n",
       "      <td>7 округ общество с ограниченной ответственност...</td>\n",
       "      <td>7 округ общество с ограниченной ответственност...</td>\n",
       "      <td>7 округ династия</td>\n",
       "      <td>[]</td>\n",
       "    </tr>\n",
       "    <tr>\n",
       "      <th>3</th>\n",
       "      <td>АНФСО СКФК Спартак</td>\n",
       "      <td>164</td>\n",
       "      <td>автономная некоммерческая физкультурно-спортив...</td>\n",
       "      <td>автономная некоммерческая физкультурно-спортив...</td>\n",
       "      <td>спартак</td>\n",
       "      <td>[]</td>\n",
       "    </tr>\n",
       "    <tr>\n",
       "      <th>4</th>\n",
       "      <td>Челябинская область, ИП Дмитриев А.А.</td>\n",
       "      <td>73</td>\n",
       "      <td>челябинская область индивидуальный предпринима...</td>\n",
       "      <td>челябинская область индивидуальный предпринима...</td>\n",
       "      <td>челябинская область дмитриев</td>\n",
       "      <td>[]</td>\n",
       "    </tr>\n",
       "  </tbody>\n",
       "</table>\n",
       "</div>"
      ],
      "text/plain": [
       "                                    name  school_id  \\\n",
       "0        Москва, ГБУ МАФКК школа \"Мечта\"        102   \n",
       "1         Калужская область, СШ \"Космос\"         78   \n",
       "2           МО 7-й округ, ООО \"Династия\"         49   \n",
       "3                     АНФСО СКФК Спартак        164   \n",
       "4  Челябинская область, ИП Дмитриев А.А.         73   \n",
       "\n",
       "                                       final_phrases  \\\n",
       "0  москва государственное бюджетное учреждение мо...   \n",
       "1          калужская область спортивная школа космос   \n",
       "2  7 округ общество с ограниченной ответственност...   \n",
       "3  автономная некоммерческая физкультурно-спортив...   \n",
       "4  челябинская область индивидуальный предпринима...   \n",
       "\n",
       "                       final_phrases_wo_unknown_abbr  \\\n",
       "0  москва государственное бюджетное учреждение мо...   \n",
       "1          калужская область спортивная школа космос   \n",
       "2  7 округ общество с ограниченной ответственност...   \n",
       "3  автономная некоммерческая физкультурно-спортив...   \n",
       "4  челябинская область индивидуальный предпринима...   \n",
       "\n",
       "      final_phrases_wo_all_abbr unknown_abbr  \n",
       "0            москва школа мечта           []  \n",
       "1      калужская область космос           []  \n",
       "2              7 округ династия           []  \n",
       "3                       спартак           []  \n",
       "4  челябинская область дмитриев           []  "
      ]
     },
     "execution_count": 254,
     "metadata": {},
     "output_type": "execute_result"
    }
   ],
   "source": [
    "train.head()"
   ]
  },
  {
   "cell_type": "markdown",
   "metadata": {},
   "source": [
    "# Дальнейшая обработка текстов"
   ]
  },
  {
   "cell_type": "code",
   "execution_count": 255,
   "metadata": {},
   "outputs": [],
   "source": [
    "reference.region = reference.region.str.lower().str.strip()"
   ]
  },
  {
   "cell_type": "code",
   "execution_count": 256,
   "metadata": {},
   "outputs": [],
   "source": [
    "reference.region = reference.region.str.replace(\"г \", \"\")\n",
    "reference.region = reference.region.str.replace(\"г. \", \"\")\n",
    "reference.region = reference.region.str.replace(\"г.\", \"\")\n",
    "reference.region = reference.region.str.replace(\n",
    "    \"хмао-югра\", \"ханты мансийский автономный округ\"\n",
    ")\n",
    "reference.region = reference.region.str.replace(\"спб\", \"санкт петербург\")\n",
    "reference.region = reference.region.str.replace(\n",
    "    \"ямало-ненецкий ао\", \"ямало ненецкий автономный округ\"\n",
    ")\n",
    "reference.region = reference.region.str.replace(\n",
    "    \"республика чувашия\", \"чувашская республика\"\n",
    ")\n",
    "reference.region = reference.region.str.replace(\"северодвинск\", \"архангельская область\")\n",
    "reference.region = reference.region.str.replace(\n",
    "    \"набережные челны\", \"республика татарстан\"\n",
    ")\n",
    "reference.region = reference.region.str.replace(\"санкт-петербург\", \"санкт петербург\")"
   ]
  },
  {
   "cell_type": "code",
   "execution_count": 257,
   "metadata": {},
   "outputs": [
    {
     "data": {
      "text/plain": [
       "array(['алтайский край', 'архангельская область', 'астраханская область',\n",
       "       'белгородская область', 'брянская область', 'владимирская область',\n",
       "       'волгоградская область', 'вологодская область',\n",
       "       'воронежская область', 'забайкальский край', 'ивановская область',\n",
       "       'иркутская область', 'калининградская область',\n",
       "       'калужская область', 'кемеровская область', 'кировская область',\n",
       "       'костромская область', 'краснодарский край', 'красноярский край',\n",
       "       'курганская область', 'курская область', 'ленинградская область',\n",
       "       'липецкая область', 'москва', 'московская область',\n",
       "       'мурманская область', 'нижегородская область',\n",
       "       'новгородская область', 'новосибирская область', 'омская область',\n",
       "       'оренбургская область', 'орловская область', 'пензенская область',\n",
       "       'пермский край', 'приморский край', 'псковская область',\n",
       "       'республика башкортостан', 'республика карелия', 'республика коми',\n",
       "       'республика крым', 'республика марий эл', 'республика мордовия',\n",
       "       'республика саха', 'республика татарстан', 'ростовская область',\n",
       "       'рязанская область', 'самарская область', 'санкт петербург',\n",
       "       'саратовская область', 'сахалинская область',\n",
       "       'свердловская область', 'севастополь', 'смоленская область',\n",
       "       'ставропольский край', 'тамбовская область', 'тверская область',\n",
       "       'томская область', 'тульская область', 'тюменская область',\n",
       "       'удмуртская республика', 'хабаровский край',\n",
       "       'ханты мансийский автономный округ', 'челябинская область',\n",
       "       'чувашская республика', 'ямало ненецкий автономный округ',\n",
       "       'ярославская область'], dtype=object)"
      ]
     },
     "execution_count": 257,
     "metadata": {},
     "output_type": "execute_result"
    }
   ],
   "source": [
    "reference.region.sort_values().unique()"
   ]
  },
  {
   "cell_type": "code",
   "execution_count": 258,
   "metadata": {},
   "outputs": [],
   "source": [
    "reference[\"reference\"] = reference[\"region\"] + \" \" + reference[\"final_phrases\"]"
   ]
  },
  {
   "cell_type": "markdown",
   "metadata": {},
   "source": [
    "# Лемматизация, токенезация и удаление стоп-слов"
   ]
  },
  {
   "cell_type": "code",
   "execution_count": 259,
   "metadata": {},
   "outputs": [
    {
     "name": "stderr",
     "output_type": "stream",
     "text": [
      "[nltk_data] Downloading package punkt to\n",
      "[nltk_data]     C:\\Users\\filat\\AppData\\Roaming\\nltk_data...\n",
      "[nltk_data]   Package punkt is already up-to-date!\n",
      "[nltk_data] Downloading package stopwords to\n",
      "[nltk_data]     C:\\Users\\filat\\AppData\\Roaming\\nltk_data...\n",
      "[nltk_data]   Package stopwords is already up-to-date!\n"
     ]
    },
    {
     "data": {
      "text/plain": [
       "True"
      ]
     },
     "execution_count": 259,
     "metadata": {},
     "output_type": "execute_result"
    }
   ],
   "source": [
    "import nltk\n",
    "import pymorphy3\n",
    "from nltk.corpus import stopwords\n",
    "from nltk.tokenize import word_tokenize\n",
    "\n",
    "# Загружаем необходимые ресурсы\n",
    "\n",
    "nltk.download(\"punkt\")\n",
    "\n",
    "nltk.download(\"stopwords\")"
   ]
  },
  {
   "cell_type": "code",
   "execution_count": 260,
   "metadata": {},
   "outputs": [],
   "source": [
    "# Инициализация морфологического анализатора для русского языка\n",
    "morph = pymorphy3.MorphAnalyzer()"
   ]
  },
  {
   "cell_type": "code",
   "execution_count": 261,
   "metadata": {},
   "outputs": [],
   "source": [
    "# Пример функции для обработки текста\n",
    "def preprocess_text(text):\n",
    "    # Токенизация\n",
    "    words = word_tokenize(text.lower(), language=\"russian\")\n",
    "\n",
    "    # Лемматизация\n",
    "    lemmatized_words = [morph.parse(word)[0].normal_form for word in words]\n",
    "\n",
    "    # Удаление стоп-слов\n",
    "    stop_words = set(stopwords.words(\"russian\"))\n",
    "    filtered_words = [word for word in lemmatized_words if word not in stop_words]\n",
    "\n",
    "    return \" \".join(filtered_words)"
   ]
  },
  {
   "cell_type": "code",
   "execution_count": 264,
   "metadata": {},
   "outputs": [],
   "source": [
    "reference.reference = reference.reference.apply(preprocess_text)"
   ]
  },
  {
   "cell_type": "code",
   "execution_count": 265,
   "metadata": {},
   "outputs": [],
   "source": [
    "train.final_phrases = train.final_phrases.apply(preprocess_text)"
   ]
  },
  {
   "cell_type": "code",
   "execution_count": 266,
   "metadata": {},
   "outputs": [],
   "source": [
    "valid.final_phrases = valid.final_phrases.apply(preprocess_text)"
   ]
  },
  {
   "cell_type": "code",
   "execution_count": 267,
   "metadata": {},
   "outputs": [],
   "source": [
    "reference[[\"id\", \"reference\"]].to_csv(\n",
    "    \"../../data/preprocessed/SentenceTransformer_LaBSE/reference.csv\", index=False\n",
    ")\n",
    "train[[\"name\", \"school_id\", \"final_phrases\"]].to_csv(\n",
    "    \"../../data/preprocessed/SentenceTransformer_LaBSE/train.csv\", index=False\n",
    ")\n",
    "valid[[\"name\", \"school_id\", \"final_phrases\"]].to_csv(\n",
    "    \"../../data/preprocessed/SentenceTransformer_LaBSE/valid.csv\", index=False\n",
    ")"
   ]
  },
  {
   "cell_type": "markdown",
   "metadata": {},
   "source": [
    "# Моделирование SentenceTransformer"
   ]
  },
  {
   "cell_type": "markdown",
   "metadata": {},
   "source": [
    "### Преобразования в np.array"
   ]
  },
  {
   "cell_type": "code",
   "execution_count": 268,
   "metadata": {},
   "outputs": [],
   "source": [
    "# Инициализируем модель\n",
    "# model = SentenceTransformer(\"LaBSE\")\n",
    "\n"
   ]
  },
  {
   "cell_type": "code",
   "execution_count": 277,
   "metadata": {},
   "outputs": [],
   "source": [
    "# Инициализируем модель\n",
    "model = torch.load(\n",
    "    \"../../data/preprocessed/SentenceTransformer_LaBSE/model.pt\",\n",
    "    map_location=torch.device(\"cpu\"),\n",
    ")"
   ]
  },
  {
   "cell_type": "code",
   "execution_count": 278,
   "metadata": {},
   "outputs": [],
   "source": [
    "valid = pd.read_csv(\"../../data/preprocessed/SentenceTransformer_LaBSE/valid.csv\")\n",
    "reference = pd.read_csv(\n",
    "    \"../../data/preprocessed/SentenceTransformer_LaBSE/reference.csv\"\n",
    ")"
   ]
  },
  {
   "cell_type": "code",
   "execution_count": 279,
   "metadata": {},
   "outputs": [],
   "source": [
    "goal = \"final_phrases\"\n",
    "x = valid[goal].to_numpy(dtype=\"str\").flatten()\n",
    "y = valid[\"school_id\"].to_numpy(dtype=\"int\").flatten()\n",
    "reference_id = reference[\"id\"].to_numpy(dtype=\"int\").flatten()\n",
    "reference_name = reference[\"reference\"].to_numpy(dtype=\"str\").flatten()"
   ]
  },
  {
   "cell_type": "code",
   "execution_count": 280,
   "metadata": {},
   "outputs": [],
   "source": [
    "# Векторизация текстов\n",
    "reference_embeddings = model.encode(reference_name, convert_to_tensor=True)\n",
    "query_embeddings = model.encode(x, convert_to_tensor=True)"
   ]
  },
  {
   "cell_type": "code",
   "execution_count": 281,
   "metadata": {},
   "outputs": [],
   "source": [
    "def find_matches_cosine(x_vec, reference_id, reference_vec, top_k=5, threshold=0.9):\n",
    "    y_pred = []\n",
    "    manual_review = []\n",
    "\n",
    "    for x in x_vec:\n",
    "        # Вычисляем косинусное сходство между x и всеми векторами reference_vec\n",
    "        similarities = F.cosine_similarity(x.unsqueeze(0), reference_vec, dim=1)\n",
    "\n",
    "        # Находим индексы top_k наиболее похожих векторов\n",
    "        top_indices = torch.topk(similarities, k=top_k).indices\n",
    "        max_similarity = torch.max(similarities).item()  # Нормализуем значение сходства\n",
    "\n",
    "        if max_similarity < threshold:\n",
    "            manual_review.append(x)\n",
    "            top_matches = [(None, 0.0)] * top_k\n",
    "        else:\n",
    "            top_matches = [\n",
    "                (reference_id[i], similarities[i].item()) for i in top_indices\n",
    "            ]\n",
    "            if len(top_matches) < top_k:\n",
    "                top_matches += [(None, 0.0)] * (top_k - len(top_matches))\n",
    "\n",
    "        y_pred.append(top_matches)\n",
    "\n",
    "    return y_pred, manual_review"
   ]
  },
  {
   "cell_type": "code",
   "execution_count": 283,
   "metadata": {},
   "outputs": [
    {
     "data": {
      "text/plain": [
       "{'Accuracy@1': 0.406,\n",
       " 'Accuracy@3': 0.554,\n",
       " 'Accuracy@5': 0.594,\n",
       " 'auto_error_rate': 0.594,\n",
       " 'manual_processing_rate': 0.049,\n",
       " 'general_error': 0.565}"
      ]
     },
     "execution_count": 283,
     "metadata": {},
     "output_type": "execute_result"
    }
   ],
   "source": [
    "y_pred, manual_review = find_matches_cosine(\n",
    "    query_embeddings, reference_id, reference_embeddings, top_k=5, threshold=0.67\n",
    ")\n",
    "\n",
    "metrics = mtc.calculate_metrics(y, y_pred, manual_review)\n",
    "metrics"
   ]
  },
  {
   "cell_type": "code",
   "execution_count": 284,
   "metadata": {},
   "outputs": [],
   "source": [
    "# Массив значений threshold\n",
    "threshold_values = np.linspace(0.1, 1.0, 25)\n",
    "\n",
    "# Запуск функции и сбор метрик\n",
    "metrics_list = []\n",
    "for threshold in threshold_values:\n",
    "    y_pred, manual_review = find_matches_cosine(\n",
    "        query_embeddings,\n",
    "        reference_id,\n",
    "        reference_embeddings,\n",
    "        top_k=5,\n",
    "        threshold=threshold,\n",
    "    )\n",
    "    metrics = mtc.calculate_metrics(y, y_pred, manual_review)\n",
    "    metrics_list.append(metrics)"
   ]
  },
  {
   "cell_type": "code",
   "execution_count": 285,
   "metadata": {},
   "outputs": [
    {
     "data": {
      "image/png": "[encoded data removed]",
      "text/plain": [
       "<Figure size 800x500 with 1 Axes>"
      ]
     },
     "metadata": {},
     "output_type": "display_data"
    },
    {
     "ename": "",
     "evalue": "",
     "output_type": "error",
     "traceback": [
      "\u001b[1;31mThe Kernel crashed while executing code in the current cell or a previous cell. \n",
      "\u001b[1;31mPlease review the code in the cell(s) to identify a possible cause of the failure. \n",
      "\u001b[1;31mClick <a href='https://aka.ms/vscodeJupyterKernelCrash'>here</a> for more info. \n",
      "\u001b[1;31mView Jupyter <a href='command:jupyter.viewOutput'>log</a> for further details."
     ]
    }
   ],
   "source": [
    "# Преобразование метрик в удобный формат для построения графика\n",
    "auto_error_rate_values = [metrics[\"auto_error_rate\"] for metrics in metrics_list]\n",
    "manual_processing_rate_values = [\n",
    "    metrics[\"manual_processing_rate\"] for metrics in metrics_list\n",
    "]\n",
    "# general_spend_values = [metrics['general_spend'] for metrics in metrics_list]\n",
    "general_error_values = [metrics[\"general_error\"] for metrics in metrics_list]\n",
    "\n",
    "# Определение общих границ для оси y\n",
    "y_min = min(min(auto_error_rate_values), min(manual_processing_rate_values))\n",
    "y_max = max(max(auto_error_rate_values), max(manual_processing_rate_values))\n",
    "\n",
    "# Построение графика\n",
    "plt.figure(figsize=(8, 5))\n",
    "\n",
    "# plt.subplot(1, 2, 1)\n",
    "plt.plot(\n",
    "    threshold_values, auto_error_rate_values, marker=\"o\", label=\"Automation Error Rate\"\n",
    ")\n",
    "plt.plot(\n",
    "    threshold_values,\n",
    "    manual_processing_rate_values,\n",
    "    marker=\"o\",\n",
    "    label=\"Manual Processing Rate\",\n",
    ")\n",
    "plt.plot(threshold_values, general_error_values, marker=\"o\", label=\"General Error\")\n",
    "plt.xlabel(\"Threshold\")\n",
    "plt.ylabel(\"Rate\")\n",
    "plt.title(\"Automation Error Rate and Manual Processing Rate\")\n",
    "plt.legend()\n",
    "\n",
    "# plt.subplot(1, 2, 2)\n",
    "# plt.plot(threshold_values, general_spend_values, marker='o', label='General Spend')\n",
    "# plt.xlabel('Threshold')\n",
    "# plt.ylabel('Money')\n",
    "# plt.title('General Spend as Threshold')\n",
    "# plt.legend()\n",
    "\n",
    "\n",
    "# plt.tight_layout()\n",
    "plt.show()"
   ]
  },
  {
   "cell_type": "code",
   "execution_count": null,
   "metadata": {},
   "outputs": [],
   "source": []
  },
  {
   "cell_type": "code",
   "execution_count": null,
   "metadata": {},
   "outputs": [],
   "source": []
  },
  {
   "cell_type": "code",
   "execution_count": null,
   "metadata": {},
   "outputs": [],
   "source": []
  },
  {
   "cell_type": "code",
   "execution_count": null,
   "metadata": {},
   "outputs": [],
   "source": []
  },
  {
   "cell_type": "code",
   "execution_count": null,
   "metadata": {},
   "outputs": [],
   "source": []
  },
  {
   "cell_type": "code",
   "execution_count": null,
   "metadata": {},
   "outputs": [],
   "source": []
  },
  {
   "cell_type": "code",
   "execution_count": null,
   "metadata": {},
   "outputs": [],
   "source": []
  },
  {
   "cell_type": "code",
   "execution_count": 562,
   "metadata": {},
   "outputs": [
    {
     "data": {
      "application/vnd.jupyter.widget-view+json": {
       "model_id": "14ce1e52fb9e40ae97d85e023d5d5f19",
       "version_major": 2,
       "version_minor": 0
      },
      "text/plain": [
       "modules.json:   0%|          | 0.00/349 [00:00<?, ?B/s]"
      ]
     },
     "metadata": {},
     "output_type": "display_data"
    },
    {
     "data": {
      "application/vnd.jupyter.widget-view+json": {
       "model_id": "26719b4e7327488d804d9444509f65ad",
       "version_major": 2,
       "version_minor": 0
      },
      "text/plain": [
       "config_sentence_transformers.json:   0%|          | 0.00/195 [00:00<?, ?B/s]"
      ]
     },
     "metadata": {},
     "output_type": "display_data"
    },
    {
     "data": {
      "application/vnd.jupyter.widget-view+json": {
       "model_id": "39c867ac8c164bbdaed9b94f42350560",
       "version_major": 2,
       "version_minor": 0
      },
      "text/plain": [
       "README.md:   0%|          | 0.00/1.97k [00:00<?, ?B/s]"
      ]
     },
     "metadata": {},
     "output_type": "display_data"
    },
    {
     "data": {
      "application/vnd.jupyter.widget-view+json": {
       "model_id": "e510a77dc29b4024aeb5087dca4728b0",
       "version_major": 2,
       "version_minor": 0
      },
      "text/plain": [
       "sentence_bert_config.json:   0%|          | 0.00/53.0 [00:00<?, ?B/s]"
      ]
     },
     "metadata": {},
     "output_type": "display_data"
    },
    {
     "data": {
      "application/vnd.jupyter.widget-view+json": {
       "model_id": "846fdb6fb8ec435cb3a1ac489020968a",
       "version_major": 2,
       "version_minor": 0
      },
      "text/plain": [
       "config.json:   0%|          | 0.00/863 [00:00<?, ?B/s]"
      ]
     },
     "metadata": {},
     "output_type": "display_data"
    },
    {
     "data": {
      "application/vnd.jupyter.widget-view+json": {
       "model_id": "2e795a3e65334eeeadb4037b3dd2cb40",
       "version_major": 2,
       "version_minor": 0
      },
      "text/plain": [
       "model.safetensors:   0%|          | 0.00/1.71G [00:00<?, ?B/s]"
      ]
     },
     "metadata": {},
     "output_type": "display_data"
    },
    {
     "data": {
      "application/vnd.jupyter.widget-view+json": {
       "model_id": "496ab18dcec442fd9343fb283f3b8356",
       "version_major": 2,
       "version_minor": 0
      },
      "text/plain": [
       "tokenizer_config.json:   0%|          | 0.00/1.27k [00:00<?, ?B/s]"
      ]
     },
     "metadata": {},
     "output_type": "display_data"
    },
    {
     "data": {
      "application/vnd.jupyter.widget-view+json": {
       "model_id": "ef2ca32e63dc40aba80508fcc5e2ba1d",
       "version_major": 2,
       "version_minor": 0
      },
      "text/plain": [
       "tokenizer.json:   0%|          | 0.00/3.71M [00:00<?, ?B/s]"
      ]
     },
     "metadata": {},
     "output_type": "display_data"
    },
    {
     "data": {
      "application/vnd.jupyter.widget-view+json": {
       "model_id": "f962cbd217444120adc0bb9980da7ff1",
       "version_major": 2,
       "version_minor": 0
      },
      "text/plain": [
       "special_tokens_map.json:   0%|          | 0.00/125 [00:00<?, ?B/s]"
      ]
     },
     "metadata": {},
     "output_type": "display_data"
    },
    {
     "data": {
      "application/vnd.jupyter.widget-view+json": {
       "model_id": "e68e6c2e63704a23ac294203f8d0615c",
       "version_major": 2,
       "version_minor": 0
      },
      "text/plain": [
       "1_Pooling/config.json:   0%|          | 0.00/297 [00:00<?, ?B/s]"
      ]
     },
     "metadata": {},
     "output_type": "display_data"
    }
   ],
   "source": [
    "# Инициализируем модель\n",
    "model = SentenceTransformer(\"sberbank-ai/sbert_large_nlu_ru\")"
   ]
  },
  {
   "cell_type": "code",
   "execution_count": 733,
   "metadata": {},
   "outputs": [
    {
     "data": {
      "application/vnd.jupyter.widget-view+json": {
       "model_id": "e1013ee97a5642e6bab4c8b9f82f806a",
       "version_major": 2,
       "version_minor": 0
      },
      "text/plain": [
       "modules.json:   0%|          | 0.00/461 [00:00<?, ?B/s]"
      ]
     },
     "metadata": {},
     "output_type": "display_data"
    },
    {
     "data": {
      "application/vnd.jupyter.widget-view+json": {
       "model_id": "57f6c43afbc2478984b233698ba0ece6",
       "version_major": 2,
       "version_minor": 0
      },
      "text/plain": [
       "config_sentence_transformers.json:   0%|          | 0.00/122 [00:00<?, ?B/s]"
      ]
     },
     "metadata": {},
     "output_type": "display_data"
    },
    {
     "data": {
      "application/vnd.jupyter.widget-view+json": {
       "model_id": "f4cf2f9d24414b64be1375aedfaffaa3",
       "version_major": 2,
       "version_minor": 0
      },
      "text/plain": [
       "README.md:   0%|          | 0.00/2.22k [00:00<?, ?B/s]"
      ]
     },
     "metadata": {},
     "output_type": "display_data"
    },
    {
     "data": {
      "application/vnd.jupyter.widget-view+json": {
       "model_id": "f9169a40d2d24a0a9cd503fddd180d8c",
       "version_major": 2,
       "version_minor": 0
      },
      "text/plain": [
       "sentence_bert_config.json:   0%|          | 0.00/53.0 [00:00<?, ?B/s]"
      ]
     },
     "metadata": {},
     "output_type": "display_data"
    },
    {
     "data": {
      "application/vnd.jupyter.widget-view+json": {
       "model_id": "9c629b3da6844e9c92e1a70f1215c75b",
       "version_major": 2,
       "version_minor": 0
      },
      "text/plain": [
       "config.json:   0%|          | 0.00/804 [00:00<?, ?B/s]"
      ]
     },
     "metadata": {},
     "output_type": "display_data"
    },
    {
     "data": {
      "application/vnd.jupyter.widget-view+json": {
       "model_id": "a109eee41ee5466993815568c4eb4eee",
       "version_major": 2,
       "version_minor": 0
      },
      "text/plain": [
       "pytorch_model.bin:   0%|          | 0.00/1.88G [00:00<?, ?B/s]"
      ]
     },
     "metadata": {},
     "output_type": "display_data"
    },
    {
     "data": {
      "application/vnd.jupyter.widget-view+json": {
       "model_id": "fcb647151e26484e985279bf0ddbd6f9",
       "version_major": 2,
       "version_minor": 0
      },
      "text/plain": [
       "tokenizer_config.json:   0%|          | 0.00/397 [00:00<?, ?B/s]"
      ]
     },
     "metadata": {},
     "output_type": "display_data"
    },
    {
     "data": {
      "application/vnd.jupyter.widget-view+json": {
       "model_id": "89feda60e7134ad5922becfa6cffe230",
       "version_major": 2,
       "version_minor": 0
      },
      "text/plain": [
       "vocab.txt:   0%|          | 0.00/5.22M [00:00<?, ?B/s]"
      ]
     },
     "metadata": {},
     "output_type": "display_data"
    },
    {
     "data": {
      "application/vnd.jupyter.widget-view+json": {
       "model_id": "77dbe86a6fc4496fb51fcc2777230096",
       "version_major": 2,
       "version_minor": 0
      },
      "text/plain": [
       "tokenizer.json:   0%|          | 0.00/9.62M [00:00<?, ?B/s]"
      ]
     },
     "metadata": {},
     "output_type": "display_data"
    },
    {
     "data": {
      "application/vnd.jupyter.widget-view+json": {
       "model_id": "aed927c171b14ed28b52366e8b9d8961",
       "version_major": 2,
       "version_minor": 0
      },
      "text/plain": [
       "special_tokens_map.json:   0%|          | 0.00/112 [00:00<?, ?B/s]"
      ]
     },
     "metadata": {},
     "output_type": "display_data"
    },
    {
     "data": {
      "application/vnd.jupyter.widget-view+json": {
       "model_id": "31fabe7fec2442649d6b237e272d07aa",
       "version_major": 2,
       "version_minor": 0
      },
      "text/plain": [
       "1_Pooling/config.json:   0%|          | 0.00/190 [00:00<?, ?B/s]"
      ]
     },
     "metadata": {},
     "output_type": "display_data"
    },
    {
     "data": {
      "application/vnd.jupyter.widget-view+json": {
       "model_id": "7b5fc435e3bd4466b8f141793a592c00",
       "version_major": 2,
       "version_minor": 0
      },
      "text/plain": [
       "2_Dense/config.json:   0%|          | 0.00/114 [00:00<?, ?B/s]"
      ]
     },
     "metadata": {},
     "output_type": "display_data"
    },
    {
     "data": {
      "application/vnd.jupyter.widget-view+json": {
       "model_id": "72c806bce93c48848a5bd223218f421b",
       "version_major": 2,
       "version_minor": 0
      },
      "text/plain": [
       "pytorch_model.bin:   0%|          | 0.00/2.36M [00:00<?, ?B/s]"
      ]
     },
     "metadata": {},
     "output_type": "display_data"
    }
   ],
   "source": [
    "# Инициализируем модель\n",
    "model = SentenceTransformer(\"LaBSE\")"
   ]
  },
  {
   "cell_type": "code",
   "execution_count": 734,
   "metadata": {},
   "outputs": [],
   "source": [
    "reference_embed = model.encode(\n",
    "    reference[\"final_phrases\"].values, convert_to_tensor=True\n",
    ")"
   ]
  },
  {
   "cell_type": "code",
   "execution_count": 735,
   "metadata": {},
   "outputs": [
    {
     "data": {
      "text/plain": [
       "'москва государственное бюджетное учреждение московская академия фигурного катания на коньках школа мечта'"
      ]
     },
     "execution_count": 735,
     "metadata": {},
     "output_type": "execute_result"
    }
   ],
   "source": [
    "train[\"final_phrases\"][0]"
   ]
  },
  {
   "cell_type": "code",
   "execution_count": 736,
   "metadata": {},
   "outputs": [
    {
     "data": {
      "text/plain": [
       "'москва школа мечта'"
      ]
     },
     "execution_count": 736,
     "metadata": {},
     "output_type": "execute_result"
    }
   ],
   "source": [
    "train[\"final_phrases_wo_all_abbr\"][0]"
   ]
  },
  {
   "cell_type": "code",
   "execution_count": 737,
   "metadata": {},
   "outputs": [],
   "source": [
    "query_embed = model.encode(\n",
    "    train[\"final_phrases_wo_all_abbr\"][0], convert_to_tensor=True\n",
    ")"
   ]
  },
  {
   "cell_type": "code",
   "execution_count": 738,
   "metadata": {},
   "outputs": [
    {
     "data": {
      "text/plain": [
       "102"
      ]
     },
     "execution_count": 738,
     "metadata": {},
     "output_type": "execute_result"
    }
   ],
   "source": [
    "train[\"school_id\"][0]"
   ]
  },
  {
   "cell_type": "code",
   "execution_count": 739,
   "metadata": {},
   "outputs": [
    {
     "data": {
      "text/html": [
       "<div>\n",
       "<style scoped>\n",
       "    .dataframe tbody tr th:only-of-type {\n",
       "        vertical-align: middle;\n",
       "    }\n",
       "\n",
       "    .dataframe tbody tr th {\n",
       "        vertical-align: top;\n",
       "    }\n",
       "\n",
       "    .dataframe thead th {\n",
       "        text-align: right;\n",
       "    }\n",
       "</style>\n",
       "<table border=\"1\" class=\"dataframe\">\n",
       "  <thead>\n",
       "    <tr style=\"text-align: right;\">\n",
       "      <th></th>\n",
       "      <th>id</th>\n",
       "      <th>name</th>\n",
       "      <th>region</th>\n",
       "      <th>final_phrases</th>\n",
       "      <th>final_phrases_wo_unknown_abbr</th>\n",
       "      <th>final_phrases_wo_all_abbr</th>\n",
       "      <th>unknown_abbr</th>\n",
       "    </tr>\n",
       "  </thead>\n",
       "  <tbody>\n",
       "    <tr>\n",
       "      <th>97</th>\n",
       "      <td>102</td>\n",
       "      <td>Мечта</td>\n",
       "      <td>Москва</td>\n",
       "      <td>мечта</td>\n",
       "      <td>мечта</td>\n",
       "      <td>мечта</td>\n",
       "      <td>[]</td>\n",
       "    </tr>\n",
       "  </tbody>\n",
       "</table>\n",
       "</div>"
      ],
      "text/plain": [
       "     id   name  region final_phrases final_phrases_wo_unknown_abbr  \\\n",
       "97  102  Мечта  Москва         мечта                         мечта   \n",
       "\n",
       "   final_phrases_wo_all_abbr unknown_abbr  \n",
       "97                     мечта           []  "
      ]
     },
     "execution_count": 739,
     "metadata": {},
     "output_type": "execute_result"
    }
   ],
   "source": [
    "reference[reference.id == 102]"
   ]
  },
  {
   "cell_type": "code",
   "execution_count": 741,
   "metadata": {},
   "outputs": [
    {
     "data": {
      "text/plain": [
       "[[{'corpus_id': 97, 'score': 0.6021506786346436},\n",
       "  {'corpus_id': 163, 'score': 0.5951200127601624},\n",
       "  {'corpus_id': 230, 'score': 0.592901885509491},\n",
       "  {'corpus_id': 101, 'score': 0.580794632434845},\n",
       "  {'corpus_id': 178, 'score': 0.5796326994895935}]]"
      ]
     },
     "execution_count": 741,
     "metadata": {},
     "output_type": "execute_result"
    }
   ],
   "source": [
    "search_result = util.semantic_search(query_embed, reference_embed, top_k=5)\n",
    "\n",
    "search_result"
   ]
  },
  {
   "cell_type": "code",
   "execution_count": 742,
   "metadata": {},
   "outputs": [
    {
     "data": {
      "text/plain": [
       "'мечта'"
      ]
     },
     "execution_count": 742,
     "metadata": {},
     "output_type": "execute_result"
    }
   ],
   "source": [
    "reference[\"final_phrases\"].values[97]"
   ]
  },
  {
   "cell_type": "code",
   "execution_count": 743,
   "metadata": {},
   "outputs": [
    {
     "data": {
      "text/plain": [
       "'спортивная школа'"
      ]
     },
     "execution_count": 743,
     "metadata": {},
     "output_type": "execute_result"
    }
   ],
   "source": [
    "reference[\"final_phrases\"].values[163]"
   ]
  },
  {
   "cell_type": "code",
   "execution_count": 744,
   "metadata": {},
   "outputs": [
    {
     "data": {
      "text/plain": [
       "'спортивный клуб фигурного катания москвиной'"
      ]
     },
     "execution_count": 744,
     "metadata": {},
     "output_type": "execute_result"
    }
   ],
   "source": [
    "reference[\"final_phrases\"].values[230]"
   ]
  },
  {
   "cell_type": "code",
   "execution_count": 746,
   "metadata": {},
   "outputs": [
    {
     "data": {
      "text/plain": [
       "[[{'corpus_id': 0, 'score': 1.0000001192092896},\n",
       "  {'corpus_id': 1, 'score': 0.7317617535591125},\n",
       "  {'corpus_id': 2, 'score': 0.7283006310462952},\n",
       "  {'corpus_id': 3, 'score': 0.696265459060669},\n",
       "  {'corpus_id': 4, 'score': 0.4366022050380707}]]"
      ]
     },
     "execution_count": 746,
     "metadata": {},
     "output_type": "execute_result"
    }
   ],
   "source": [
    "query_text = \"школа мечта\"\n",
    "\n",
    "reference_texts = [\n",
    "    \"школа мечта\",\n",
    "    \"школа\",\n",
    "    \"мечта\",\n",
    "    \"спортивная школа\",\n",
    "    \"москва\",\n",
    "]\n",
    "\n",
    "query_text_em = model.encode(query_text, convert_to_tensor=True)\n",
    "reference_texts_em = model.encode(reference_texts, convert_to_tensor=True)\n",
    "\n",
    "util.semantic_search(query_text_em, reference_texts_em, top_k=5)"
   ]
  },
  {
   "cell_type": "code",
   "execution_count": 747,
   "metadata": {},
   "outputs": [
    {
     "data": {
      "text/plain": [
       "[[{'corpus_id': 0, 'score': 0.9808474779129028},\n",
       "  {'corpus_id': 1, 'score': 0.7296042442321777},\n",
       "  {'corpus_id': 3, 'score': 0.7171162366867065},\n",
       "  {'corpus_id': 2, 'score': 0.7049658894538879},\n",
       "  {'corpus_id': 4, 'score': 0.42924055457115173}]]"
      ]
     },
     "execution_count": 747,
     "metadata": {},
     "output_type": "execute_result"
    }
   ],
   "source": [
    "query_text = \"мечта школа\"\n",
    "\n",
    "reference_texts = [\n",
    "    \"школа мечта\",\n",
    "    \"школа\",\n",
    "    \"мечта\",\n",
    "    \"спортивная школа\",\n",
    "    \"москва\",\n",
    "]\n",
    "\n",
    "query_text_em = model.encode(query_text, convert_to_tensor=True)\n",
    "reference_texts_em = model.encode(reference_texts, convert_to_tensor=True)\n",
    "\n",
    "util.semantic_search(query_text_em, reference_texts_em, top_k=5)"
   ]
  },
  {
   "cell_type": "code",
   "execution_count": null,
   "metadata": {},
   "outputs": [],
   "source": []
  },
  {
   "cell_type": "code",
   "execution_count": null,
   "metadata": {},
   "outputs": [],
   "source": []
  },
  {
   "cell_type": "code",
   "execution_count": null,
   "metadata": {},
   "outputs": [],
   "source": []
  },
  {
   "cell_type": "code",
   "execution_count": null,
   "metadata": {},
   "outputs": [],
   "source": []
  },
  {
   "cell_type": "markdown",
   "metadata": {},
   "source": [
    "Для реализации задачи обучение модели не требуется. Используем сразу валидационный датасет"
   ]
  },
  {
   "cell_type": "code",
   "execution_count": 61,
   "metadata": {},
   "outputs": [],
   "source": [
    "valid = pd.read_csv(\"../../data/preprocessed/cosine/valid.csv\")\n",
    "reference = pd.read_csv(\"../../data/preprocessed/cosine/reference.csv\")"
   ]
  },
  {
   "cell_type": "code",
   "execution_count": 62,
   "metadata": {},
   "outputs": [
    {
     "name": "stdout",
     "output_type": "stream",
     "text": [
      "<class 'pandas.core.frame.DataFrame'>\n",
      "RangeIndex: 184 entries, 0 to 183\n",
      "Data columns (total 2 columns):\n",
      " #   Column     Non-Null Count  Dtype \n",
      "---  ------     --------------  ----- \n",
      " 0   name       184 non-null    object\n",
      " 1   school_id  184 non-null    int64 \n",
      "dtypes: int64(1), object(1)\n",
      "memory usage: 3.0+ KB\n"
     ]
    }
   ],
   "source": [
    "valid.info()"
   ]
  },
  {
   "cell_type": "code",
   "execution_count": 63,
   "metadata": {},
   "outputs": [
    {
     "name": "stdout",
     "output_type": "stream",
     "text": [
      "<class 'pandas.core.frame.DataFrame'>\n",
      "RangeIndex: 305 entries, 0 to 304\n",
      "Data columns (total 2 columns):\n",
      " #   Column     Non-Null Count  Dtype \n",
      "---  ------     --------------  ----- \n",
      " 0   id         305 non-null    int64 \n",
      " 1   reference  305 non-null    object\n",
      "dtypes: int64(1), object(1)\n",
      "memory usage: 4.9+ KB\n"
     ]
    }
   ],
   "source": [
    "reference.info()"
   ]
  },
  {
   "cell_type": "markdown",
   "metadata": {},
   "source": [
    "### Преобразования в np.array"
   ]
  },
  {
   "cell_type": "code",
   "execution_count": 64,
   "metadata": {},
   "outputs": [],
   "source": [
    "x = valid[\"name\"].to_numpy(dtype=\"<U25\").flatten()\n",
    "y = valid[\"school_id\"].to_numpy(dtype=\"int\").flatten()\n",
    "reference_id = reference[\"id\"].to_numpy(dtype=\"int\").flatten()\n",
    "reference_name = reference[\"reference\"].to_numpy(dtype=\"<U25\").flatten()"
   ]
  },
  {
   "cell_type": "markdown",
   "metadata": {},
   "source": [
    "### Функции расчета метрик и simple-предсказаний"
   ]
  },
  {
   "cell_type": "code",
   "execution_count": 65,
   "metadata": {},
   "outputs": [],
   "source": [
    "def accuracy_top_k(y_true, y_pred, k):\n",
    "    correct = 0\n",
    "    valid_count = 0  # Счетчик для валидных предсказаний\n",
    "    for true_id, pred_list in zip(y_true, y_pred):\n",
    "        top_k_ids = [pred[0] for pred in pred_list[:k] if pred[0] is not None]\n",
    "        if top_k_ids:\n",
    "            valid_count += 1\n",
    "            if true_id in top_k_ids:\n",
    "                correct += 1\n",
    "    return correct / valid_count if valid_count > 0 else 0\n",
    "\n",
    "\n",
    "def check_top_1(true_values, predictions):\n",
    "    result = []\n",
    "    for pred_list, true in zip(predictions, true_values):\n",
    "        if pred_list[0][0] == true:\n",
    "            result.append(False)\n",
    "        else:\n",
    "            result.append(True)\n",
    "    return result\n",
    "\n",
    "\n",
    "def calculate_metrics(true_values, predictions, manual_review, cost=1):\n",
    "    # Accuracy\n",
    "    accuracy_top_1 = accuracy_top_k(true_values, predictions, 1)\n",
    "    accuracy_top_3 = accuracy_top_k(true_values, predictions, 3)\n",
    "    accuracy_top_5 = accuracy_top_k(true_values, predictions, 5)\n",
    "\n",
    "    # Бизнес-метрика: процент ошибок автоматической обработки\n",
    "    auto_error_rate = 1 - accuracy_top_1\n",
    "\n",
    "    # Бизнес-метрика: доля данных, отправленных на ручную обработку данных\n",
    "    manual_processing_rate = len(manual_review) / len(predictions)\n",
    "\n",
    "    # manual_spend = len(manual_review) * cost\n",
    "\n",
    "    # correction_spend = (len(true_values) - len(manual_review)) * cost * 1.5\n",
    "\n",
    "    # general_error = (\n",
    "    #     (len(true_values) - len(manual_review)) * auto_error_rate / len(true_values)\n",
    "    # )\n",
    "\n",
    "    general_error = (1 - manual_processing_rate) * auto_error_rate\n",
    "\n",
    "    return {\n",
    "        \"Accuracy@1\": round(accuracy_top_1, 3),\n",
    "        \"Accuracy@3\": round(accuracy_top_3, 3),\n",
    "        \"Accuracy@5\": round(accuracy_top_5, 3),\n",
    "        \"auto_error_rate\": round(auto_error_rate, 3),\n",
    "        \"manual_processing_rate\": round(manual_processing_rate, 3),\n",
    "        \"general_error\": round(general_error, 3),\n",
    "        # \"manual_spend\": manual_spend,\n",
    "        # \"correction_spend\": correction_spend,\n",
    "        # \"general_spend\": manual_spend+correction_spend,\n",
    "    }"
   ]
  },
  {
   "cell_type": "markdown",
   "metadata": {},
   "source": [
    "# Построение модели"
   ]
  },
  {
   "cell_type": "code",
   "execution_count": 66,
   "metadata": {},
   "outputs": [],
   "source": [
    "# Векторизация текстов\n",
    "vectorizer = TfidfVectorizer().fit(np.append(x, reference_name))\n",
    "x_vec = vectorizer.transform(x)\n",
    "reference_vec = vectorizer.transform(reference_name)"
   ]
  },
  {
   "cell_type": "code",
   "execution_count": 67,
   "metadata": {},
   "outputs": [],
   "source": [
    "def find_matches_cosine(x_vec, reference_id, reference_vec, top_k=5, threshold=0.9):\n",
    "    y_pred = []\n",
    "    manual_review = []\n",
    "    for x in x_vec:\n",
    "        similarities = cosine_similarity(x, reference_vec).flatten()\n",
    "        top_indices = similarities.argsort()[-top_k:][::-1]\n",
    "        max_similarity = max(similarities)  # Нормализуем значение сходства\n",
    "        if max_similarity < threshold:\n",
    "            manual_review.append(x)\n",
    "            top_matches = [(None, 0.0)] * top_k\n",
    "        else:\n",
    "            top_matches = [(reference_id[i], similarities[i]) for i in top_indices]\n",
    "            if len(top_matches) < top_k:\n",
    "                top_matches += [(None, 0.0)] * (top_k - len(top_matches))\n",
    "        y_pred.append(top_matches)\n",
    "    return y_pred, manual_review"
   ]
  },
  {
   "cell_type": "code",
   "execution_count": 68,
   "metadata": {},
   "outputs": [],
   "source": [
    "# Массив значений threshold\n",
    "threshold_values = np.linspace(0.1, 1.0, 10)\n",
    "\n",
    "# Запуск функции и сбор метрик\n",
    "metrics_list = []\n",
    "for threshold in threshold_values:\n",
    "    y_pred, manual_review = find_matches_cosine(\n",
    "        x_vec, reference_id, reference_vec, top_k=5, threshold=threshold\n",
    "    )\n",
    "    metrics = calculate_metrics(y, y_pred, manual_review)\n",
    "    metrics_list.append(metrics)"
   ]
  },
  {
   "cell_type": "code",
   "execution_count": 69,
   "metadata": {},
   "outputs": [
    {
     "data": {
      "image/png": "[encoded data removed]",
      "text/plain": [
       "<Figure size 800x500 with 1 Axes>"
      ]
     },
     "metadata": {},
     "output_type": "display_data"
    }
   ],
   "source": [
    "# Преобразование метрик в удобный формат для построения графика\n",
    "auto_error_rate_values = [metrics[\"auto_error_rate\"] for metrics in metrics_list]\n",
    "manual_processing_rate_values = [\n",
    "    metrics[\"manual_processing_rate\"] for metrics in metrics_list\n",
    "]\n",
    "# general_spend_values = [metrics['general_spend'] for metrics in metrics_list]\n",
    "general_error_values = [metrics[\"general_error\"] for metrics in metrics_list]\n",
    "\n",
    "# Определение общих границ для оси y\n",
    "y_min = min(min(auto_error_rate_values), min(manual_processing_rate_values))\n",
    "y_max = max(max(auto_error_rate_values), max(manual_processing_rate_values))\n",
    "\n",
    "# Построение графика\n",
    "plt.figure(figsize=(8, 5))\n",
    "\n",
    "# plt.subplot(1, 2, 1)\n",
    "plt.plot(\n",
    "    threshold_values, auto_error_rate_values, marker=\"o\", label=\"Automation Error Rate\"\n",
    ")\n",
    "plt.plot(\n",
    "    threshold_values,\n",
    "    manual_processing_rate_values,\n",
    "    marker=\"o\",\n",
    "    label=\"Manual Processing Rate\",\n",
    ")\n",
    "plt.plot(threshold_values, general_error_values, marker=\"o\", label=\"General Error\")\n",
    "plt.xlabel(\"Threshold\")\n",
    "plt.ylabel(\"Rate\")\n",
    "plt.title(\"Automation Error Rate and Manual Processing Rate\")\n",
    "plt.legend()\n",
    "\n",
    "# plt.subplot(1, 2, 2)\n",
    "# plt.plot(threshold_values, general_spend_values, marker='o', label='General Spend')\n",
    "# plt.xlabel('Threshold')\n",
    "# plt.ylabel('Money')\n",
    "# plt.title('General Spend as Threshold')\n",
    "# plt.legend()\n",
    "\n",
    "\n",
    "# plt.tight_layout()\n",
    "plt.show()"
   ]
  },
  {
   "cell_type": "code",
   "execution_count": 59,
   "metadata": {},
   "outputs": [
    {
     "data": {
      "text/plain": [
       "{'Accuracy@1': 0.503,\n",
       " 'Accuracy@3': 0.674,\n",
       " 'Accuracy@5': 0.766,\n",
       " 'auto_error_rate': 0.497,\n",
       " 'manual_processing_rate': 0.049,\n",
       " 'general_error': 0.473}"
      ]
     },
     "execution_count": 59,
     "metadata": {},
     "output_type": "execute_result"
    }
   ],
   "source": [
    "y_pred, manual_review = find_matches_cosine(\n",
    "    x_vec, reference_id, reference_vec, top_k=5, threshold=0.25\n",
    ")\n",
    "\n",
    "metrics = calculate_metrics(y, y_pred, manual_review)\n",
    "metrics"
   ]
  },
  {
   "cell_type": "markdown",
   "metadata": {},
   "source": [
    "Цель - не более 5% ручного разбора и не менее 95% точности автоматического разбора. Итоговая ошибка составит 4,7%."
   ]
  },
  {
   "cell_type": "code",
   "execution_count": 180,
   "metadata": {},
   "outputs": [
    {
     "data": {
      "image/png": "[encoded data removed]",
      "text/plain": [
       "<Figure size 1000x600 with 2 Axes>"
      ]
     },
     "metadata": {},
     "output_type": "display_data"
    }
   ],
   "source": [
    "import matplotlib.pyplot as plt\n",
    "import numpy as np\n",
    "\n",
    "# Общее количество данных\n",
    "total_data = 200\n",
    "\n",
    "# Диапазоны значений для X и Y\n",
    "X_values = np.linspace(0.5, 1, 100)  # 0% до 100%\n",
    "Y_values = np.linspace(0, 0.05, 10)  # 0% до 10%\n",
    "\n",
    "# Матрица для хранения процентов ошибок\n",
    "error_percentages = np.zeros((len(X_values), len(Y_values)))\n",
    "\n",
    "# Расчеты\n",
    "for i, X in enumerate(X_values):\n",
    "    for j, Y in enumerate(Y_values):\n",
    "        automatic_data = total_data * X\n",
    "        errors_in_automatic = automatic_data * Y\n",
    "        total_errors_percentage = (errors_in_automatic / total_data) * 100\n",
    "        error_percentages[i, j] = total_errors_percentage\n",
    "\n",
    "# Создание графика\n",
    "X_grid, Y_grid = np.meshgrid(\n",
    "    X_values * 100, Y_values * 100\n",
    ")  # Преобразование в проценты для осей\n",
    "plt.figure(figsize=(10, 6))\n",
    "contour = plt.contourf(X_grid, Y_grid, error_percentages.T, cmap=\"viridis\")\n",
    "plt.colorbar(contour, label=\"Процент ошибок\")\n",
    "plt.xlabel(\"Процент данных на автоматическую обработку (X)\")\n",
    "plt.ylabel(\"Процент ошибок в автоматической обработке (Y)\")\n",
    "plt.title(\"Общий процент ошибок в зависимости от X и Y\")\n",
    "plt.show()"
   ]
  },
  {
   "cell_type": "code",
   "execution_count": null,
   "metadata": {},
   "outputs": [],
   "source": []
  },
  {
   "cell_type": "code",
   "execution_count": null,
   "metadata": {},
   "outputs": [],
   "source": []
  }
 ],
 "metadata": {
  "kernelspec": {
   "display_name": ".venv",
   "language": "python",
   "name": "python3"
  },
  "language_info": {
   "codemirror_mode": {
    "name": "ipython",
    "version": 3
   },
   "file_extension": ".py",
   "mimetype": "text/x-python",
   "name": "python",
   "nbconvert_exporter": "python",
   "pygments_lexer": "ipython3",
   "version": "3.12.3"
  }
 },
 "nbformat": 4,
 "nbformat_minor": 2
}
