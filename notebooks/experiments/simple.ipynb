{
 "cells": [
  {
   "cell_type": "code",
   "execution_count": 1,
   "metadata": {},
   "outputs": [],
   "source": [
    "import numpy as np\n",
    "import pandas as pd"
   ]
  },
  {
   "cell_type": "markdown",
   "metadata": {},
   "source": [
    "Для реализации задачи обучение модели не требуется. Используем сразу валидационный датасет"
   ]
  },
  {
   "cell_type": "code",
   "execution_count": 2,
   "metadata": {},
   "outputs": [],
   "source": [
    "valid = pd.read_csv(\"../../data/preprocessed/simple/valid.csv\")\n",
    "reference = pd.read_csv(\"../../data/preprocessed/simple/reference.csv\")"
   ]
  },
  {
   "cell_type": "code",
   "execution_count": 3,
   "metadata": {},
   "outputs": [
    {
     "name": "stdout",
     "output_type": "stream",
     "text": [
      "<class 'pandas.core.frame.DataFrame'>\n",
      "RangeIndex: 184 entries, 0 to 183\n",
      "Data columns (total 2 columns):\n",
      " #   Column     Non-Null Count  Dtype \n",
      "---  ------     --------------  ----- \n",
      " 0   name       184 non-null    object\n",
      " 1   school_id  184 non-null    int64 \n",
      "dtypes: int64(1), object(1)\n",
      "memory usage: 3.0+ KB\n"
     ]
    }
   ],
   "source": [
    "valid.info()"
   ]
  },
  {
   "cell_type": "code",
   "execution_count": 4,
   "metadata": {},
   "outputs": [
    {
     "name": "stdout",
     "output_type": "stream",
     "text": [
      "<class 'pandas.core.frame.DataFrame'>\n",
      "RangeIndex: 305 entries, 0 to 304\n",
      "Data columns (total 2 columns):\n",
      " #   Column     Non-Null Count  Dtype \n",
      "---  ------     --------------  ----- \n",
      " 0   id         305 non-null    int64 \n",
      " 1   reference  305 non-null    object\n",
      "dtypes: int64(1), object(1)\n",
      "memory usage: 4.9+ KB\n"
     ]
    }
   ],
   "source": [
    "reference.info()"
   ]
  },
  {
   "cell_type": "markdown",
   "metadata": {},
   "source": [
    "### Преобразования в np.array"
   ]
  },
  {
   "cell_type": "code",
   "execution_count": 24,
   "metadata": {},
   "outputs": [],
   "source": [
    "x = valid[\"name\"].to_numpy(dtype=\"str\").flatten()\n",
    "y = valid[\"school_id\"].to_numpy(dtype=\"int\").flatten()\n",
    "reference_id = reference[\"id\"].to_numpy(dtype=\"int\").flatten()\n",
    "reference_name = reference[\"reference\"].to_numpy(dtype=\"str\").flatten()"
   ]
  },
  {
   "cell_type": "markdown",
   "metadata": {},
   "source": [
    "### Функции расчета метрик и simple-предсказаний"
   ]
  },
  {
   "cell_type": "code",
   "execution_count": 25,
   "metadata": {},
   "outputs": [],
   "source": [
    "def find_matches(X, reference_id, reference_name, top_k=5):\n",
    "    y_pred = []\n",
    "    for name in X:\n",
    "        matches = reference_id[np.char.find(reference_name, name) >= 0]\n",
    "        top_matches = matches[:top_k].astype(int).tolist()\n",
    "        top_matches = [(i, 1.0) for i in top_matches]\n",
    "        if len(top_matches) < top_k:\n",
    "            top_matches += [(None, 0.0)] * (top_k - len(top_matches))\n",
    "        y_pred.append(top_matches)\n",
    "    return y_pred"
   ]
  },
  {
   "cell_type": "code",
   "execution_count": 26,
   "metadata": {},
   "outputs": [],
   "source": [
    "def accuracy_top_k(true_values, predictions, k):\n",
    "    correct = 0\n",
    "    for true_id, pred_list in zip(true_values, predictions):\n",
    "        top_k_ids = [pred[0] for pred in pred_list[:k]]\n",
    "        if true_id in top_k_ids:\n",
    "            correct += 1\n",
    "    return correct / len(true_values)"
   ]
  },
  {
   "cell_type": "code",
   "execution_count": 27,
   "metadata": {},
   "outputs": [],
   "source": [
    "def accuracy_top_k(y_true, y_pred, k):\n",
    "    correct = 0\n",
    "    valid_count = 0  # Счетчик для валидных предсказаний\n",
    "    for true_id, pred_list in zip(y_true, y_pred):\n",
    "        top_k_ids = [pred[0] for pred in pred_list[:k] if pred[0] is not None]\n",
    "        if top_k_ids:\n",
    "            valid_count += 1\n",
    "            if true_id in top_k_ids:\n",
    "                correct += 1\n",
    "    return correct / valid_count if valid_count > 0 else 0"
   ]
  },
  {
   "cell_type": "code",
   "execution_count": 28,
   "metadata": {},
   "outputs": [],
   "source": [
    "def check_top_1(true_values, predictions):\n",
    "    result = []\n",
    "    for pred_list, true in zip(predictions, true_values):\n",
    "        if pred_list[0][0] == true:\n",
    "            result.append(False)\n",
    "        else:\n",
    "            result.append(True)\n",
    "    return result"
   ]
  },
  {
   "cell_type": "code",
   "execution_count": 29,
   "metadata": {},
   "outputs": [],
   "source": [
    "def calculate_metrics(true_values, predictions):\n",
    "    # Accuracy\n",
    "    accuracy_top_1 = accuracy_top_k(true_values, predictions, 1)\n",
    "    accuracy_top_3 = accuracy_top_k(true_values, predictions, 3)\n",
    "    accuracy_top_5 = accuracy_top_k(true_values, predictions, 5)\n",
    "\n",
    "    # Бизнес-метрика: процент ошибок\n",
    "    error_rate = (1 - accuracy_top_1) * 100\n",
    "\n",
    "    # Бизнес-метрика: процент ручной обработки данных\n",
    "    result = check_top_1(true_values, predictions)\n",
    "    manual_processing_rate = (sum(result) / len(predictions)) * 100\n",
    "\n",
    "    general_error = (\n",
    "        (len(true_values) - len(true_values) * manual_processing_rate / 100)\n",
    "        * error_rate\n",
    "        / len(true_values)\n",
    "    )\n",
    "\n",
    "    return {\n",
    "        \"Accuracy@1\": round(accuracy_top_1, 3),\n",
    "        \"Accuracy@3\": round(accuracy_top_3, 3),\n",
    "        \"Accuracy@5\": round(accuracy_top_5, 3),\n",
    "        \"error_rate\": round(error_rate, 3),\n",
    "        \"manual_processing_rate\": round(manual_processing_rate, 3),\n",
    "        \"general_error\": round(general_error, 3),\n",
    "        # \"manual_spend\": manual_spend,\n",
    "        # \"correction_spend\": correction_spend,\n",
    "        # \"general_spend\": manual_spend+correction_spend,\n",
    "    }"
   ]
  },
  {
   "cell_type": "code",
   "execution_count": 30,
   "metadata": {},
   "outputs": [
    {
     "data": {
      "text/plain": [
       "{'Accuracy@1': 0.857,\n",
       " 'Accuracy@3': 0.952,\n",
       " 'Accuracy@5': 0.952,\n",
       " 'error_rate': 14.286,\n",
       " 'manual_processing_rate': 90.217,\n",
       " 'general_error': 1.398}"
      ]
     },
     "execution_count": 30,
     "metadata": {},
     "output_type": "execute_result"
    },
    {
     "ename": "",
     "evalue": "",
     "output_type": "error",
     "traceback": [
      "\u001b[1;31mThe Kernel crashed while executing code in the current cell or a previous cell. \n",
      "\u001b[1;31mPlease review the code in the cell(s) to identify a possible cause of the failure. \n",
      "\u001b[1;31mClick <a href='https://aka.ms/vscodeJupyterKernelCrash'>here</a> for more info. \n",
      "\u001b[1;31mView Jupyter <a href='command:jupyter.viewOutput'>log</a> for further details."
     ]
    }
   ],
   "source": [
    "y_pred = find_matches(x, reference_id, reference_name, top_k=5)\n",
    "\n",
    "metrics = calculate_metrics(y, y_pred)\n",
    "metrics"
   ]
  },
  {
   "cell_type": "code",
   "execution_count": null,
   "metadata": {},
   "outputs": [],
   "source": []
  },
  {
   "cell_type": "code",
   "execution_count": null,
   "metadata": {},
   "outputs": [],
   "source": []
  },
  {
   "cell_type": "code",
   "execution_count": null,
   "metadata": {},
   "outputs": [],
   "source": []
  },
  {
   "cell_type": "code",
   "execution_count": null,
   "metadata": {},
   "outputs": [],
   "source": []
  }
 ],
 "metadata": {
  "kernelspec": {
   "display_name": ".venv",
   "language": "python",
   "name": "python3"
  },
  "language_info": {
   "codemirror_mode": {
    "name": "ipython",
    "version": 3
   },
   "file_extension": ".py",
   "mimetype": "text/x-python",
   "name": "python",
   "nbconvert_exporter": "python",
   "pygments_lexer": "ipython3",
   "version": "3.12.3"
  }
 },
 "nbformat": 4,
 "nbformat_minor": 2
}
