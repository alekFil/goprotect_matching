{
 "cells": [
  {
   "cell_type": "code",
   "execution_count": 22,
   "metadata": {},
   "outputs": [],
   "source": [
    "import pandas as pd"
   ]
  },
  {
   "cell_type": "code",
   "execution_count": 23,
   "metadata": {},
   "outputs": [
    {
     "name": "stdout",
     "output_type": "stream",
     "text": [
      "<class 'pandas.core.frame.DataFrame'>\n",
      "RangeIndex: 306 entries, 0 to 305\n",
      "Data columns (total 13 columns):\n",
      " #   Column         Non-Null Count  Dtype \n",
      "---  ------         --------------  ----- \n",
      " 0   id             306 non-null    int64 \n",
      " 1   name           306 non-null    object\n",
      " 2   palace         47 non-null     object\n",
      " 3   skate_types    4 non-null      object\n",
      " 4   site           46 non-null     object\n",
      " 5   address        48 non-null     object\n",
      " 6   region         306 non-null    object\n",
      " 7   katok          5 non-null      object\n",
      " 8   phone          47 non-null     object\n",
      " 9   instagram      4 non-null      object\n",
      " 10  official_name  80 non-null     object\n",
      " 11  department     47 non-null     object\n",
      " 12  director       47 non-null     object\n",
      "dtypes: int64(1), object(12)\n",
      "memory usage: 31.2+ KB\n"
     ]
    }
   ],
   "source": [
    "schools_df = pd.read_csv(\"../data/schools.csv\", sep=\";\")\n",
    "schools_df.info()"
   ]
  },
  {
   "cell_type": "code",
   "execution_count": 24,
   "metadata": {},
   "outputs": [
    {
     "name": "stdout",
     "output_type": "stream",
     "text": [
      "<class 'pandas.core.frame.DataFrame'>\n",
      "RangeIndex: 921 entries, 0 to 920\n",
      "Data columns (total 3 columns):\n",
      " #   Column     Non-Null Count  Dtype \n",
      "---  ------     --------------  ----- \n",
      " 0   school_id  921 non-null    int64 \n",
      " 1   name       919 non-null    object\n",
      " 2   id         921 non-null    int64 \n",
      "dtypes: int64(2), object(1)\n",
      "memory usage: 21.7+ KB\n"
     ]
    }
   ],
   "source": [
    "matches_df = pd.read_csv(\"../data/matches.csv\", sep=\";\")\n",
    "matches_df.info()"
   ]
  },
  {
   "cell_type": "code",
   "execution_count": 25,
   "metadata": {},
   "outputs": [],
   "source": [
    "schools = schools_df[[\"id\", \"name\", \"region\"]].copy()\n",
    "matches = matches_df[[\"name\", \"school_id\"]].copy()"
   ]
  },
  {
   "cell_type": "code",
   "execution_count": 26,
   "metadata": {},
   "outputs": [
    {
     "name": "stdout",
     "output_type": "stream",
     "text": [
      "<class 'pandas.core.frame.DataFrame'>\n",
      "RangeIndex: 306 entries, 0 to 305\n",
      "Data columns (total 3 columns):\n",
      " #   Column  Non-Null Count  Dtype \n",
      "---  ------  --------------  ----- \n",
      " 0   id      306 non-null    int64 \n",
      " 1   name    306 non-null    object\n",
      " 2   region  306 non-null    object\n",
      "dtypes: int64(1), object(2)\n",
      "memory usage: 7.3+ KB\n"
     ]
    }
   ],
   "source": [
    "schools.info()"
   ]
  },
  {
   "cell_type": "code",
   "execution_count": 27,
   "metadata": {},
   "outputs": [
    {
     "data": {
      "text/html": [
       "<div>\n",
       "<style scoped>\n",
       "    .dataframe tbody tr th:only-of-type {\n",
       "        vertical-align: middle;\n",
       "    }\n",
       "\n",
       "    .dataframe tbody tr th {\n",
       "        vertical-align: top;\n",
       "    }\n",
       "\n",
       "    .dataframe thead th {\n",
       "        text-align: right;\n",
       "    }\n",
       "</style>\n",
       "<table border=\"1\" class=\"dataframe\">\n",
       "  <thead>\n",
       "    <tr style=\"text-align: right;\">\n",
       "      <th></th>\n",
       "      <th>id</th>\n",
       "      <th>name</th>\n",
       "      <th>region</th>\n",
       "    </tr>\n",
       "  </thead>\n",
       "  <tbody>\n",
       "    <tr>\n",
       "      <th>0</th>\n",
       "      <td>69</td>\n",
       "      <td>Кировска</td>\n",
       "      <td>Мурманская область</td>\n",
       "    </tr>\n",
       "    <tr>\n",
       "      <th>1</th>\n",
       "      <td>70</td>\n",
       "      <td>Клин спортивный</td>\n",
       "      <td>Московская область</td>\n",
       "    </tr>\n",
       "    <tr>\n",
       "      <th>2</th>\n",
       "      <td>71</td>\n",
       "      <td>КО СШ по ЗВС</td>\n",
       "      <td>Калининградская область</td>\n",
       "    </tr>\n",
       "    <tr>\n",
       "      <th>3</th>\n",
       "      <td>8</td>\n",
       "      <td>Айсберг</td>\n",
       "      <td>Свердловская область</td>\n",
       "    </tr>\n",
       "    <tr>\n",
       "      <th>4</th>\n",
       "      <td>73</td>\n",
       "      <td>Команда Дмитриева</td>\n",
       "      <td>Челябинская область</td>\n",
       "    </tr>\n",
       "  </tbody>\n",
       "</table>\n",
       "</div>"
      ],
      "text/plain": [
       "   id               name                   region\n",
       "0  69           Кировска       Мурманская область\n",
       "1  70    Клин спортивный       Московская область\n",
       "2  71       КО СШ по ЗВС  Калининградская область\n",
       "3   8            Айсберг     Свердловская область\n",
       "4  73  Команда Дмитриева      Челябинская область"
      ]
     },
     "execution_count": 27,
     "metadata": {},
     "output_type": "execute_result"
    }
   ],
   "source": [
    "schools.head()"
   ]
  },
  {
   "cell_type": "code",
   "execution_count": 28,
   "metadata": {},
   "outputs": [
    {
     "data": {
      "text/html": [
       "<div>\n",
       "<style scoped>\n",
       "    .dataframe tbody tr th:only-of-type {\n",
       "        vertical-align: middle;\n",
       "    }\n",
       "\n",
       "    .dataframe tbody tr th {\n",
       "        vertical-align: top;\n",
       "    }\n",
       "\n",
       "    .dataframe thead th {\n",
       "        text-align: right;\n",
       "    }\n",
       "</style>\n",
       "<table border=\"1\" class=\"dataframe\">\n",
       "  <thead>\n",
       "    <tr style=\"text-align: right;\">\n",
       "      <th></th>\n",
       "      <th>id</th>\n",
       "      <th>name</th>\n",
       "      <th>region</th>\n",
       "    </tr>\n",
       "  </thead>\n",
       "  <tbody>\n",
       "    <tr>\n",
       "      <th>237</th>\n",
       "      <td>274</td>\n",
       "      <td>\"Голден Айс Петергоф\" (ГБУ СШ \"Манеж\")</td>\n",
       "      <td>Санкт-Петербург</td>\n",
       "    </tr>\n",
       "    <tr>\n",
       "      <th>292</th>\n",
       "      <td>1839</td>\n",
       "      <td>\"Ледовая арена Кириши\"</td>\n",
       "      <td>Ленинградская область</td>\n",
       "    </tr>\n",
       "    <tr>\n",
       "      <th>285</th>\n",
       "      <td>609</td>\n",
       "      <td>\"СШ \"Гвоздика\"</td>\n",
       "      <td>Удмуртская республика</td>\n",
       "    </tr>\n",
       "    <tr>\n",
       "      <th>198</th>\n",
       "      <td>99999</td>\n",
       "      <td>*</td>\n",
       "      <td>*</td>\n",
       "    </tr>\n",
       "    <tr>\n",
       "      <th>201</th>\n",
       "      <td>5</td>\n",
       "      <td>Ice Dream / Айс Дрим</td>\n",
       "      <td>Санкт-Петербург</td>\n",
       "    </tr>\n",
       "  </tbody>\n",
       "</table>\n",
       "</div>"
      ],
      "text/plain": [
       "        id                                    name                 region\n",
       "237    274  \"Голден Айс Петергоф\" (ГБУ СШ \"Манеж\")        Санкт-Петербург\n",
       "292   1839                  \"Ледовая арена Кириши\"  Ленинградская область\n",
       "285    609                          \"СШ \"Гвоздика\"  Удмуртская республика\n",
       "198  99999                                       *                      *\n",
       "201      5                    Ice Dream / Айс Дрим        Санкт-Петербург"
      ]
     },
     "execution_count": 28,
     "metadata": {},
     "output_type": "execute_result"
    }
   ],
   "source": [
    "schools.sort_values(by=\"name\").head()"
   ]
  },
  {
   "cell_type": "code",
   "execution_count": 29,
   "metadata": {},
   "outputs": [],
   "source": [
    "schools = schools.query(\"id != 99999\")"
   ]
  },
  {
   "cell_type": "markdown",
   "metadata": {},
   "source": [
    "Удаляем из эталонных названий школу с названием \"*\". Все другие оставляем \"как есть\", поскольку именно так они записаны в базе данных. При обучении моделей мы будем использовать эти данные, предварительно предобработанные по единому правилу с данными пользовательского ввода"
   ]
  },
  {
   "cell_type": "code",
   "execution_count": 30,
   "metadata": {},
   "outputs": [
    {
     "data": {
      "text/html": [
       "<div>\n",
       "<style scoped>\n",
       "    .dataframe tbody tr th:only-of-type {\n",
       "        vertical-align: middle;\n",
       "    }\n",
       "\n",
       "    .dataframe tbody tr th {\n",
       "        vertical-align: top;\n",
       "    }\n",
       "\n",
       "    .dataframe thead th {\n",
       "        text-align: right;\n",
       "    }\n",
       "</style>\n",
       "<table border=\"1\" class=\"dataframe\">\n",
       "  <thead>\n",
       "    <tr style=\"text-align: right;\">\n",
       "      <th></th>\n",
       "      <th>id</th>\n",
       "      <th>name</th>\n",
       "      <th>region</th>\n",
       "    </tr>\n",
       "  </thead>\n",
       "  <tbody>\n",
       "    <tr>\n",
       "      <th>210</th>\n",
       "      <td>265</td>\n",
       "      <td>Юность</td>\n",
       "      <td>ХМАО-Югра</td>\n",
       "    </tr>\n",
       "    <tr>\n",
       "      <th>197</th>\n",
       "      <td>264</td>\n",
       "      <td>Юность</td>\n",
       "      <td>Свердловская область</td>\n",
       "    </tr>\n",
       "    <tr>\n",
       "      <th>219</th>\n",
       "      <td>266</td>\n",
       "      <td>Юность</td>\n",
       "      <td>Чувашская Республика</td>\n",
       "    </tr>\n",
       "    <tr>\n",
       "      <th>221</th>\n",
       "      <td>263</td>\n",
       "      <td>Юность</td>\n",
       "      <td>Мурманская область</td>\n",
       "    </tr>\n",
       "    <tr>\n",
       "      <th>220</th>\n",
       "      <td>267</td>\n",
       "      <td>Ямал</td>\n",
       "      <td>Ямало-Ненецкий АО</td>\n",
       "    </tr>\n",
       "  </tbody>\n",
       "</table>\n",
       "</div>"
      ],
      "text/plain": [
       "      id    name                region\n",
       "210  265  Юность             ХМАО-Югра\n",
       "197  264  Юность  Свердловская область\n",
       "219  266  Юность  Чувашская Республика\n",
       "221  263  Юность    Мурманская область\n",
       "220  267    Ямал     Ямало-Ненецкий АО"
      ]
     },
     "execution_count": 30,
     "metadata": {},
     "output_type": "execute_result"
    }
   ],
   "source": [
    "schools.sort_values(by=\"name\").tail()"
   ]
  },
  {
   "cell_type": "code",
   "execution_count": 31,
   "metadata": {},
   "outputs": [
    {
     "name": "stdout",
     "output_type": "stream",
     "text": [
      "<class 'pandas.core.frame.DataFrame'>\n",
      "Index: 305 entries, 0 to 305\n",
      "Data columns (total 3 columns):\n",
      " #   Column  Non-Null Count  Dtype \n",
      "---  ------  --------------  ----- \n",
      " 0   id      305 non-null    int64 \n",
      " 1   name    305 non-null    object\n",
      " 2   region  305 non-null    object\n",
      "dtypes: int64(1), object(2)\n",
      "memory usage: 9.5+ KB\n"
     ]
    }
   ],
   "source": [
    "schools.info()"
   ]
  },
  {
   "cell_type": "code",
   "execution_count": 32,
   "metadata": {},
   "outputs": [
    {
     "name": "stdout",
     "output_type": "stream",
     "text": [
      "<class 'pandas.core.frame.DataFrame'>\n",
      "RangeIndex: 921 entries, 0 to 920\n",
      "Data columns (total 2 columns):\n",
      " #   Column     Non-Null Count  Dtype \n",
      "---  ------     --------------  ----- \n",
      " 0   name       919 non-null    object\n",
      " 1   school_id  921 non-null    int64 \n",
      "dtypes: int64(1), object(1)\n",
      "memory usage: 14.5+ KB\n"
     ]
    }
   ],
   "source": [
    "matches.info()"
   ]
  },
  {
   "cell_type": "code",
   "execution_count": 33,
   "metadata": {},
   "outputs": [
    {
     "data": {
      "text/html": [
       "<div>\n",
       "<style scoped>\n",
       "    .dataframe tbody tr th:only-of-type {\n",
       "        vertical-align: middle;\n",
       "    }\n",
       "\n",
       "    .dataframe tbody tr th {\n",
       "        vertical-align: top;\n",
       "    }\n",
       "\n",
       "    .dataframe thead th {\n",
       "        text-align: right;\n",
       "    }\n",
       "</style>\n",
       "<table border=\"1\" class=\"dataframe\">\n",
       "  <thead>\n",
       "    <tr style=\"text-align: right;\">\n",
       "      <th></th>\n",
       "      <th>name</th>\n",
       "      <th>school_id</th>\n",
       "    </tr>\n",
       "  </thead>\n",
       "  <tbody>\n",
       "    <tr>\n",
       "      <th>0</th>\n",
       "      <td>Московская область, СШ \"Авангард\"</td>\n",
       "      <td>1</td>\n",
       "    </tr>\n",
       "    <tr>\n",
       "      <th>1</th>\n",
       "      <td>ЯНАО, СШ \"Авангард\"</td>\n",
       "      <td>2</td>\n",
       "    </tr>\n",
       "    <tr>\n",
       "      <th>2</th>\n",
       "      <td>Республика Татарстан, МБУ СШОР \"ФСО \"Авиатор\"</td>\n",
       "      <td>3</td>\n",
       "    </tr>\n",
       "    <tr>\n",
       "      <th>3</th>\n",
       "      <td>Республика Татарстан, МБУ СШОР \"ФСО \"Авиатор\"\"...</td>\n",
       "      <td>3</td>\n",
       "    </tr>\n",
       "    <tr>\n",
       "      <th>4</th>\n",
       "      <td>Республика Татарстан, СШОР ФСО Авиатор</td>\n",
       "      <td>3</td>\n",
       "    </tr>\n",
       "  </tbody>\n",
       "</table>\n",
       "</div>"
      ],
      "text/plain": [
       "                                                name  school_id\n",
       "0                  Московская область, СШ \"Авангард\"          1\n",
       "1                                ЯНАО, СШ \"Авангард\"          2\n",
       "2      Республика Татарстан, МБУ СШОР \"ФСО \"Авиатор\"          3\n",
       "3  Республика Татарстан, МБУ СШОР \"ФСО \"Авиатор\"\"...          3\n",
       "4             Республика Татарстан, СШОР ФСО Авиатор          3"
      ]
     },
     "execution_count": 33,
     "metadata": {},
     "output_type": "execute_result"
    }
   ],
   "source": [
    "matches.head()"
   ]
  },
  {
   "cell_type": "markdown",
   "metadata": {},
   "source": [
    "Выявим пропуски в таблице матчинга"
   ]
  },
  {
   "cell_type": "code",
   "execution_count": 34,
   "metadata": {},
   "outputs": [],
   "source": [
    "matches[matches.name.isna()]\n",
    "ids_with_na = matches[matches.name.isna()][\"school_id\"].values"
   ]
  },
  {
   "cell_type": "markdown",
   "metadata": {},
   "source": [
    "Количества пользовательских вводов наименований для школ с пропусками достаточно. Удалим строки с пропусками."
   ]
  },
  {
   "cell_type": "code",
   "execution_count": 35,
   "metadata": {},
   "outputs": [
    {
     "data": {
      "text/plain": [
       "21"
      ]
     },
     "execution_count": 35,
     "metadata": {},
     "output_type": "execute_result"
    }
   ],
   "source": [
    "len(matches.query(\"school_id in @ids_with_na\"))"
   ]
  },
  {
   "cell_type": "code",
   "execution_count": 36,
   "metadata": {},
   "outputs": [
    {
     "data": {
      "text/html": [
       "<div>\n",
       "<style scoped>\n",
       "    .dataframe tbody tr th:only-of-type {\n",
       "        vertical-align: middle;\n",
       "    }\n",
       "\n",
       "    .dataframe tbody tr th {\n",
       "        vertical-align: top;\n",
       "    }\n",
       "\n",
       "    .dataframe thead th {\n",
       "        text-align: right;\n",
       "    }\n",
       "</style>\n",
       "<table border=\"1\" class=\"dataframe\">\n",
       "  <thead>\n",
       "    <tr style=\"text-align: right;\">\n",
       "      <th></th>\n",
       "      <th>name</th>\n",
       "      <th>school_id</th>\n",
       "    </tr>\n",
       "  </thead>\n",
       "  <tbody>\n",
       "    <tr>\n",
       "      <th>350</th>\n",
       "      <td>Санкт-Петрбург, СК ФК Т. Москвиной</td>\n",
       "      <td>105</td>\n",
       "    </tr>\n",
       "    <tr>\n",
       "      <th>351</th>\n",
       "      <td>Санкт-Петербург, АНО СК ФК Т. Москвиной</td>\n",
       "      <td>105</td>\n",
       "    </tr>\n",
       "    <tr>\n",
       "      <th>352</th>\n",
       "      <td>Санкт-Петербург, АНО \"СК ФК Тамары Москвиной\"</td>\n",
       "      <td>105</td>\n",
       "    </tr>\n",
       "    <tr>\n",
       "      <th>353</th>\n",
       "      <td>Санкт-Петербург, СК ФК Тамары Москвиной</td>\n",
       "      <td>105</td>\n",
       "    </tr>\n",
       "    <tr>\n",
       "      <th>354</th>\n",
       "      <td>NaN</td>\n",
       "      <td>105</td>\n",
       "    </tr>\n",
       "    <tr>\n",
       "      <th>355</th>\n",
       "      <td>Санкт-Петербург, СК ФК Т.Москвиной</td>\n",
       "      <td>105</td>\n",
       "    </tr>\n",
       "    <tr>\n",
       "      <th>356</th>\n",
       "      <td>СК ФК Т Москвиной</td>\n",
       "      <td>105</td>\n",
       "    </tr>\n",
       "    <tr>\n",
       "      <th>357</th>\n",
       "      <td>АНО СКФК Т.Москвиной</td>\n",
       "      <td>105</td>\n",
       "    </tr>\n",
       "    <tr>\n",
       "      <th>358</th>\n",
       "      <td>СК ФК Т.Москвиной</td>\n",
       "      <td>105</td>\n",
       "    </tr>\n",
       "    <tr>\n",
       "      <th>359</th>\n",
       "      <td>АНО \"СКФК Тамары Москвиной\"</td>\n",
       "      <td>105</td>\n",
       "    </tr>\n",
       "    <tr>\n",
       "      <th>592</th>\n",
       "      <td>ГБУ СШОР Колпинского района</td>\n",
       "      <td>192</td>\n",
       "    </tr>\n",
       "    <tr>\n",
       "      <th>593</th>\n",
       "      <td>Санкт-Петербург, СШОР Колпинского района</td>\n",
       "      <td>192</td>\n",
       "    </tr>\n",
       "    <tr>\n",
       "      <th>594</th>\n",
       "      <td>Санкт-Петрбург, СШОР Колпинского района</td>\n",
       "      <td>192</td>\n",
       "    </tr>\n",
       "    <tr>\n",
       "      <th>595</th>\n",
       "      <td>NaN</td>\n",
       "      <td>192</td>\n",
       "    </tr>\n",
       "    <tr>\n",
       "      <th>596</th>\n",
       "      <td>ГБУ ДО СШОР Колпинского района СПб</td>\n",
       "      <td>192</td>\n",
       "    </tr>\n",
       "    <tr>\n",
       "      <th>597</th>\n",
       "      <td>СПб ГБУ СШОР Колпинского района</td>\n",
       "      <td>192</td>\n",
       "    </tr>\n",
       "    <tr>\n",
       "      <th>598</th>\n",
       "      <td>МО г. Колпино, ГБУ ДО СШОР Колпинского р-на СПб</td>\n",
       "      <td>192</td>\n",
       "    </tr>\n",
       "    <tr>\n",
       "      <th>599</th>\n",
       "      <td>МО г.Колпино, ГБУ ДО СШОР Колпинского р-на</td>\n",
       "      <td>192</td>\n",
       "    </tr>\n",
       "    <tr>\n",
       "      <th>600</th>\n",
       "      <td>СШОР Колпино</td>\n",
       "      <td>192</td>\n",
       "    </tr>\n",
       "    <tr>\n",
       "      <th>601</th>\n",
       "      <td>ГБУ ДО СШОР Колпинского р-на СПб</td>\n",
       "      <td>192</td>\n",
       "    </tr>\n",
       "    <tr>\n",
       "      <th>602</th>\n",
       "      <td>СШОР Колпинского района, Санкт-Петербург</td>\n",
       "      <td>192</td>\n",
       "    </tr>\n",
       "  </tbody>\n",
       "</table>\n",
       "</div>"
      ],
      "text/plain": [
       "                                                name  school_id\n",
       "350               Санкт-Петрбург, СК ФК Т. Москвиной        105\n",
       "351          Санкт-Петербург, АНО СК ФК Т. Москвиной        105\n",
       "352    Санкт-Петербург, АНО \"СК ФК Тамары Москвиной\"        105\n",
       "353          Санкт-Петербург, СК ФК Тамары Москвиной        105\n",
       "354                                              NaN        105\n",
       "355               Санкт-Петербург, СК ФК Т.Москвиной        105\n",
       "356                                СК ФК Т Москвиной        105\n",
       "357                             АНО СКФК Т.Москвиной        105\n",
       "358                                СК ФК Т.Москвиной        105\n",
       "359                      АНО \"СКФК Тамары Москвиной\"        105\n",
       "592                      ГБУ СШОР Колпинского района        192\n",
       "593         Санкт-Петербург, СШОР Колпинского района        192\n",
       "594          Санкт-Петрбург, СШОР Колпинского района        192\n",
       "595                                              NaN        192\n",
       "596               ГБУ ДО СШОР Колпинского района СПб        192\n",
       "597                  СПб ГБУ СШОР Колпинского района        192\n",
       "598  МО г. Колпино, ГБУ ДО СШОР Колпинского р-на СПб        192\n",
       "599       МО г.Колпино, ГБУ ДО СШОР Колпинского р-на        192\n",
       "600                                     СШОР Колпино        192\n",
       "601                 ГБУ ДО СШОР Колпинского р-на СПб        192\n",
       "602         СШОР Колпинского района, Санкт-Петербург        192"
      ]
     },
     "execution_count": 36,
     "metadata": {},
     "output_type": "execute_result"
    }
   ],
   "source": [
    "matches.query(\"school_id in @ids_with_na\")"
   ]
  },
  {
   "cell_type": "code",
   "execution_count": 37,
   "metadata": {},
   "outputs": [
    {
     "name": "stdout",
     "output_type": "stream",
     "text": [
      "<class 'pandas.core.frame.DataFrame'>\n",
      "RangeIndex: 919 entries, 0 to 918\n",
      "Data columns (total 2 columns):\n",
      " #   Column     Non-Null Count  Dtype \n",
      "---  ------     --------------  ----- \n",
      " 0   name       919 non-null    object\n",
      " 1   school_id  919 non-null    int64 \n",
      "dtypes: int64(1), object(1)\n",
      "memory usage: 14.5+ KB\n"
     ]
    }
   ],
   "source": [
    "matches = matches[~matches.name.isna()]\n",
    "matches.reset_index(drop=True, inplace=True)\n",
    "matches.info()"
   ]
  },
  {
   "cell_type": "markdown",
   "metadata": {},
   "source": [
    "Разделим данные на тренировочную, валидационную и тестовую выборки в соотношении 0.6:0.2:0.2.\n",
    "\n",
    "Тестовую выборку будем использовать только для тестирования итогового инференса.\n",
    "\n",
    "Валидационную выборку будем использовать для валидации различных инференсов.\n",
    "\n",
    "Реализация кросс-валидации не планируется, но возможна."
   ]
  },
  {
   "cell_type": "code",
   "execution_count": 38,
   "metadata": {},
   "outputs": [],
   "source": [
    "from sklearn.model_selection import train_test_split"
   ]
  },
  {
   "cell_type": "code",
   "execution_count": 40,
   "metadata": {},
   "outputs": [
    {
     "name": "stdout",
     "output_type": "stream",
     "text": [
      "(551, 2) (184, 2) (184, 2)\n"
     ]
    }
   ],
   "source": [
    "train, valid_test = train_test_split(matches, test_size=0.4, shuffle=True)\n",
    "\n",
    "valid, test, valid, test = train_test_split(\n",
    "    valid_test, valid_test, test_size=0.5, shuffle=True\n",
    ")\n",
    "\n",
    "print(\n",
    "    train.shape,\n",
    "    valid.shape,\n",
    "    test.shape,\n",
    ")\n"
   ]
  },
  {
   "cell_type": "code",
   "execution_count": 41,
   "metadata": {},
   "outputs": [],
   "source": [
    "train.to_csv(\"../data/splited/train.csv\", index=False)\n",
    "valid.to_csv(\"../data/splited/valid.csv\", index=False)\n",
    "test.to_csv(\"../data/splited/test.csv\", index=False)"
   ]
  },
  {
   "cell_type": "code",
   "execution_count": 42,
   "metadata": {},
   "outputs": [],
   "source": [
    "schools.to_csv(\"../data/reference.csv\", index=False)"
   ]
  },
  {
   "cell_type": "code",
   "execution_count": null,
   "metadata": {},
   "outputs": [],
   "source": []
  }
 ],
 "metadata": {
  "kernelspec": {
   "display_name": ".venv",
   "language": "python",
   "name": "python3"
  },
  "language_info": {
   "codemirror_mode": {
    "name": "ipython",
    "version": 3
   },
   "file_extension": ".py",
   "mimetype": "text/x-python",
   "name": "python",
   "nbconvert_exporter": "python",
   "pygments_lexer": "ipython3",
   "version": "3.12.3"
  }
 },
 "nbformat": 4,
 "nbformat_minor": 2
}
