{
 "cells": [
  {
   "cell_type": "code",
   "execution_count": 1,
   "metadata": {},
   "outputs": [
    {
     "name": "stderr",
     "output_type": "stream",
     "text": [
      "[nltk_data] Downloading package punkt to\n",
      "[nltk_data]     C:\\Users\\filat\\AppData\\Roaming\\nltk_data...\n",
      "[nltk_data]   Package punkt is already up-to-date!\n",
      "[nltk_data] Downloading package stopwords to\n",
      "[nltk_data]     C:\\Users\\filat\\AppData\\Roaming\\nltk_data...\n",
      "[nltk_data]   Package stopwords is already up-to-date!\n"
     ]
    }
   ],
   "source": [
    "import json\n",
    "import os\n",
    "import sys\n",
    "\n",
    "import joblib\n",
    "\n",
    "# Добавляем корневую директорию проекта в sys.path\n",
    "sys.path.append(os.path.abspath(os.path.join(os.getcwd(), \"../../\")))\n",
    "\n",
    "# Импортируем metrics из utils\n",
    "from utils import metrics as mtc\n",
    "from utils import preprocess_functions as ppf"
   ]
  },
  {
   "cell_type": "code",
   "execution_count": 2,
   "metadata": {},
   "outputs": [],
   "source": [
    "import matplotlib.pyplot as plt\n",
    "import numpy as np\n",
    "import pandas as pd\n",
    "from sklearn.metrics.pairwise import cosine_similarity"
   ]
  },
  {
   "cell_type": "markdown",
   "metadata": {},
   "source": [
    "# Готовим дата-сеты (предобработка)"
   ]
  },
  {
   "cell_type": "code",
   "execution_count": 3,
   "metadata": {},
   "outputs": [],
   "source": [
    "reference = pd.read_csv(\"../../data/preprocessed/general/reference.csv\")\n",
    "train = pd.read_csv(\"../../data/splited/train.csv\")\n",
    "valid = pd.read_csv(\"../../data/splited/valid.csv\")"
   ]
  },
  {
   "cell_type": "code",
   "execution_count": 4,
   "metadata": {},
   "outputs": [
    {
     "data": {
      "text/html": [
       "<div>\n",
       "<style scoped>\n",
       "    .dataframe tbody tr th:only-of-type {\n",
       "        vertical-align: middle;\n",
       "    }\n",
       "\n",
       "    .dataframe tbody tr th {\n",
       "        vertical-align: top;\n",
       "    }\n",
       "\n",
       "    .dataframe thead th {\n",
       "        text-align: right;\n",
       "    }\n",
       "</style>\n",
       "<table border=\"1\" class=\"dataframe\">\n",
       "  <thead>\n",
       "    <tr style=\"text-align: right;\">\n",
       "      <th></th>\n",
       "      <th>id</th>\n",
       "      <th>name</th>\n",
       "      <th>region</th>\n",
       "      <th>processed_name</th>\n",
       "    </tr>\n",
       "  </thead>\n",
       "  <tbody>\n",
       "    <tr>\n",
       "      <th>0</th>\n",
       "      <td>69</td>\n",
       "      <td>Кировска</td>\n",
       "      <td>мурманская область</td>\n",
       "      <td>кировска</td>\n",
       "    </tr>\n",
       "  </tbody>\n",
       "</table>\n",
       "</div>"
      ],
      "text/plain": [
       "   id      name              region processed_name\n",
       "0  69  Кировска  мурманская область       кировска"
      ]
     },
     "execution_count": 4,
     "metadata": {},
     "output_type": "execute_result"
    }
   ],
   "source": [
    "reference[\"processed_name\"] = reference.name.apply(\n",
    "    ppf.simple_preprocess_text\n",
    ").str.lower()\n",
    "reference.processed_name = reference.processed_name.apply(ppf.replace_numbers_with_text)\n",
    "reference.head(1)"
   ]
  },
  {
   "cell_type": "code",
   "execution_count": 5,
   "metadata": {},
   "outputs": [
    {
     "data": {
      "text/html": [
       "<div>\n",
       "<style scoped>\n",
       "    .dataframe tbody tr th:only-of-type {\n",
       "        vertical-align: middle;\n",
       "    }\n",
       "\n",
       "    .dataframe tbody tr th {\n",
       "        vertical-align: top;\n",
       "    }\n",
       "\n",
       "    .dataframe thead th {\n",
       "        text-align: right;\n",
       "    }\n",
       "</style>\n",
       "<table border=\"1\" class=\"dataframe\">\n",
       "  <thead>\n",
       "    <tr style=\"text-align: right;\">\n",
       "      <th></th>\n",
       "      <th>name</th>\n",
       "      <th>school_id</th>\n",
       "      <th>processed_name</th>\n",
       "    </tr>\n",
       "  </thead>\n",
       "  <tbody>\n",
       "    <tr>\n",
       "      <th>0</th>\n",
       "      <td>Москва, ГБУ МАФКК школа \"Мечта\"</td>\n",
       "      <td>102</td>\n",
       "      <td>москва гбу мафкк школа мечта</td>\n",
       "    </tr>\n",
       "  </tbody>\n",
       "</table>\n",
       "</div>"
      ],
      "text/plain": [
       "                              name  school_id                processed_name\n",
       "0  Москва, ГБУ МАФКК школа \"Мечта\"        102  москва гбу мафкк школа мечта"
      ]
     },
     "execution_count": 5,
     "metadata": {},
     "output_type": "execute_result"
    }
   ],
   "source": [
    "train[\"processed_name\"] = train.name.apply(ppf.simple_preprocess_text).str.lower()\n",
    "train.processed_name = train.processed_name.apply(ppf.replace_numbers_with_text)\n",
    "train.head(1)"
   ]
  },
  {
   "cell_type": "code",
   "execution_count": 6,
   "metadata": {},
   "outputs": [
    {
     "data": {
      "text/html": [
       "<div>\n",
       "<style scoped>\n",
       "    .dataframe tbody tr th:only-of-type {\n",
       "        vertical-align: middle;\n",
       "    }\n",
       "\n",
       "    .dataframe tbody tr th {\n",
       "        vertical-align: top;\n",
       "    }\n",
       "\n",
       "    .dataframe thead th {\n",
       "        text-align: right;\n",
       "    }\n",
       "</style>\n",
       "<table border=\"1\" class=\"dataframe\">\n",
       "  <thead>\n",
       "    <tr style=\"text-align: right;\">\n",
       "      <th></th>\n",
       "      <th>name</th>\n",
       "      <th>school_id</th>\n",
       "      <th>processed_name</th>\n",
       "    </tr>\n",
       "  </thead>\n",
       "  <tbody>\n",
       "    <tr>\n",
       "      <th>0</th>\n",
       "      <td>Санкт-Петербург, СПб СШОР</td>\n",
       "      <td>198</td>\n",
       "      <td>санкт петербург спб сшор</td>\n",
       "    </tr>\n",
       "  </tbody>\n",
       "</table>\n",
       "</div>"
      ],
      "text/plain": [
       "                        name  school_id            processed_name\n",
       "0  Санкт-Петербург, СПб СШОР        198  санкт петербург спб сшор"
      ]
     },
     "execution_count": 6,
     "metadata": {},
     "output_type": "execute_result"
    }
   ],
   "source": [
    "valid[\"processed_name\"] = valid.name.apply(ppf.simple_preprocess_text).str.lower()\n",
    "valid.processed_name = valid.processed_name.apply(ppf.replace_numbers_with_text)\n",
    "valid.head(1)"
   ]
  },
  {
   "cell_type": "markdown",
   "metadata": {},
   "source": [
    "### Преобразования в np.array"
   ]
  },
  {
   "cell_type": "code",
   "execution_count": 7,
   "metadata": {},
   "outputs": [],
   "source": [
    "x_train = train[\"processed_name\"].to_numpy(dtype=\"str\").flatten()\n",
    "y_train = train[\"school_id\"].to_numpy(dtype=\"int\").flatten()\n",
    "region_train = np.full(train.shape[0], \"unknown\")\n",
    "\n",
    "x_valid = valid[\"processed_name\"].to_numpy(dtype=\"str\").flatten()\n",
    "y_valid = valid[\"school_id\"].to_numpy(dtype=\"int\").flatten()\n",
    "region_valid = np.full(train.shape[0], \"unknown\")\n",
    "\n",
    "reference_id = reference[\"id\"].to_numpy(dtype=\"int\").flatten()\n",
    "reference_name = reference[\"processed_name\"].to_numpy(dtype=\"str\").flatten()\n",
    "reference_region = reference[\"region\"].to_numpy(dtype=\"str\").flatten()"
   ]
  },
  {
   "cell_type": "code",
   "execution_count": 8,
   "metadata": {},
   "outputs": [
    {
     "data": {
      "text/plain": [
       "['../../resources/exp33/reference_region.joblib']"
      ]
     },
     "execution_count": 8,
     "metadata": {},
     "output_type": "execute_result"
    }
   ],
   "source": [
    "joblib.dump(reference_id, \"../../resources/exp33/reference_id.joblib\")\n",
    "joblib.dump(reference_name, \"../../resources/exp33/reference_name.joblib\")\n",
    "joblib.dump(reference_region, \"../../resources/exp33/reference_region.joblib\")"
   ]
  },
  {
   "cell_type": "markdown",
   "metadata": {},
   "source": [
    "# Модель"
   ]
  },
  {
   "cell_type": "code",
   "execution_count": 9,
   "metadata": {},
   "outputs": [],
   "source": [
    "from fuzzywuzzy import fuzz  # Добавлено для fuzzywuzzy\n",
    "from sklearn.metrics.pairwise import euclidean_distances, manhattan_distances\n",
    "\n",
    "\n",
    "def calculate_similarity(x, y, method=\"cosine\"):\n",
    "    if method == \"cosine\":\n",
    "        return cosine_similarity(x, y)\n",
    "    elif method == \"euclidean\":\n",
    "        return -euclidean_distances(x, y)  # Инвертируем, чтобы максимизировать схожесть\n",
    "    elif method == \"manhattan\":\n",
    "        return -manhattan_distances(x, y)  # Инвертируем, чтобы максимизировать схожесть\n",
    "    elif method == \"fuzzywuzzy\":  # Добавлено для fuzzywuzzy\n",
    "        return fuzz.ratio(x, y) / 100.0  # Нормализуем до диапазона [0, 1]\n",
    "    else:\n",
    "        raise ValueError(f\"Unknown similarity method: {method}\")\n",
    "\n",
    "\n",
    "def find_matches(\n",
    "    x_vec,\n",
    "    x_region,\n",
    "    reference_id,\n",
    "    reference_vec,\n",
    "    reference_region,\n",
    "    top_k=5,\n",
    "    threshold=0.9,\n",
    "    filter_by_region=True,\n",
    "    empty_region=\"all\",\n",
    "    similarity_method=\"cosine\",\n",
    "):\n",
    "    y_pred = []\n",
    "    manual_review = []\n",
    "\n",
    "    for i, x in enumerate(x_vec):\n",
    "        # Фильтруем reference_vec и reference_id по текущему региону, если включена фильтрация по регионам\n",
    "        if filter_by_region:\n",
    "            # Фильтруем reference_vec и reference_id по текущему региону\n",
    "            current_region = x_region[i]\n",
    "            region_mask = reference_region == current_region\n",
    "            filtered_reference_vec = reference_vec[region_mask]\n",
    "            filtered_reference_id = reference_id[region_mask]\n",
    "\n",
    "            # Способ обработки, если в текущем регионе нет школ для сравнения\n",
    "            if empty_region == \"all\":\n",
    "                # Если в текущем регионе нет школ для сравнения, используем все школы\n",
    "                if filtered_reference_vec.shape[0] == 0:\n",
    "                    filtered_reference_vec = reference_vec\n",
    "                    filtered_reference_id = reference_id\n",
    "            else:\n",
    "                if filtered_reference_vec.shape[0] == 0:\n",
    "                    # Если в текущем регионе нет школ для сравнения, то помечаем на ручную обработку\n",
    "                    manual_review.append(x)\n",
    "                    top_matches = [(None, 0.0)] * top_k\n",
    "                    y_pred.append(top_matches)\n",
    "                    continue\n",
    "        else:\n",
    "            filtered_reference_vec = reference_vec\n",
    "            filtered_reference_id = reference_id\n",
    "\n",
    "        if similarity_method == \"fuzzywuzzy\":  # Добавлено для fuzzywuzzy\n",
    "            # Вычисляем сходство с помощью fuzzywuzzy\n",
    "            similarities = [\n",
    "                calculate_similarity(x, y, method=similarity_method)\n",
    "                for y in filtered_reference_vec\n",
    "            ]\n",
    "        else:\n",
    "            # Вычисляем выбранное расстояние\n",
    "            similarities = calculate_similarity(\n",
    "                x, filtered_reference_vec, method=similarity_method\n",
    "            ).flatten()\n",
    "\n",
    "        top_indices = np.argsort(similarities)[-top_k:][::-1]\n",
    "        max_similarity = max(similarities)\n",
    "\n",
    "        # Учитываем пороговое значение для различных методов\n",
    "        if similarity_method in [\"cosine\", \"fuzzywuzzy\"]:\n",
    "            if max_similarity < threshold:\n",
    "                manual_review.append(x)\n",
    "                top_matches = [(None, 0.0)] * top_k\n",
    "            else:\n",
    "                top_matches = [\n",
    "                    (filtered_reference_id[i], similarities[i]) for i in top_indices\n",
    "                ]\n",
    "                if len(top_matches) < top_k:\n",
    "                    top_matches += [(None, 0.0)] * (top_k - len(top_matches))\n",
    "        else:  # Для других методов расстояний (евклидово и манхэттенское)\n",
    "            if max_similarity > -threshold:  # Обратите внимание на инверсию\n",
    "                manual_review.append(x)\n",
    "                top_matches = [(None, 0.0)] * top_k\n",
    "            else:\n",
    "                top_matches = [\n",
    "                    (filtered_reference_id[i], -similarities[i]) for i in top_indices\n",
    "                ]\n",
    "                if len(top_matches) < top_k:\n",
    "                    top_matches += [(None, 0.0)] * (top_k - len(top_matches))\n",
    "\n",
    "        y_pred.append(top_matches)\n",
    "\n",
    "    return y_pred, manual_review"
   ]
  },
  {
   "cell_type": "markdown",
   "metadata": {},
   "source": [
    "# Векторизация"
   ]
  },
  {
   "cell_type": "code",
   "execution_count": 10,
   "metadata": {},
   "outputs": [],
   "source": [
    "# reference_vec = reference_name\n",
    "# x_vec_valid = x_valid\n",
    "\n"
   ]
  },
  {
   "cell_type": "code",
   "execution_count": 11,
   "metadata": {},
   "outputs": [],
   "source": [
    "# joblib.dump(reference_vec, \"../../resources/exp32/reference_vec.joblib\")\n",
    "\n"
   ]
  },
  {
   "cell_type": "code",
   "execution_count": 12,
   "metadata": {},
   "outputs": [],
   "source": [
    "# Массив значений threshold\n",
    "threshold_values = np.linspace(0.0, 1.0, 25)\n",
    "\n",
    "# Запуск функции и сбор метрик\n",
    "metrics_list = []\n",
    "for threshold in threshold_values:\n",
    "    y_pred, manual_review = find_matches(\n",
    "        x_valid,\n",
    "        region_valid,\n",
    "        reference_id,\n",
    "        reference_name,\n",
    "        reference_region,\n",
    "        top_k=5,\n",
    "        threshold=threshold,\n",
    "        filter_by_region=False,\n",
    "        empty_region=\"all\",\n",
    "        # similarity_method=\"euclidean\",\n",
    "        similarity_method=\"fuzzywuzzy\",\n",
    "        # similarity_method=\"manhattan\",\n",
    "    )\n",
    "    metrics = mtc.calculate_metrics(y_valid, y_pred, manual_review)\n",
    "    metrics_list.append(metrics)\n",
    "\n",
    "# Преобразование метрик в удобный формат для построения графика\n",
    "auto_error_rate_values = [metrics[\"auto_error_rate\"] for metrics in metrics_list]\n",
    "manual_processing_rate_values = [\n",
    "    metrics[\"manual_processing_rate\"] for metrics in metrics_list\n",
    "]\n",
    "# general_spend_values = [metrics['general_spend'] for metrics in metrics_list]\n",
    "general_error_values = [metrics[\"general_error\"] for metrics in metrics_list]"
   ]
  },
  {
   "cell_type": "code",
   "execution_count": 13,
   "metadata": {},
   "outputs": [],
   "source": [
    "plots_json = {\n",
    "    \"threshold_values\": threshold_values.tolist(),\n",
    "    \"auto_error_rate_values\": auto_error_rate_values,\n",
    "    \"manual_processing_rate_values\": manual_processing_rate_values,\n",
    "    \"general_error_values\": general_error_values,\n",
    "}\n",
    "\n",
    "# Сохраняем словарь в файл JSON\n",
    "with open(\"../../plots/exp33.json\", \"w\", encoding=\"utf-8\") as f:\n",
    "    json.dump(plots_json, f, ensure_ascii=False, indent=4)"
   ]
  },
  {
   "cell_type": "code",
   "execution_count": 14,
   "metadata": {},
   "outputs": [
    {
     "data": {
      "image/png": "[encoded data removed]",
      "text/plain": [
       "<Figure size 800x500 with 1 Axes>"
      ]
     },
     "metadata": {},
     "output_type": "display_data"
    }
   ],
   "source": [
    "from matplotlib.ticker import PercentFormatter\n",
    "\n",
    "# Построение графика\n",
    "plt.figure(figsize=(8, 5))\n",
    "\n",
    "# plt.subplot(1, 2, 1)\n",
    "plt.plot(\n",
    "    manual_processing_rate_values,\n",
    "    auto_error_rate_values,\n",
    "    label=\"Ошибка автоматического разбора\",\n",
    ")\n",
    "plt.plot(manual_processing_rate_values, general_error_values, label=\"Общая ошибка\")\n",
    "plt.xlabel(\"Доля ручного разбора\")\n",
    "plt.ylabel(\"Ошибка\")\n",
    "plt.title(\"Зависимости ошибки\")\n",
    "plt.legend()\n",
    "\n",
    "# Установка формата осей в процентах\n",
    "plt.gca().xaxis.set_major_formatter(PercentFormatter(1))\n",
    "# plt.gca().yaxis.set_major_formatter(PercentFormatter(1))\n",
    "\n",
    "# Установка максимального значения оси y\n",
    "plt.ylim(0, 1.0)\n",
    "\n",
    "plt.show()"
   ]
  },
  {
   "cell_type": "code",
   "execution_count": 15,
   "metadata": {},
   "outputs": [
    {
     "data": {
      "text/plain": [
       "{'Accuracy@1': 0.342,\n",
       " 'Accuracy@3': 0.5,\n",
       " 'Accuracy@5': 0.538,\n",
       " 'auto_error_rate': 0.658,\n",
       " 'manual_processing_rate': 0.0,\n",
       " 'general_error': 0.658}"
      ]
     },
     "execution_count": 15,
     "metadata": {},
     "output_type": "execute_result"
    }
   ],
   "source": [
    "y_pred, manual_review = find_matches(\n",
    "    x_valid,\n",
    "    region_valid,\n",
    "    reference_id,\n",
    "    reference_name,\n",
    "    reference_region,\n",
    "    top_k=5,\n",
    "    threshold=0.01,\n",
    "    filter_by_region=False,\n",
    "    empty_region=\"all\",  # is ignored if filter_by_region=False\n",
    "    # similarity_method=\"euclidean\",\n",
    "    similarity_method=\"fuzzywuzzy\",\n",
    "    # similarity_method=\"manhattan\",\n",
    ")\n",
    "\n",
    "metrics = mtc.calculate_metrics(y_valid, y_pred, manual_review)\n",
    "\n",
    "# Сохраняем словарь в файл JSON\n",
    "with open(\"../../evaluations/exp33.json\", \"w\", encoding=\"utf-8\") as f:\n",
    "    json.dump(metrics, f, ensure_ascii=False, indent=4)\n",
    "\n",
    "metrics"
   ]
  },
  {
   "cell_type": "code",
   "execution_count": null,
   "metadata": {},
   "outputs": [],
   "source": []
  }
 ],
 "metadata": {
  "kernelspec": {
   "display_name": ".venv",
   "language": "python",
   "name": "python3"
  },
  "language_info": {
   "codemirror_mode": {
    "name": "ipython",
    "version": 3
   },
   "file_extension": ".py",
   "mimetype": "text/x-python",
   "name": "python",
   "nbconvert_exporter": "python",
   "pygments_lexer": "ipython3",
   "version": "3.12.3"
  }
 },
 "nbformat": 4,
 "nbformat_minor": 2
}
