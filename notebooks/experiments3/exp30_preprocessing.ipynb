{
 "cells": [
  {
   "cell_type": "markdown",
   "metadata": {},
   "source": [
    "# Импорты"
   ]
  },
  {
   "cell_type": "code",
   "execution_count": 1,
   "metadata": {},
   "outputs": [],
   "source": [
    "import os\n",
    "import sys\n",
    "\n",
    "# Добавляем корневую директорию проекта в sys.path\n",
    "sys.path.append(os.path.abspath(os.path.join(os.getcwd(), \"../../\")))"
   ]
  },
  {
   "cell_type": "code",
   "execution_count": 2,
   "metadata": {},
   "outputs": [
    {
     "name": "stderr",
     "output_type": "stream",
     "text": [
      "[nltk_data] Downloading package punkt to\n",
      "[nltk_data]     C:\\Users\\filat\\AppData\\Roaming\\nltk_data...\n",
      "[nltk_data]   Package punkt is already up-to-date!\n",
      "[nltk_data] Downloading package stopwords to\n",
      "[nltk_data]     C:\\Users\\filat\\AppData\\Roaming\\nltk_data...\n",
      "[nltk_data]   Package stopwords is already up-to-date!\n"
     ]
    }
   ],
   "source": [
    "# Импортируем функции предобработки из utils\n",
    "from utils import preprocess_functions as ppf\n",
    "from utils import metrics as mtc"
   ]
  },
  {
   "cell_type": "code",
   "execution_count": 3,
   "metadata": {},
   "outputs": [],
   "source": [
    "import re\n",
    "\n",
    "\n",
    "import pandas as pd\n",
    "import numpy as np\n",
    "from matplotlib import pyplot as plt\n",
    "from sklearn.feature_extraction.text import TfidfVectorizer\n",
    "from sklearn.metrics.pairwise import cosine_similarity\n",
    "\n",
    "\n",
    "import joblib\n",
    "import itertools"
   ]
  },
  {
   "cell_type": "markdown",
   "metadata": {},
   "source": [
    "# Загружаем разделенные данные"
   ]
  },
  {
   "cell_type": "code",
   "execution_count": 4,
   "metadata": {},
   "outputs": [],
   "source": [
    "reference = pd.read_csv(\"../../data/reference.csv\")\n",
    "train = pd.read_csv(\"../../data/splited/train.csv\")\n",
    "valid = pd.read_csv(\"../../data/splited/valid.csv\")\n",
    "test = pd.read_csv(\"../../data/splited/test.csv\")"
   ]
  },
  {
   "cell_type": "code",
   "execution_count": 5,
   "metadata": {},
   "outputs": [
    {
     "data": {
      "text/html": [
       "<div>\n",
       "<style scoped>\n",
       "    .dataframe tbody tr th:only-of-type {\n",
       "        vertical-align: middle;\n",
       "    }\n",
       "\n",
       "    .dataframe tbody tr th {\n",
       "        vertical-align: top;\n",
       "    }\n",
       "\n",
       "    .dataframe thead th {\n",
       "        text-align: right;\n",
       "    }\n",
       "</style>\n",
       "<table border=\"1\" class=\"dataframe\">\n",
       "  <thead>\n",
       "    <tr style=\"text-align: right;\">\n",
       "      <th></th>\n",
       "      <th>id</th>\n",
       "      <th>name</th>\n",
       "      <th>region</th>\n",
       "    </tr>\n",
       "  </thead>\n",
       "  <tbody>\n",
       "    <tr>\n",
       "      <th>0</th>\n",
       "      <td>69</td>\n",
       "      <td>Кировска</td>\n",
       "      <td>Мурманская область</td>\n",
       "    </tr>\n",
       "  </tbody>\n",
       "</table>\n",
       "</div>"
      ],
      "text/plain": [
       "   id      name              region\n",
       "0  69  Кировска  Мурманская область"
      ]
     },
     "execution_count": 5,
     "metadata": {},
     "output_type": "execute_result"
    }
   ],
   "source": [
    "reference.head(1)"
   ]
  },
  {
   "cell_type": "code",
   "execution_count": 6,
   "metadata": {},
   "outputs": [
    {
     "data": {
      "text/html": [
       "<div>\n",
       "<style scoped>\n",
       "    .dataframe tbody tr th:only-of-type {\n",
       "        vertical-align: middle;\n",
       "    }\n",
       "\n",
       "    .dataframe tbody tr th {\n",
       "        vertical-align: top;\n",
       "    }\n",
       "\n",
       "    .dataframe thead th {\n",
       "        text-align: right;\n",
       "    }\n",
       "</style>\n",
       "<table border=\"1\" class=\"dataframe\">\n",
       "  <thead>\n",
       "    <tr style=\"text-align: right;\">\n",
       "      <th></th>\n",
       "      <th>name</th>\n",
       "      <th>school_id</th>\n",
       "    </tr>\n",
       "  </thead>\n",
       "  <tbody>\n",
       "    <tr>\n",
       "      <th>0</th>\n",
       "      <td>Москва, ГБУ МАФКК школа \"Мечта\"</td>\n",
       "      <td>102</td>\n",
       "    </tr>\n",
       "  </tbody>\n",
       "</table>\n",
       "</div>"
      ],
      "text/plain": [
       "                              name  school_id\n",
       "0  Москва, ГБУ МАФКК школа \"Мечта\"        102"
      ]
     },
     "execution_count": 6,
     "metadata": {},
     "output_type": "execute_result"
    }
   ],
   "source": [
    "train.head(1)"
   ]
  },
  {
   "cell_type": "markdown",
   "metadata": {},
   "source": [
    "# Обработка reference.region"
   ]
  },
  {
   "cell_type": "code",
   "execution_count": 7,
   "metadata": {},
   "outputs": [],
   "source": [
    "reference.region = reference.region.apply(ppf.simple_preprocess_text).str.lower()"
   ]
  },
  {
   "cell_type": "code",
   "execution_count": 39,
   "metadata": {},
   "outputs": [],
   "source": [
    "region_dict = joblib.load(\"../../resources/general/region_dict.joblib\")"
   ]
  },
  {
   "cell_type": "code",
   "execution_count": 9,
   "metadata": {},
   "outputs": [
    {
     "name": "stdout",
     "output_type": "stream",
     "text": [
      "набережные челны -> республика татарстан\n",
      "северодвинск -> архангельская область\n"
     ]
    }
   ],
   "source": [
    "for reference_region in reference.region.sort_values().unique():\n",
    "    if reference_region not in region_dict:\n",
    "        for region in region_dict:\n",
    "            if reference_region in region_dict[region]:\n",
    "                reference.region = reference.region.str.replace(\n",
    "                    f\"{reference_region}\", f\"{region}\"\n",
    "                )\n",
    "                print(f\"{reference_region} -> {region}\")"
   ]
  },
  {
   "cell_type": "code",
   "execution_count": 10,
   "metadata": {},
   "outputs": [
    {
     "name": "stdout",
     "output_type": "stream",
     "text": [
      "Unknown region: республика саха\n",
      "Unknown region: республика чувашия\n",
      "Unknown region: хмао югра\n",
      "Unknown region: ямало ненецкий ао\n"
     ]
    }
   ],
   "source": [
    "for reference_region in reference.region.sort_values().unique():\n",
    "    if reference_region not in region_dict:\n",
    "        print(f\"Unknown region: {reference_region}\")"
   ]
  },
  {
   "cell_type": "code",
   "execution_count": 11,
   "metadata": {},
   "outputs": [],
   "source": [
    "reference.region = reference.region.str.replace(\n",
    "    \"республика саха\",\n",
    "    \"республика саха якутия\",\n",
    ")\n",
    "reference.region = reference.region.str.replace(\n",
    "    \"республика чувашия\",\n",
    "    \"чувашская республика\",\n",
    ")\n",
    "reference.region = reference.region.str.replace(\n",
    "    \"хмао югра\",\n",
    "    \"ханты мансийский автономный округ\",\n",
    ")\n",
    "reference.region = reference.region.str.replace(\n",
    "    \"ямало ненецкий ао\",\n",
    "    \"ямало ненецкий автономный округ\",\n",
    ")"
   ]
  },
  {
   "cell_type": "code",
   "execution_count": 12,
   "metadata": {},
   "outputs": [
    {
     "data": {
      "text/html": [
       "<div>\n",
       "<style scoped>\n",
       "    .dataframe tbody tr th:only-of-type {\n",
       "        vertical-align: middle;\n",
       "    }\n",
       "\n",
       "    .dataframe tbody tr th {\n",
       "        vertical-align: top;\n",
       "    }\n",
       "\n",
       "    .dataframe thead th {\n",
       "        text-align: right;\n",
       "    }\n",
       "</style>\n",
       "<table border=\"1\" class=\"dataframe\">\n",
       "  <thead>\n",
       "    <tr style=\"text-align: right;\">\n",
       "      <th></th>\n",
       "      <th>id</th>\n",
       "      <th>name</th>\n",
       "      <th>region</th>\n",
       "    </tr>\n",
       "  </thead>\n",
       "  <tbody>\n",
       "    <tr>\n",
       "      <th>0</th>\n",
       "      <td>69</td>\n",
       "      <td>Кировска</td>\n",
       "      <td>мурманская область</td>\n",
       "    </tr>\n",
       "    <tr>\n",
       "      <th>1</th>\n",
       "      <td>70</td>\n",
       "      <td>Клин спортивный</td>\n",
       "      <td>московская область</td>\n",
       "    </tr>\n",
       "    <tr>\n",
       "      <th>2</th>\n",
       "      <td>71</td>\n",
       "      <td>КО СШ по ЗВС</td>\n",
       "      <td>калининградская область</td>\n",
       "    </tr>\n",
       "    <tr>\n",
       "      <th>3</th>\n",
       "      <td>8</td>\n",
       "      <td>Айсберг</td>\n",
       "      <td>свердловская область</td>\n",
       "    </tr>\n",
       "    <tr>\n",
       "      <th>4</th>\n",
       "      <td>73</td>\n",
       "      <td>Команда Дмитриева</td>\n",
       "      <td>челябинская область</td>\n",
       "    </tr>\n",
       "  </tbody>\n",
       "</table>\n",
       "</div>"
      ],
      "text/plain": [
       "   id               name                   region\n",
       "0  69           Кировска       мурманская область\n",
       "1  70    Клин спортивный       московская область\n",
       "2  71       КО СШ по ЗВС  калининградская область\n",
       "3   8            Айсберг     свердловская область\n",
       "4  73  Команда Дмитриева      челябинская область"
      ]
     },
     "execution_count": 12,
     "metadata": {},
     "output_type": "execute_result"
    }
   ],
   "source": [
    "reference.head()"
   ]
  },
  {
   "cell_type": "markdown",
   "metadata": {},
   "source": [
    "Удалим дубликаты"
   ]
  },
  {
   "cell_type": "code",
   "execution_count": 13,
   "metadata": {},
   "outputs": [],
   "source": [
    "reference = reference[~(reference.id == 296)]"
   ]
  },
  {
   "cell_type": "code",
   "execution_count": 14,
   "metadata": {},
   "outputs": [],
   "source": [
    "reference.to_csv(\"../../data/preprocessed/general/reference.csv\", index=False)"
   ]
  },
  {
   "cell_type": "markdown",
   "metadata": {},
   "source": [
    "# Простая обработка текста"
   ]
  },
  {
   "cell_type": "code",
   "execution_count": 15,
   "metadata": {},
   "outputs": [],
   "source": [
    "reference[\"new\"] = reference.name.apply(ppf.simple_preprocess_text).str.lower()\n",
    "reference.new = reference.new.apply(ppf.replace_numbers_with_text)"
   ]
  },
  {
   "cell_type": "code",
   "execution_count": 16,
   "metadata": {},
   "outputs": [
    {
     "data": {
      "text/html": [
       "<div>\n",
       "<style scoped>\n",
       "    .dataframe tbody tr th:only-of-type {\n",
       "        vertical-align: middle;\n",
       "    }\n",
       "\n",
       "    .dataframe tbody tr th {\n",
       "        vertical-align: top;\n",
       "    }\n",
       "\n",
       "    .dataframe thead th {\n",
       "        text-align: right;\n",
       "    }\n",
       "</style>\n",
       "<table border=\"1\" class=\"dataframe\">\n",
       "  <thead>\n",
       "    <tr style=\"text-align: right;\">\n",
       "      <th></th>\n",
       "      <th>id</th>\n",
       "      <th>name</th>\n",
       "      <th>region</th>\n",
       "      <th>new</th>\n",
       "    </tr>\n",
       "  </thead>\n",
       "  <tbody>\n",
       "    <tr>\n",
       "      <th>187</th>\n",
       "      <td>206</td>\n",
       "      <td>СШОР No 1</td>\n",
       "      <td>самарская область</td>\n",
       "      <td>сшор один</td>\n",
       "    </tr>\n",
       "    <tr>\n",
       "      <th>51</th>\n",
       "      <td>53</td>\n",
       "      <td>ДЮСШ No 1</td>\n",
       "      <td>тюменская область</td>\n",
       "      <td>дюсш один</td>\n",
       "    </tr>\n",
       "  </tbody>\n",
       "</table>\n",
       "</div>"
      ],
      "text/plain": [
       "      id       name             region        new\n",
       "187  206  СШОР No 1  самарская область  сшор один\n",
       "51    53  ДЮСШ No 1  тюменская область  дюсш один"
      ]
     },
     "execution_count": 16,
     "metadata": {},
     "output_type": "execute_result"
    }
   ],
   "source": [
    "reference.loc[[187, 51], :]"
   ]
  },
  {
   "cell_type": "markdown",
   "metadata": {},
   "source": [
    "# Раширенная обработка текста: работа с аббревиатурами"
   ]
  },
  {
   "cell_type": "markdown",
   "metadata": {},
   "source": [
    "## Удаление всех аббревиатур"
   ]
  },
  {
   "cell_type": "markdown",
   "metadata": {},
   "source": [
    "Формируем blacklist и whitelist аббревиатур, для этого не обязательно иметь аббревиатуры в верхнем регистре. Аббериватуры из blacklist будут удалены."
   ]
  },
  {
   "cell_type": "code",
   "execution_count": 40,
   "metadata": {},
   "outputs": [],
   "source": [
    "abbr_dict = joblib.load(\"../../resources/general/abbreviations_dict.joblib\")"
   ]
  },
  {
   "cell_type": "markdown",
   "metadata": {},
   "source": [
    "Расшифровываем все аббревиатуры"
   ]
  },
  {
   "cell_type": "code",
   "execution_count": 19,
   "metadata": {},
   "outputs": [],
   "source": [
    "def preprocess_text(\n",
    "    name,\n",
    "    abbreviation_dict,\n",
    "    output_list=False,\n",
    "    unknown_answer=False,\n",
    "    remove_unknown_abbr=False,\n",
    "    remove_all_abbr=False,\n",
    "):\n",
    "    two_letter_prepositions = [\n",
    "        \" в \",\n",
    "        \" во \",\n",
    "        \" до \",\n",
    "        \" из \",\n",
    "        \" на \",\n",
    "        \" по \",\n",
    "        \" о \",\n",
    "        \" об \",\n",
    "        \" обо \",\n",
    "        \" у \",\n",
    "    ]\n",
    "\n",
    "    symbols = [\" no\", \" NO\", \" No\", \"номер\"]\n",
    "\n",
    "    # Удаляем служебные символы (перенос строки, табуляция и т.д.)\n",
    "    name = re.sub(r\"[\\n\\t\\r]\", \" \", name)\n",
    "\n",
    "    # Создаем регулярное выражение для предлогов\n",
    "    prepositions_pattern = (\n",
    "        r\"\\b(?:\" + \"\".join(two_letter_prepositions) + \"\".join(symbols) + r\")\\b\"\n",
    "    )\n",
    "\n",
    "    # Заменяем все предлоги на пробем (предварительное решение вместо трудоемкого удаления стоп-слов)\n",
    "    name = re.sub(prepositions_pattern, \" \", name)\n",
    "\n",
    "    # Удаление пунктуации\n",
    "    name = re.sub(r\"[^\\w\\s]\", \" \", name)\n",
    "\n",
    "    # Удаление отдельных букв\n",
    "    name = re.sub(r\"\\b[А-ЯЁа-яё]\\b\", \" \", name)\n",
    "\n",
    "    # Удаление букв ё\n",
    "    name = re.sub(r\"[Ёё]\", \"е\", name)\n",
    "\n",
    "    unknown_abbr = []\n",
    "    # Находим аббревиатуры большими буквами и приводим их к нижнему регистру\n",
    "    # Надо уточнить поиск неизвестных.\n",
    "    # А если в конце аббревиатуры прописная буква?\n",
    "    uppercase_abbreviations = re.findall(r\"\\b[А-ЯЁ]+[а-яё]*+[А-ЯЁ]+\\b\", name)\n",
    "    for abbr in uppercase_abbreviations:\n",
    "        abbr = abbr.lower()\n",
    "        if abbr not in abbreviation_dict:\n",
    "            unknown_abbr.append(abbr.upper())\n",
    "            if remove_unknown_abbr:\n",
    "                name = re.sub(r\"\\b\" + re.escape(abbr.upper()) + r\"\\b\", \" \", name)\n",
    "\n",
    "    # Удаление лишних пробелов\n",
    "    name = re.sub(r\"\\s+\", \" \", name)\n",
    "\n",
    "    # Удаление пробелов в начале и в конце\n",
    "    name = name.strip()\n",
    "\n",
    "    possible_replacements = []\n",
    "    parts = name.lower().split()\n",
    "\n",
    "    for part in parts:\n",
    "        if part in abbreviation_dict:\n",
    "            if not remove_all_abbr:\n",
    "                replacements = abbreviation_dict[part]\n",
    "                if isinstance(replacements, str):\n",
    "                    replacements = [replacements]\n",
    "                elif not output_list:\n",
    "                    replacements = [\"\"]\n",
    "                possible_replacements.append(replacements)\n",
    "            else:\n",
    "                pass\n",
    "        else:\n",
    "            possible_replacements.append([part])\n",
    "\n",
    "    # Генерируем все возможные комбинации\n",
    "    all_combinations = list(itertools.product(*possible_replacements))\n",
    "\n",
    "    # Формируем итоговые наименования\n",
    "    final_phrases = [\" \".join(combination).strip() for combination in all_combinations]\n",
    "\n",
    "    if not output_list:\n",
    "        final_phrases = final_phrases[0]\n",
    "\n",
    "    if unknown_answer:\n",
    "        return list(set(unknown_abbr))\n",
    "\n",
    "    return final_phrases"
   ]
  },
  {
   "cell_type": "code",
   "execution_count": 20,
   "metadata": {},
   "outputs": [],
   "source": [
    "reference[\"extended_process\"] = reference.name.apply(\n",
    "    ppf.simple_preprocess_text\n",
    ").str.lower()\n",
    "reference.extended_process = reference.extended_process.apply(\n",
    "    ppf.replace_numbers_with_text\n",
    ")\n",
    "reference.extended_process = reference.extended_process.apply(\n",
    "    ppf.abbr_preprocess_text, args=(abbr_dict, False, False, True, True)\n",
    ")"
   ]
  },
  {
   "cell_type": "code",
   "execution_count": 21,
   "metadata": {},
   "outputs": [
    {
     "data": {
      "text/html": [
       "<div>\n",
       "<style scoped>\n",
       "    .dataframe tbody tr th:only-of-type {\n",
       "        vertical-align: middle;\n",
       "    }\n",
       "\n",
       "    .dataframe tbody tr th {\n",
       "        vertical-align: top;\n",
       "    }\n",
       "\n",
       "    .dataframe thead th {\n",
       "        text-align: right;\n",
       "    }\n",
       "</style>\n",
       "<table border=\"1\" class=\"dataframe\">\n",
       "  <thead>\n",
       "    <tr style=\"text-align: right;\">\n",
       "      <th></th>\n",
       "      <th>id</th>\n",
       "      <th>name</th>\n",
       "      <th>region</th>\n",
       "      <th>new</th>\n",
       "      <th>extended_process</th>\n",
       "    </tr>\n",
       "  </thead>\n",
       "  <tbody>\n",
       "    <tr>\n",
       "      <th>187</th>\n",
       "      <td>206</td>\n",
       "      <td>СШОР No 1</td>\n",
       "      <td>самарская область</td>\n",
       "      <td>сшор один</td>\n",
       "      <td>один</td>\n",
       "    </tr>\n",
       "    <tr>\n",
       "      <th>51</th>\n",
       "      <td>53</td>\n",
       "      <td>ДЮСШ No 1</td>\n",
       "      <td>тюменская область</td>\n",
       "      <td>дюсш один</td>\n",
       "      <td>один</td>\n",
       "    </tr>\n",
       "  </tbody>\n",
       "</table>\n",
       "</div>"
      ],
      "text/plain": [
       "      id       name             region        new extended_process\n",
       "187  206  СШОР No 1  самарская область  сшор один             один\n",
       "51    53  ДЮСШ No 1  тюменская область  дюсш один             один"
      ]
     },
     "execution_count": 21,
     "metadata": {},
     "output_type": "execute_result"
    }
   ],
   "source": [
    "reference.loc[[187, 51], :]"
   ]
  },
  {
   "cell_type": "markdown",
   "metadata": {},
   "source": [
    "## Расшифровка аббревиатур, удаление неизвестных аббревиатур"
   ]
  },
  {
   "cell_type": "code",
   "execution_count": 22,
   "metadata": {},
   "outputs": [],
   "source": [
    "reference[\"extended2_process\"] = reference.name.apply(\n",
    "    ppf.simple_preprocess_text\n",
    ").str.lower()\n",
    "reference.extended2_process = reference.extended2_process.apply(\n",
    "    ppf.replace_numbers_with_text\n",
    ")\n",
    "reference.extended2_process = reference.extended2_process.apply(\n",
    "    ppf.abbr_preprocess_text, args=(abbr_dict, False, False, True, False)\n",
    ")"
   ]
  },
  {
   "cell_type": "code",
   "execution_count": 23,
   "metadata": {},
   "outputs": [
    {
     "data": {
      "text/html": [
       "<div>\n",
       "<style scoped>\n",
       "    .dataframe tbody tr th:only-of-type {\n",
       "        vertical-align: middle;\n",
       "    }\n",
       "\n",
       "    .dataframe tbody tr th {\n",
       "        vertical-align: top;\n",
       "    }\n",
       "\n",
       "    .dataframe thead th {\n",
       "        text-align: right;\n",
       "    }\n",
       "</style>\n",
       "<table border=\"1\" class=\"dataframe\">\n",
       "  <thead>\n",
       "    <tr style=\"text-align: right;\">\n",
       "      <th></th>\n",
       "      <th>id</th>\n",
       "      <th>name</th>\n",
       "      <th>region</th>\n",
       "      <th>new</th>\n",
       "      <th>extended_process</th>\n",
       "      <th>extended2_process</th>\n",
       "    </tr>\n",
       "  </thead>\n",
       "  <tbody>\n",
       "    <tr>\n",
       "      <th>187</th>\n",
       "      <td>206</td>\n",
       "      <td>СШОР No 1</td>\n",
       "      <td>самарская область</td>\n",
       "      <td>сшор один</td>\n",
       "      <td>один</td>\n",
       "      <td>спортивная школа олимпийского резерва один</td>\n",
       "    </tr>\n",
       "    <tr>\n",
       "      <th>51</th>\n",
       "      <td>53</td>\n",
       "      <td>ДЮСШ No 1</td>\n",
       "      <td>тюменская область</td>\n",
       "      <td>дюсш один</td>\n",
       "      <td>один</td>\n",
       "      <td>детско юношеская спортивная школа один</td>\n",
       "    </tr>\n",
       "  </tbody>\n",
       "</table>\n",
       "</div>"
      ],
      "text/plain": [
       "      id       name             region        new extended_process  \\\n",
       "187  206  СШОР No 1  самарская область  сшор один             один   \n",
       "51    53  ДЮСШ No 1  тюменская область  дюсш один             один   \n",
       "\n",
       "                              extended2_process  \n",
       "187  спортивная школа олимпийского резерва один  \n",
       "51       детско юношеская спортивная школа один  "
      ]
     },
     "execution_count": 23,
     "metadata": {},
     "output_type": "execute_result"
    }
   ],
   "source": [
    "reference.loc[[187, 51], :]"
   ]
  },
  {
   "cell_type": "code",
   "execution_count": 24,
   "metadata": {},
   "outputs": [
    {
     "data": {
      "text/html": [
       "<div>\n",
       "<style scoped>\n",
       "    .dataframe tbody tr th:only-of-type {\n",
       "        vertical-align: middle;\n",
       "    }\n",
       "\n",
       "    .dataframe tbody tr th {\n",
       "        vertical-align: top;\n",
       "    }\n",
       "\n",
       "    .dataframe thead th {\n",
       "        text-align: right;\n",
       "    }\n",
       "</style>\n",
       "<table border=\"1\" class=\"dataframe\">\n",
       "  <thead>\n",
       "    <tr style=\"text-align: right;\">\n",
       "      <th></th>\n",
       "      <th>name</th>\n",
       "      <th>school_id</th>\n",
       "    </tr>\n",
       "  </thead>\n",
       "  <tbody>\n",
       "    <tr>\n",
       "      <th>412</th>\n",
       "      <td>Рязанская область</td>\n",
       "      <td>217</td>\n",
       "    </tr>\n",
       "  </tbody>\n",
       "</table>\n",
       "</div>"
      ],
      "text/plain": [
       "                  name  school_id\n",
       "412  Рязанская область        217"
      ]
     },
     "execution_count": 24,
     "metadata": {},
     "output_type": "execute_result"
    }
   ],
   "source": [
    "train[train.school_id == 217][[\"name\", \"school_id\"]]"
   ]
  },
  {
   "cell_type": "markdown",
   "metadata": {},
   "source": [
    "# Работа с регионами"
   ]
  },
  {
   "cell_type": "markdown",
   "metadata": {},
   "source": [
    "## Расшифровка аббревиатур, удаление неизвестных аббревиатур, выделение регионов"
   ]
  },
  {
   "cell_type": "code",
   "execution_count": 25,
   "metadata": {},
   "outputs": [],
   "source": [
    "train[\"region_process\"] = train.name.apply(ppf.simple_preprocess_text).str.lower()\n",
    "train.region_process = train.region_process.apply(ppf.replace_numbers_with_text)\n",
    "train.region_process = train.region_process.apply(\n",
    "    ppf.abbr_preprocess_text, args=(abbr_dict, False, False, True, False)\n",
    ")"
   ]
  },
  {
   "cell_type": "code",
   "execution_count": 26,
   "metadata": {},
   "outputs": [],
   "source": [
    "train[\"region\"] = train.region_process.apply(\n",
    "    ppf.process_region, args=(list(region_dict.keys()), True)\n",
    ")\n",
    "\n",
    "train.region_process = train.region_process.apply(\n",
    "    ppf.process_region, args=(list(region_dict.keys()),)\n",
    ")"
   ]
  },
  {
   "cell_type": "code",
   "execution_count": 27,
   "metadata": {},
   "outputs": [
    {
     "data": {
      "text/html": [
       "<div>\n",
       "<style scoped>\n",
       "    .dataframe tbody tr th:only-of-type {\n",
       "        vertical-align: middle;\n",
       "    }\n",
       "\n",
       "    .dataframe tbody tr th {\n",
       "        vertical-align: top;\n",
       "    }\n",
       "\n",
       "    .dataframe thead th {\n",
       "        text-align: right;\n",
       "    }\n",
       "</style>\n",
       "<table border=\"1\" class=\"dataframe\">\n",
       "  <thead>\n",
       "    <tr style=\"text-align: right;\">\n",
       "      <th></th>\n",
       "      <th>name</th>\n",
       "      <th>school_id</th>\n",
       "      <th>region_process</th>\n",
       "      <th>region</th>\n",
       "    </tr>\n",
       "  </thead>\n",
       "  <tbody>\n",
       "    <tr>\n",
       "      <th>0</th>\n",
       "      <td>Москва, ГБУ МАФКК школа \"Мечта\"</td>\n",
       "      <td>102</td>\n",
       "      <td>государственное бюджетное учреждение московска...</td>\n",
       "      <td>москва</td>\n",
       "    </tr>\n",
       "    <tr>\n",
       "      <th>1</th>\n",
       "      <td>Калужская область, СШ \"Космос\"</td>\n",
       "      <td>78</td>\n",
       "      <td>спортивная школа космос</td>\n",
       "      <td>калужская область</td>\n",
       "    </tr>\n",
       "    <tr>\n",
       "      <th>2</th>\n",
       "      <td>МО 7-й округ, ООО \"Династия\"</td>\n",
       "      <td>49</td>\n",
       "      <td>семь округ общество с ограниченной ответственн...</td>\n",
       "      <td>None</td>\n",
       "    </tr>\n",
       "    <tr>\n",
       "      <th>3</th>\n",
       "      <td>АНФСО СКФК Спартак</td>\n",
       "      <td>164</td>\n",
       "      <td>автономная некоммерческая физкультурно спортив...</td>\n",
       "      <td>None</td>\n",
       "    </tr>\n",
       "    <tr>\n",
       "      <th>4</th>\n",
       "      <td>Челябинская область, ИП Дмитриев А.А.</td>\n",
       "      <td>73</td>\n",
       "      <td>индивидуальный предприниматель дмитриев</td>\n",
       "      <td>челябинская область</td>\n",
       "    </tr>\n",
       "    <tr>\n",
       "      <th>5</th>\n",
       "      <td>Санкт-Петербург, СПб ГБУ СШОР \"Звездный лед\"\"</td>\n",
       "      <td>62</td>\n",
       "      <td>государственное бюджетное учреждение спортивна...</td>\n",
       "      <td>санкт петербург</td>\n",
       "    </tr>\n",
       "    <tr>\n",
       "      <th>6</th>\n",
       "      <td>ООО \"Вилеса Айс\"</td>\n",
       "      <td>30</td>\n",
       "      <td>общество с ограниченной ответственностью вилес...</td>\n",
       "      <td>None</td>\n",
       "    </tr>\n",
       "    <tr>\n",
       "      <th>7</th>\n",
       "      <td>НП \"КФК \"Динамо-Санкт-Петербург\"</td>\n",
       "      <td>277</td>\n",
       "      <td>некоммерческое партнерство клуб фигурного ката...</td>\n",
       "      <td>санкт петербург</td>\n",
       "    </tr>\n",
       "    <tr>\n",
       "      <th>8</th>\n",
       "      <td>Пензенская область, МБУ ДО \"СШ по зимним видам...</td>\n",
       "      <td>304</td>\n",
       "      <td>муниципальное бюджетное учреждение дополнитель...</td>\n",
       "      <td>пензенская область</td>\n",
       "    </tr>\n",
       "    <tr>\n",
       "      <th>9</th>\n",
       "      <td>Владимирская область, МБУ ДО \"СШ №8\"</td>\n",
       "      <td>59</td>\n",
       "      <td>муниципальное бюджетное учреждение дополнитель...</td>\n",
       "      <td>владимирская область</td>\n",
       "    </tr>\n",
       "    <tr>\n",
       "      <th>10</th>\n",
       "      <td>Самарская обл., МБУ ДО \"СШ №10\"</td>\n",
       "      <td>54</td>\n",
       "      <td>муниципальное бюджетное учреждение дополнитель...</td>\n",
       "      <td>самарская область</td>\n",
       "    </tr>\n",
       "    <tr>\n",
       "      <th>11</th>\n",
       "      <td>СПб ГБУ СШОР по фигурному катанию на коньках</td>\n",
       "      <td>198</td>\n",
       "      <td>государственное бюджетное учреждение спортивна...</td>\n",
       "      <td>санкт петербург</td>\n",
       "    </tr>\n",
       "    <tr>\n",
       "      <th>12</th>\n",
       "      <td>Нижегородская область, ДС \"Северная звезда\"</td>\n",
       "      <td>150</td>\n",
       "      <td>дворец спорта северная звезда</td>\n",
       "      <td>нижегородская область</td>\n",
       "    </tr>\n",
       "    <tr>\n",
       "      <th>13</th>\n",
       "      <td>Чувашская республика, СШ \"Спартак\"</td>\n",
       "      <td>165</td>\n",
       "      <td>спортивная школа спартак</td>\n",
       "      <td>чувашская республика</td>\n",
       "    </tr>\n",
       "    <tr>\n",
       "      <th>14</th>\n",
       "      <td>Республика Башкортостан, ФФК РБ, Уфа</td>\n",
       "      <td>235</td>\n",
       "      <td>федерация фигурного катания  уфа</td>\n",
       "      <td>республика башкортостан</td>\n",
       "    </tr>\n",
       "  </tbody>\n",
       "</table>\n",
       "</div>"
      ],
      "text/plain": [
       "                                                 name  school_id  \\\n",
       "0                     Москва, ГБУ МАФКК школа \"Мечта\"        102   \n",
       "1                      Калужская область, СШ \"Космос\"         78   \n",
       "2                        МО 7-й округ, ООО \"Династия\"         49   \n",
       "3                                  АНФСО СКФК Спартак        164   \n",
       "4               Челябинская область, ИП Дмитриев А.А.         73   \n",
       "5       Санкт-Петербург, СПб ГБУ СШОР \"Звездный лед\"\"         62   \n",
       "6                                    ООО \"Вилеса Айс\"         30   \n",
       "7                    НП \"КФК \"Динамо-Санкт-Петербург\"        277   \n",
       "8   Пензенская область, МБУ ДО \"СШ по зимним видам...        304   \n",
       "9                Владимирская область, МБУ ДО \"СШ №8\"         59   \n",
       "10                    Самарская обл., МБУ ДО \"СШ №10\"         54   \n",
       "11       СПб ГБУ СШОР по фигурному катанию на коньках        198   \n",
       "12        Нижегородская область, ДС \"Северная звезда\"        150   \n",
       "13                 Чувашская республика, СШ \"Спартак\"        165   \n",
       "14               Республика Башкортостан, ФФК РБ, Уфа        235   \n",
       "\n",
       "                                       region_process                   region  \n",
       "0   государственное бюджетное учреждение московска...                   москва  \n",
       "1                             спортивная школа космос        калужская область  \n",
       "2   семь округ общество с ограниченной ответственн...                     None  \n",
       "3   автономная некоммерческая физкультурно спортив...                     None  \n",
       "4             индивидуальный предприниматель дмитриев      челябинская область  \n",
       "5   государственное бюджетное учреждение спортивна...          санкт петербург  \n",
       "6   общество с ограниченной ответственностью вилес...                     None  \n",
       "7   некоммерческое партнерство клуб фигурного ката...          санкт петербург  \n",
       "8   муниципальное бюджетное учреждение дополнитель...       пензенская область  \n",
       "9   муниципальное бюджетное учреждение дополнитель...     владимирская область  \n",
       "10  муниципальное бюджетное учреждение дополнитель...        самарская область  \n",
       "11  государственное бюджетное учреждение спортивна...          санкт петербург  \n",
       "12                      дворец спорта северная звезда    нижегородская область  \n",
       "13                           спортивная школа спартак     чувашская республика  \n",
       "14                   федерация фигурного катания  уфа  республика башкортостан  "
      ]
     },
     "execution_count": 27,
     "metadata": {},
     "output_type": "execute_result"
    }
   ],
   "source": [
    "train.head(15)"
   ]
  },
  {
   "cell_type": "markdown",
   "metadata": {},
   "source": [
    "## Удаление организационно-правовых форм"
   ]
  },
  {
   "cell_type": "markdown",
   "metadata": {},
   "source": [
    "Создание blacklist ОПФ"
   ]
  },
  {
   "cell_type": "code",
   "execution_count": 38,
   "metadata": {},
   "outputs": [],
   "source": [
    "blacklist_opf = joblib.load(\"../../resources/general/blacklist_opf.joblib\")\n"
   ]
  },
  {
   "cell_type": "code",
   "execution_count": 29,
   "metadata": {},
   "outputs": [],
   "source": [
    "def find_substrings(input_list):\n",
    "    problem_strings = []\n",
    "    for i in range(len(input_list)):\n",
    "        current_string = input_list[i]\n",
    "        for j in range(i + 1, len(input_list)):\n",
    "            next_string = input_list[j]\n",
    "            if current_string in next_string:\n",
    "                problem_strings.append(current_string)\n",
    "                break  # прекращаем проверку текущей строки, если она уже найдена как подстрока\n",
    "    return problem_strings\n"
   ]
  },
  {
   "cell_type": "code",
   "execution_count": 30,
   "metadata": {},
   "outputs": [
    {
     "data": {
      "text/plain": [
       "[]"
      ]
     },
     "execution_count": 30,
     "metadata": {},
     "output_type": "execute_result"
    }
   ],
   "source": [
    "find_substrings(blacklist_opf)"
   ]
  },
  {
   "cell_type": "code",
   "execution_count": 31,
   "metadata": {},
   "outputs": [],
   "source": [
    "train[\"no_opf_process\"] = train.name.apply(ppf.simple_preprocess_text).str.lower()\n",
    "train.no_opf_process = train.no_opf_process.apply(ppf.replace_numbers_with_text)\n",
    "train.no_opf_process = train.no_opf_process.apply(\n",
    "    ppf.abbr_preprocess_text, args=(abbr_dict, False, False, True, False)\n",
    ")\n"
   ]
  },
  {
   "cell_type": "code",
   "execution_count": 32,
   "metadata": {},
   "outputs": [],
   "source": [
    "train[\"region\"] = train.no_opf_process.apply(\n",
    "    ppf.process_region, args=(list(region_dict.keys()), True)\n",
    ")\n",
    "\n",
    "train.no_opf_process = train.no_opf_process.apply(\n",
    "    ppf.process_region, args=(list(region_dict.keys()),)\n",
    ")\n"
   ]
  },
  {
   "cell_type": "code",
   "execution_count": 33,
   "metadata": {},
   "outputs": [],
   "source": [
    "train.no_opf_process = train.no_opf_process.apply(\n",
    "    ppf.remove_substrings, args=(blacklist_opf,)\n",
    ")\n"
   ]
  },
  {
   "cell_type": "code",
   "execution_count": 34,
   "metadata": {},
   "outputs": [
    {
     "data": {
      "text/html": [
       "<div>\n",
       "<style scoped>\n",
       "    .dataframe tbody tr th:only-of-type {\n",
       "        vertical-align: middle;\n",
       "    }\n",
       "\n",
       "    .dataframe tbody tr th {\n",
       "        vertical-align: top;\n",
       "    }\n",
       "\n",
       "    .dataframe thead th {\n",
       "        text-align: right;\n",
       "    }\n",
       "</style>\n",
       "<table border=\"1\" class=\"dataframe\">\n",
       "  <thead>\n",
       "    <tr style=\"text-align: right;\">\n",
       "      <th></th>\n",
       "      <th>name</th>\n",
       "      <th>school_id</th>\n",
       "      <th>region_process</th>\n",
       "      <th>region</th>\n",
       "      <th>no_opf_process</th>\n",
       "    </tr>\n",
       "  </thead>\n",
       "  <tbody>\n",
       "    <tr>\n",
       "      <th>0</th>\n",
       "      <td>Москва, ГБУ МАФКК школа \"Мечта\"</td>\n",
       "      <td>102</td>\n",
       "      <td>государственное бюджетное учреждение московска...</td>\n",
       "      <td>москва</td>\n",
       "      <td>московская академия фигурного катания на коньк...</td>\n",
       "    </tr>\n",
       "    <tr>\n",
       "      <th>1</th>\n",
       "      <td>Калужская область, СШ \"Космос\"</td>\n",
       "      <td>78</td>\n",
       "      <td>спортивная школа космос</td>\n",
       "      <td>калужская область</td>\n",
       "      <td>спортивная школа космос</td>\n",
       "    </tr>\n",
       "    <tr>\n",
       "      <th>2</th>\n",
       "      <td>МО 7-й округ, ООО \"Династия\"</td>\n",
       "      <td>49</td>\n",
       "      <td>семь округ общество с ограниченной ответственн...</td>\n",
       "      <td>None</td>\n",
       "      <td>семь округ  династия</td>\n",
       "    </tr>\n",
       "    <tr>\n",
       "      <th>3</th>\n",
       "      <td>АНФСО СКФК Спартак</td>\n",
       "      <td>164</td>\n",
       "      <td>автономная некоммерческая физкультурно спортив...</td>\n",
       "      <td>None</td>\n",
       "      <td>спортивный клуб фигурного катания спартак</td>\n",
       "    </tr>\n",
       "    <tr>\n",
       "      <th>4</th>\n",
       "      <td>Челябинская область, ИП Дмитриев А.А.</td>\n",
       "      <td>73</td>\n",
       "      <td>индивидуальный предприниматель дмитриев</td>\n",
       "      <td>челябинская область</td>\n",
       "      <td>дмитриев</td>\n",
       "    </tr>\n",
       "    <tr>\n",
       "      <th>5</th>\n",
       "      <td>Санкт-Петербург, СПб ГБУ СШОР \"Звездный лед\"\"</td>\n",
       "      <td>62</td>\n",
       "      <td>государственное бюджетное учреждение спортивна...</td>\n",
       "      <td>санкт петербург</td>\n",
       "      <td>спортивная школа олимпийского резерва звездный...</td>\n",
       "    </tr>\n",
       "    <tr>\n",
       "      <th>6</th>\n",
       "      <td>ООО \"Вилеса Айс\"</td>\n",
       "      <td>30</td>\n",
       "      <td>общество с ограниченной ответственностью вилес...</td>\n",
       "      <td>None</td>\n",
       "      <td>вилеса айс</td>\n",
       "    </tr>\n",
       "    <tr>\n",
       "      <th>7</th>\n",
       "      <td>НП \"КФК \"Динамо-Санкт-Петербург\"</td>\n",
       "      <td>277</td>\n",
       "      <td>некоммерческое партнерство клуб фигурного ката...</td>\n",
       "      <td>санкт петербург</td>\n",
       "      <td>клуб фигурного катания динамо</td>\n",
       "    </tr>\n",
       "    <tr>\n",
       "      <th>8</th>\n",
       "      <td>Пензенская область, МБУ ДО \"СШ по зимним видам...</td>\n",
       "      <td>304</td>\n",
       "      <td>муниципальное бюджетное учреждение дополнитель...</td>\n",
       "      <td>пензенская область</td>\n",
       "      <td>спортивная школа псковской области зимним вида...</td>\n",
       "    </tr>\n",
       "    <tr>\n",
       "      <th>9</th>\n",
       "      <td>Владимирская область, МБУ ДО \"СШ №8\"</td>\n",
       "      <td>59</td>\n",
       "      <td>муниципальное бюджетное учреждение дополнитель...</td>\n",
       "      <td>владимирская область</td>\n",
       "      <td>спортивная школа восемь</td>\n",
       "    </tr>\n",
       "    <tr>\n",
       "      <th>10</th>\n",
       "      <td>Самарская обл., МБУ ДО \"СШ №10\"</td>\n",
       "      <td>54</td>\n",
       "      <td>муниципальное бюджетное учреждение дополнитель...</td>\n",
       "      <td>самарская область</td>\n",
       "      <td>спортивная школа десять</td>\n",
       "    </tr>\n",
       "    <tr>\n",
       "      <th>11</th>\n",
       "      <td>СПб ГБУ СШОР по фигурному катанию на коньках</td>\n",
       "      <td>198</td>\n",
       "      <td>государственное бюджетное учреждение спортивна...</td>\n",
       "      <td>санкт петербург</td>\n",
       "      <td>спортивная школа олимпийского резерва псковско...</td>\n",
       "    </tr>\n",
       "    <tr>\n",
       "      <th>12</th>\n",
       "      <td>Нижегородская область, ДС \"Северная звезда\"</td>\n",
       "      <td>150</td>\n",
       "      <td>дворец спорта северная звезда</td>\n",
       "      <td>нижегородская область</td>\n",
       "      <td>дворец спорта северная звезда</td>\n",
       "    </tr>\n",
       "    <tr>\n",
       "      <th>13</th>\n",
       "      <td>Чувашская республика, СШ \"Спартак\"</td>\n",
       "      <td>165</td>\n",
       "      <td>спортивная школа спартак</td>\n",
       "      <td>чувашская республика</td>\n",
       "      <td>спортивная школа спартак</td>\n",
       "    </tr>\n",
       "    <tr>\n",
       "      <th>14</th>\n",
       "      <td>Республика Башкортостан, ФФК РБ, Уфа</td>\n",
       "      <td>235</td>\n",
       "      <td>федерация фигурного катания  уфа</td>\n",
       "      <td>республика башкортостан</td>\n",
       "      <td>федерация фигурного катания  уфа</td>\n",
       "    </tr>\n",
       "  </tbody>\n",
       "</table>\n",
       "</div>"
      ],
      "text/plain": [
       "                                                 name  school_id  \\\n",
       "0                     Москва, ГБУ МАФКК школа \"Мечта\"        102   \n",
       "1                      Калужская область, СШ \"Космос\"         78   \n",
       "2                        МО 7-й округ, ООО \"Династия\"         49   \n",
       "3                                  АНФСО СКФК Спартак        164   \n",
       "4               Челябинская область, ИП Дмитриев А.А.         73   \n",
       "5       Санкт-Петербург, СПб ГБУ СШОР \"Звездный лед\"\"         62   \n",
       "6                                    ООО \"Вилеса Айс\"         30   \n",
       "7                    НП \"КФК \"Динамо-Санкт-Петербург\"        277   \n",
       "8   Пензенская область, МБУ ДО \"СШ по зимним видам...        304   \n",
       "9                Владимирская область, МБУ ДО \"СШ №8\"         59   \n",
       "10                    Самарская обл., МБУ ДО \"СШ №10\"         54   \n",
       "11       СПб ГБУ СШОР по фигурному катанию на коньках        198   \n",
       "12        Нижегородская область, ДС \"Северная звезда\"        150   \n",
       "13                 Чувашская республика, СШ \"Спартак\"        165   \n",
       "14               Республика Башкортостан, ФФК РБ, Уфа        235   \n",
       "\n",
       "                                       region_process  \\\n",
       "0   государственное бюджетное учреждение московска...   \n",
       "1                             спортивная школа космос   \n",
       "2   семь округ общество с ограниченной ответственн...   \n",
       "3   автономная некоммерческая физкультурно спортив...   \n",
       "4             индивидуальный предприниматель дмитриев   \n",
       "5   государственное бюджетное учреждение спортивна...   \n",
       "6   общество с ограниченной ответственностью вилес...   \n",
       "7   некоммерческое партнерство клуб фигурного ката...   \n",
       "8   муниципальное бюджетное учреждение дополнитель...   \n",
       "9   муниципальное бюджетное учреждение дополнитель...   \n",
       "10  муниципальное бюджетное учреждение дополнитель...   \n",
       "11  государственное бюджетное учреждение спортивна...   \n",
       "12                      дворец спорта северная звезда   \n",
       "13                           спортивная школа спартак   \n",
       "14                   федерация фигурного катания  уфа   \n",
       "\n",
       "                     region                                     no_opf_process  \n",
       "0                    москва  московская академия фигурного катания на коньк...  \n",
       "1         калужская область                            спортивная школа космос  \n",
       "2                      None                               семь округ  династия  \n",
       "3                      None          спортивный клуб фигурного катания спартак  \n",
       "4       челябинская область                                           дмитриев  \n",
       "5           санкт петербург  спортивная школа олимпийского резерва звездный...  \n",
       "6                      None                                         вилеса айс  \n",
       "7           санкт петербург                      клуб фигурного катания динамо  \n",
       "8        пензенская область  спортивная школа псковской области зимним вида...  \n",
       "9      владимирская область                            спортивная школа восемь  \n",
       "10        самарская область                            спортивная школа десять  \n",
       "11          санкт петербург  спортивная школа олимпийского резерва псковско...  \n",
       "12    нижегородская область                      дворец спорта северная звезда  \n",
       "13     чувашская республика                           спортивная школа спартак  \n",
       "14  республика башкортостан                   федерация фигурного катания  уфа  "
      ]
     },
     "execution_count": 34,
     "metadata": {},
     "output_type": "execute_result"
    }
   ],
   "source": [
    "train.head(15)"
   ]
  },
  {
   "cell_type": "code",
   "execution_count": null,
   "metadata": {},
   "outputs": [],
   "source": []
  }
 ],
 "metadata": {
  "kernelspec": {
   "display_name": ".venv",
   "language": "python",
   "name": "python3"
  },
  "language_info": {
   "codemirror_mode": {
    "name": "ipython",
    "version": 3
   },
   "file_extension": ".py",
   "mimetype": "text/x-python",
   "name": "python",
   "nbconvert_exporter": "python",
   "pygments_lexer": "ipython3",
   "version": "3.12.3"
  }
 },
 "nbformat": 4,
 "nbformat_minor": 2
}
