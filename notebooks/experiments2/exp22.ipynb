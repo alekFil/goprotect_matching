{
 "cells": [
  {
   "cell_type": "code",
   "execution_count": 106,
   "metadata": {},
   "outputs": [],
   "source": [
    "import os\n",
    "import sys\n",
    "\n",
    "# Добавляем корневую директорию проекта в sys.path\n",
    "sys.path.append(os.path.abspath(os.path.join(os.getcwd(), \"../../\")))\n",
    "\n",
    "# Импортируем metrics из utils\n",
    "from utils import metrics as mtc"
   ]
  },
  {
   "cell_type": "code",
   "execution_count": 107,
   "metadata": {},
   "outputs": [],
   "source": [
    "import matplotlib.pyplot as plt\n",
    "import numpy as np\n",
    "import pandas as pd\n",
    "from sklearn.feature_extraction.text import TfidfVectorizer\n",
    "from sklearn.metrics.pairwise import cosine_similarity"
   ]
  },
  {
   "cell_type": "markdown",
   "metadata": {},
   "source": [
    "# Готовим дата-сеты с регионом"
   ]
  },
  {
   "cell_type": "code",
   "execution_count": 108,
   "metadata": {},
   "outputs": [],
   "source": [
    "reference = pd.read_csv(\"../../data/preprocessed/exp22/reference.csv\")\n",
    "train = pd.read_csv(\"../../data/preprocessed/exp22/train.csv\")\n",
    "valid = pd.read_csv(\"../../data/preprocessed/exp22/valid.csv\")\n"
   ]
  },
  {
   "cell_type": "code",
   "execution_count": 109,
   "metadata": {},
   "outputs": [
    {
     "name": "stdout",
     "output_type": "stream",
     "text": [
      "<class 'pandas.core.frame.DataFrame'>\n",
      "RangeIndex: 305 entries, 0 to 304\n",
      "Data columns (total 3 columns):\n",
      " #   Column  Non-Null Count  Dtype \n",
      "---  ------  --------------  ----- \n",
      " 0   id      305 non-null    int64 \n",
      " 1   region  305 non-null    object\n",
      " 2   exp5    305 non-null    object\n",
      "dtypes: int64(1), object(2)\n",
      "memory usage: 7.3+ KB\n"
     ]
    }
   ],
   "source": [
    "reference.info()"
   ]
  },
  {
   "cell_type": "code",
   "execution_count": 110,
   "metadata": {},
   "outputs": [
    {
     "name": "stdout",
     "output_type": "stream",
     "text": [
      "<class 'pandas.core.frame.DataFrame'>\n",
      "RangeIndex: 550 entries, 0 to 549\n",
      "Data columns (total 3 columns):\n",
      " #   Column     Non-Null Count  Dtype \n",
      "---  ------     --------------  ----- \n",
      " 0   exp5       548 non-null    object\n",
      " 1   school_id  550 non-null    int64 \n",
      " 2   region     428 non-null    object\n",
      "dtypes: int64(1), object(2)\n",
      "memory usage: 13.0+ KB\n"
     ]
    }
   ],
   "source": [
    "train.info()"
   ]
  },
  {
   "cell_type": "code",
   "execution_count": 111,
   "metadata": {},
   "outputs": [
    {
     "name": "stdout",
     "output_type": "stream",
     "text": [
      "<class 'pandas.core.frame.DataFrame'>\n",
      "RangeIndex: 184 entries, 0 to 183\n",
      "Data columns (total 3 columns):\n",
      " #   Column     Non-Null Count  Dtype \n",
      "---  ------     --------------  ----- \n",
      " 0   exp5       184 non-null    object\n",
      " 1   school_id  184 non-null    int64 \n",
      " 2   region     140 non-null    object\n",
      "dtypes: int64(1), object(2)\n",
      "memory usage: 4.4+ KB\n"
     ]
    }
   ],
   "source": [
    "valid.info()"
   ]
  },
  {
   "cell_type": "code",
   "execution_count": 112,
   "metadata": {},
   "outputs": [
    {
     "data": {
      "text/html": [
       "<div>\n",
       "<style scoped>\n",
       "    .dataframe tbody tr th:only-of-type {\n",
       "        vertical-align: middle;\n",
       "    }\n",
       "\n",
       "    .dataframe tbody tr th {\n",
       "        vertical-align: top;\n",
       "    }\n",
       "\n",
       "    .dataframe thead th {\n",
       "        text-align: right;\n",
       "    }\n",
       "</style>\n",
       "<table border=\"1\" class=\"dataframe\">\n",
       "  <thead>\n",
       "    <tr style=\"text-align: right;\">\n",
       "      <th></th>\n",
       "      <th>id</th>\n",
       "      <th>region</th>\n",
       "      <th>exp5</th>\n",
       "    </tr>\n",
       "  </thead>\n",
       "  <tbody>\n",
       "    <tr>\n",
       "      <th>0</th>\n",
       "      <td>69</td>\n",
       "      <td>мурманская область</td>\n",
       "      <td>кировска</td>\n",
       "    </tr>\n",
       "    <tr>\n",
       "      <th>1</th>\n",
       "      <td>70</td>\n",
       "      <td>московская область</td>\n",
       "      <td>клин спортивный</td>\n",
       "    </tr>\n",
       "    <tr>\n",
       "      <th>2</th>\n",
       "      <td>71</td>\n",
       "      <td>калининградская область</td>\n",
       "      <td>спортивная школа псковской области зимние виды...</td>\n",
       "    </tr>\n",
       "    <tr>\n",
       "      <th>3</th>\n",
       "      <td>8</td>\n",
       "      <td>свердловская область</td>\n",
       "      <td>айсберг</td>\n",
       "    </tr>\n",
       "    <tr>\n",
       "      <th>4</th>\n",
       "      <td>73</td>\n",
       "      <td>челябинская область</td>\n",
       "      <td>команда дмитриева</td>\n",
       "    </tr>\n",
       "  </tbody>\n",
       "</table>\n",
       "</div>"
      ],
      "text/plain": [
       "   id                   region  \\\n",
       "0  69       мурманская область   \n",
       "1  70       московская область   \n",
       "2  71  калининградская область   \n",
       "3   8     свердловская область   \n",
       "4  73      челябинская область   \n",
       "\n",
       "                                                exp5  \n",
       "0                                           кировска  \n",
       "1                                    клин спортивный  \n",
       "2  спортивная школа псковской области зимние виды...  \n",
       "3                                            айсберг  \n",
       "4                                  команда дмитриева  "
      ]
     },
     "execution_count": 112,
     "metadata": {},
     "output_type": "execute_result"
    }
   ],
   "source": [
    "reference.head()"
   ]
  },
  {
   "cell_type": "code",
   "execution_count": 113,
   "metadata": {},
   "outputs": [
    {
     "data": {
      "text/html": [
       "<div>\n",
       "<style scoped>\n",
       "    .dataframe tbody tr th:only-of-type {\n",
       "        vertical-align: middle;\n",
       "    }\n",
       "\n",
       "    .dataframe tbody tr th {\n",
       "        vertical-align: top;\n",
       "    }\n",
       "\n",
       "    .dataframe thead th {\n",
       "        text-align: right;\n",
       "    }\n",
       "</style>\n",
       "<table border=\"1\" class=\"dataframe\">\n",
       "  <thead>\n",
       "    <tr style=\"text-align: right;\">\n",
       "      <th></th>\n",
       "      <th>exp5</th>\n",
       "      <th>school_id</th>\n",
       "      <th>region</th>\n",
       "    </tr>\n",
       "  </thead>\n",
       "  <tbody>\n",
       "    <tr>\n",
       "      <th>0</th>\n",
       "      <td>спортивная школа олимпийского резерва</td>\n",
       "      <td>198</td>\n",
       "      <td>санкт петербург</td>\n",
       "    </tr>\n",
       "    <tr>\n",
       "      <th>1</th>\n",
       "      <td>мауо спортивная школа 11</td>\n",
       "      <td>184</td>\n",
       "      <td>липецкая область</td>\n",
       "    </tr>\n",
       "    <tr>\n",
       "      <th>2</th>\n",
       "      <td>лига фигурного катания</td>\n",
       "      <td>293</td>\n",
       "      <td>москва</td>\n",
       "    </tr>\n",
       "    <tr>\n",
       "      <th>3</th>\n",
       "      <td>клуб фигурного катания динамо</td>\n",
       "      <td>277</td>\n",
       "      <td>санкт петербург</td>\n",
       "    </tr>\n",
       "    <tr>\n",
       "      <th>4</th>\n",
       "      <td>мбау всеволжская спортивная школа олимпийского...</td>\n",
       "      <td>35</td>\n",
       "      <td>ленинградская область</td>\n",
       "    </tr>\n",
       "  </tbody>\n",
       "</table>\n",
       "</div>"
      ],
      "text/plain": [
       "                                                exp5  school_id  \\\n",
       "0              спортивная школа олимпийского резерва        198   \n",
       "1                           мауо спортивная школа 11        184   \n",
       "2                             лига фигурного катания        293   \n",
       "3                      клуб фигурного катания динамо        277   \n",
       "4  мбау всеволжская спортивная школа олимпийского...         35   \n",
       "\n",
       "                  region  \n",
       "0        санкт петербург  \n",
       "1       липецкая область  \n",
       "2                 москва  \n",
       "3        санкт петербург  \n",
       "4  ленинградская область  "
      ]
     },
     "execution_count": 113,
     "metadata": {},
     "output_type": "execute_result"
    }
   ],
   "source": [
    "valid.head()"
   ]
  },
  {
   "cell_type": "markdown",
   "metadata": {},
   "source": [
    "### Преобразования в np.array"
   ]
  },
  {
   "cell_type": "code",
   "execution_count": 114,
   "metadata": {},
   "outputs": [],
   "source": [
    "x_train = train[\"exp5\"].to_numpy(dtype=\"str\").flatten()\n",
    "y_train = train[\"school_id\"].to_numpy(dtype=\"int\").flatten()\n",
    "region_train = train[\"region\"].to_numpy(dtype=\"str\").flatten()\n",
    "\n",
    "x_valid = valid[\"exp5\"].to_numpy(dtype=\"str\").flatten()\n",
    "y_valid = valid[\"school_id\"].to_numpy(dtype=\"int\").flatten()\n",
    "region_valid = valid[\"region\"].to_numpy(dtype=\"str\").flatten()\n",
    "\n",
    "reference_id = reference[\"id\"].to_numpy(dtype=\"int\").flatten()\n",
    "reference_name = reference[\"exp5\"].to_numpy(dtype=\"str\").flatten()\n",
    "reference_region = reference[\"region\"].to_numpy(dtype=\"str\").flatten()\n"
   ]
  },
  {
   "cell_type": "code",
   "execution_count": 137,
   "metadata": {},
   "outputs": [
    {
     "data": {
      "text/plain": [
       "['../../resources/cosine_region_manual_resources/reference_name.joblib']"
      ]
     },
     "execution_count": 137,
     "metadata": {},
     "output_type": "execute_result"
    }
   ],
   "source": [
    "import joblib\n",
    "\n",
    "joblib.dump(\n",
    "    reference_id, \"../../resources/cosine_region_manual_resources/reference_id.joblib\"\n",
    ")\n",
    "joblib.dump(\n",
    "    reference_region,\n",
    "    \"../../resources/cosine_region_manual_resources/reference_region.joblib\",\n",
    ")\n",
    "joblib.dump(\n",
    "    reference_name,\n",
    "    \"../../resources/cosine_region_manual_resources/reference_name.joblib\",\n",
    ")\n"
   ]
  },
  {
   "cell_type": "markdown",
   "metadata": {},
   "source": [
    "# Построение модели"
   ]
  },
  {
   "cell_type": "code",
   "execution_count": 115,
   "metadata": {},
   "outputs": [],
   "source": [
    "from sklearn.metrics.pairwise import euclidean_distances, manhattan_distances\n",
    "\n",
    "\n",
    "def calculate_similarity(x, y, method=\"cosine\"):\n",
    "    if method == \"cosine\":\n",
    "        return cosine_similarity(x, y)\n",
    "    elif method == \"euclidean\":\n",
    "        return -euclidean_distances(x, y)  # Инвертируем, чтобы максимизировать схожесть\n",
    "    elif method == \"manhattan\":\n",
    "        return -manhattan_distances(x, y)  # Инвертируем, чтобы максимизировать схожесть\n",
    "    else:\n",
    "        raise ValueError(f\"Unknown similarity method: {method}\")"
   ]
  },
  {
   "cell_type": "code",
   "execution_count": 116,
   "metadata": {},
   "outputs": [],
   "source": [
    "def find_matches(\n",
    "    x_vec,\n",
    "    x_region,\n",
    "    reference_id,\n",
    "    reference_vec,\n",
    "    reference_region,\n",
    "    top_k=5,\n",
    "    threshold=0.9,\n",
    "    filter_by_region=True,\n",
    "    empty_region=\"all\",\n",
    "    similarity_method=\"cosine\",\n",
    "):\n",
    "    y_pred = []\n",
    "    manual_review = []\n",
    "\n",
    "    for i, x in enumerate(x_vec):\n",
    "        # Фильтруем reference_vec и reference_id по текущему региону, если включена фильтрация по регионам\n",
    "        if filter_by_region:\n",
    "            # Фильтруем reference_vec и reference_id по текущему региону\n",
    "            current_region = x_region[i]\n",
    "            region_mask = reference_region == current_region\n",
    "            filtered_reference_vec = reference_vec[region_mask]\n",
    "            filtered_reference_id = reference_id[region_mask]\n",
    "\n",
    "            # Способ обработки, если в текущем регионе нет школ для сравнения\n",
    "            if empty_region == \"all\":\n",
    "                # Если в текущем регионе нет школ для сравнения, используем все школы\n",
    "                if filtered_reference_vec.shape[0] == 0:\n",
    "                    filtered_reference_vec = reference_vec\n",
    "                    filtered_reference_id = reference_id\n",
    "            else:\n",
    "                if filtered_reference_vec.shape[0] == 0:\n",
    "                    # Если в текущем регионе нет школ для сравнения, то помечаем на ручную обработку\n",
    "                    manual_review.append(x)\n",
    "                    top_matches = [(None, 0.0)] * top_k\n",
    "                    y_pred.append(top_matches)\n",
    "                    continue\n",
    "        else:\n",
    "            filtered_reference_vec = reference_vec\n",
    "            filtered_reference_id = reference_id\n",
    "\n",
    "        # Вычисляем выбранное расстояние\n",
    "        similarities = calculate_similarity(\n",
    "            x, filtered_reference_vec, method=similarity_method\n",
    "        ).flatten()\n",
    "        top_indices = similarities.argsort()[-top_k:][::-1]\n",
    "        max_similarity = max(similarities)\n",
    "\n",
    "        # Учитываем пороговое значение для различных методов\n",
    "        if similarity_method == \"cosine\":\n",
    "            if max_similarity < threshold:\n",
    "                manual_review.append(x)\n",
    "                top_matches = [(None, 0.0)] * top_k\n",
    "            else:\n",
    "                top_matches = [\n",
    "                    (filtered_reference_id[i], similarities[i]) for i in top_indices\n",
    "                ]\n",
    "                if len(top_matches) < top_k:\n",
    "                    top_matches += [(None, 0.0)] * (top_k - len(top_matches))\n",
    "        else:  # Для других методов расстояний (евклидово и манхэттенское)\n",
    "            if max_similarity > -threshold:  # Обратите внимание на инверсию\n",
    "                manual_review.append(x)\n",
    "                top_matches = [(None, 0.0)] * top_k\n",
    "            else:\n",
    "                top_matches = [\n",
    "                    (filtered_reference_id[i], -similarities[i]) for i in top_indices\n",
    "                ]\n",
    "                if len(top_matches) < top_k:\n",
    "                    top_matches += [(None, 0.0)] * (top_k - len(top_matches))\n",
    "\n",
    "        y_pred.append(top_matches)\n",
    "\n",
    "    return y_pred, manual_review"
   ]
  },
  {
   "cell_type": "markdown",
   "metadata": {},
   "source": [
    "# Использование модели"
   ]
  },
  {
   "cell_type": "code",
   "execution_count": 79,
   "metadata": {},
   "outputs": [],
   "source": [
    "# Векторизация текстов\n",
    "vectorizer = TfidfVectorizer().fit(np.append(x_train, reference_name))\n",
    "x_vec_valid = vectorizer.transform(x_valid)\n",
    "reference_vec = vectorizer.transform(reference_name)"
   ]
  },
  {
   "cell_type": "code",
   "execution_count": 124,
   "metadata": {},
   "outputs": [
    {
     "data": {
      "text/plain": [
       "['../../resources/cosine_region_manual_resources/vectorizer.joblib']"
      ]
     },
     "execution_count": 124,
     "metadata": {},
     "output_type": "execute_result"
    }
   ],
   "source": [
    "import joblib\n",
    "\n",
    "joblib.dump(\n",
    "    vectorizer, \"../../resources/cosine_region_manual_resources/vectorizer.joblib\"\n",
    ")\n"
   ]
  },
  {
   "cell_type": "code",
   "execution_count": 125,
   "metadata": {},
   "outputs": [
    {
     "data": {
      "text/plain": [
       "['../../resources/cosine_region_manual_resources/reference_vec.joblib']"
      ]
     },
     "execution_count": 125,
     "metadata": {},
     "output_type": "execute_result"
    }
   ],
   "source": [
    "joblib.dump(\n",
    "    reference_vec, \"../../resources/cosine_region_manual_resources/reference_vec.joblib\"\n",
    ")"
   ]
  },
  {
   "cell_type": "code",
   "execution_count": 138,
   "metadata": {},
   "outputs": [],
   "source": [
    "# Массив значений threshold\n",
    "threshold_values = np.linspace(0.0, 1.0, 25)\n",
    "\n",
    "# Запуск функции и сбор метрик\n",
    "metrics_list = []\n",
    "for threshold in threshold_values:\n",
    "    y_pred, manual_review = find_matches(\n",
    "        x_vec_valid,\n",
    "        region_valid,\n",
    "        reference_id,\n",
    "        reference_vec,\n",
    "        reference_region,\n",
    "        top_k=5,\n",
    "        threshold=threshold,\n",
    "        filter_by_region=False,\n",
    "        empty_region=\"all\",\n",
    "        # similarity_method=\"euclidean\",\n",
    "        similarity_method=\"cosine\",\n",
    "        # similarity_method=\"manhattan\",\n",
    "    )\n",
    "    metrics = mtc.calculate_metrics(y_valid, y_pred, manual_review)\n",
    "    metrics_list.append(metrics)\n",
    "\n",
    "# Преобразование метрик в удобный формат для построения графика\n",
    "auto_error_rate_values = [metrics[\"auto_error_rate\"] for metrics in metrics_list]\n",
    "manual_processing_rate_values = [\n",
    "    metrics[\"manual_processing_rate\"] for metrics in metrics_list\n",
    "]\n",
    "# general_spend_values = [metrics['general_spend'] for metrics in metrics_list]\n",
    "general_error_values = [metrics[\"general_error\"] for metrics in metrics_list]"
   ]
  },
  {
   "cell_type": "code",
   "execution_count": 139,
   "metadata": {},
   "outputs": [],
   "source": [
    "plots_json = {\n",
    "    \"threshold_values\": threshold_values.tolist(),\n",
    "    \"auto_error_rate_values\": auto_error_rate_values,\n",
    "    \"manual_processing_rate_values\": manual_processing_rate_values,\n",
    "    \"general_error_values\": general_error_values,\n",
    "}\n"
   ]
  },
  {
   "cell_type": "code",
   "execution_count": 141,
   "metadata": {},
   "outputs": [
    {
     "data": {
      "image/png": "[encoded data removed]",
      "text/plain": [
       "<Figure size 800x500 with 1 Axes>"
      ]
     },
     "metadata": {},
     "output_type": "display_data"
    }
   ],
   "source": [
    "from matplotlib.ticker import PercentFormatter\n",
    "\n",
    "# Построение графика\n",
    "plt.figure(figsize=(8, 5))\n",
    "\n",
    "# plt.subplot(1, 2, 1)\n",
    "plt.plot(\n",
    "    manual_processing_rate_values,\n",
    "    auto_error_rate_values,\n",
    "    label=\"Ошибка автоматического разбора\",\n",
    ")\n",
    "plt.plot(manual_processing_rate_values, general_error_values, label=\"Общая ошибка\")\n",
    "plt.xlabel(\"Доля ручного разбора\")\n",
    "plt.ylabel(\"Ошибка\")\n",
    "plt.title(\"Зависимости ошибки\")\n",
    "plt.legend()\n",
    "\n",
    "# Установка формата осей в процентах\n",
    "plt.gca().xaxis.set_major_formatter(PercentFormatter(1))\n",
    "# plt.gca().yaxis.set_major_formatter(PercentFormatter(1))\n",
    "\n",
    "# Установка максимального значения оси y\n",
    "plt.ylim(0, 1.0)\n",
    "\n",
    "plt.show()\n"
   ]
  },
  {
   "cell_type": "code",
   "execution_count": 104,
   "metadata": {},
   "outputs": [
    {
     "data": {
      "image/png": "[encoded data removed]",
      "text/plain": [
       "<Figure size 800x500 with 1 Axes>"
      ]
     },
     "metadata": {},
     "output_type": "display_data"
    }
   ],
   "source": [
    "# Определение общих границ для оси y\n",
    "y_min = min(min(auto_error_rate_values), min(manual_processing_rate_values))\n",
    "y_max = max(max(auto_error_rate_values), max(manual_processing_rate_values))\n",
    "\n",
    "# Построение графика\n",
    "plt.figure(figsize=(8, 5))\n",
    "\n",
    "# plt.subplot(1, 2, 1)\n",
    "plt.plot(\n",
    "    threshold_values, auto_error_rate_values, label=\"Ошибка автоматического разбора\"\n",
    ")\n",
    "plt.plot(\n",
    "    threshold_values,\n",
    "    manual_processing_rate_values,\n",
    "    label=\"Доля ручного разбора\",\n",
    ")\n",
    "plt.plot(threshold_values, general_error_values, label=\"Общая ошибка\")\n",
    "plt.xlabel(\"Порог срабатывания\")\n",
    "plt.ylabel(\"Доля\")\n",
    "plt.title(\"Зависимости ошибки и ручного разбора данных\")\n",
    "plt.legend()\n",
    "\n",
    "plt.show()\n"
   ]
  },
  {
   "cell_type": "code",
   "execution_count": 105,
   "metadata": {},
   "outputs": [
    {
     "data": {
      "text/plain": [
       "{'Accuracy@1': 0.815,\n",
       " 'Accuracy@3': 0.973,\n",
       " 'Accuracy@5': 0.973,\n",
       " 'auto_error_rate': 0.185,\n",
       " 'manual_processing_rate': 0.0,\n",
       " 'general_error': 0.185}"
      ]
     },
     "execution_count": 105,
     "metadata": {},
     "output_type": "execute_result"
    }
   ],
   "source": [
    "y_pred, manual_review = find_matches(\n",
    "    x_vec_valid,\n",
    "    region_valid,\n",
    "    reference_id,\n",
    "    reference_vec,\n",
    "    reference_region,\n",
    "    top_k=5,\n",
    "    threshold=-1,\n",
    "    filter_by_region=True,\n",
    "    empty_region=\"all\",  # is ignored if filter_by_region=False\n",
    "    # similarity_method=\"euclidean\",\n",
    "    similarity_method=\"cosine\",\n",
    "    # similarity_method=\"manhattan\",\n",
    ")\n",
    "\n",
    "metrics = mtc.calculate_metrics(y_valid, y_pred, manual_review)\n",
    "metrics"
   ]
  },
  {
   "cell_type": "code",
   "execution_count": null,
   "metadata": {},
   "outputs": [],
   "source": []
  }
 ],
 "metadata": {
  "kernelspec": {
   "display_name": ".venv",
   "language": "python",
   "name": "python3"
  },
  "language_info": {
   "codemirror_mode": {
    "name": "ipython",
    "version": 3
   },
   "file_extension": ".py",
   "mimetype": "text/x-python",
   "name": "python",
   "nbconvert_exporter": "python",
   "pygments_lexer": "ipython3",
   "version": "3.12.3"
  }
 },
 "nbformat": 4,
 "nbformat_minor": 2
}
